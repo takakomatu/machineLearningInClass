{
 "cells": [
  {
   "cell_type": "markdown",
   "metadata": {},
   "source": [
    "# Lesson 13 - Logistic Regression on MNIST Data\n",
    "\n",
    "### The following topics are discussed in this notebook:\n",
    "* Digit classification with Logistic Regression and MNIST dataset.\n"
   ]
  },
  {
   "cell_type": "markdown",
   "metadata": {},
   "source": [
    "The MNIST dataset is a collection of 70,000 handwritten digits. Each digit is stored as a 28x28 array of integers between 1 and 255. Each array element stores the greyscale level of a pixel in a 28x28 image of the digit. \n",
    "\n",
    "MNIST stands for Modified National Institute of Standards and Technology. "
   ]
  },
  {
   "cell_type": "code",
   "execution_count": 1,
   "metadata": {
    "collapsed": true,
    "scrolled": true
   },
   "outputs": [],
   "source": [
    "import numpy as np\n",
    "import pandas as pd\n",
    "import matplotlib.pyplot as plt"
   ]
  },
  {
   "cell_type": "code",
   "execution_count": 2,
   "metadata": {
    "collapsed": true
   },
   "outputs": [],
   "source": [
    "from sklearn.datasets import fetch_mldata"
   ]
  },
  {
   "cell_type": "markdown",
   "metadata": {},
   "source": [
    "## Explore the Dataset"
   ]
  },
  {
   "cell_type": "code",
   "execution_count": 3,
   "metadata": {
    "scrolled": false
   },
   "outputs": [
    {
     "name": "stdout",
     "output_type": "stream",
     "text": [
      "<class 'sklearn.utils.Bunch'>\n",
      "{'DESCR': 'mldata.org dataset: mnist-original', 'COL_NAMES': ['label', 'data'], 'target': array([ 0.,  0.,  0., ...,  9.,  9.,  9.]), 'data': array([[0, 0, 0, ..., 0, 0, 0],\n",
      "       [0, 0, 0, ..., 0, 0, 0],\n",
      "       [0, 0, 0, ..., 0, 0, 0],\n",
      "       ..., \n",
      "       [0, 0, 0, ..., 0, 0, 0],\n",
      "       [0, 0, 0, ..., 0, 0, 0],\n",
      "       [0, 0, 0, ..., 0, 0, 0]], dtype=uint8)}\n"
     ]
    }
   ],
   "source": [
    "mnist = fetch_mldata('MNIST original') #these take so long\n",
    "print(type(mnist))\n",
    "print(mnist)"
   ]
  },
  {
   "cell_type": "code",
   "execution_count": 4,
   "metadata": {
    "scrolled": true
   },
   "outputs": [
    {
     "name": "stdout",
     "output_type": "stream",
     "text": [
      "<class 'numpy.ndarray'>\n",
      "(70000, 784)\n",
      "<class 'numpy.ndarray'>\n",
      "(70000,)\n"
     ]
    }
   ],
   "source": [
    "data = mnist[\"data\"]\n",
    "labels = mnist[\"target\"]  #784 = 28 * 28\n",
    "\n",
    "print(type(data))\n",
    "print(data.shape)\n",
    "\n",
    "print(type(labels))\n",
    "print(labels.shape)"
   ]
  },
  {
   "cell_type": "code",
   "execution_count": 5,
   "metadata": {
    "scrolled": false
   },
   "outputs": [
    {
     "name": "stdout",
     "output_type": "stream",
     "text": [
      "[[  0   0   0   0   0   0   0   0   0   0   0   0   0   0   0   0   0   0   0   0   0   0   0   0   0   0   0   0]\n",
      " [  0   0   0   0   0   0   0   0   0   0   0   0   0   0   0   0   0   0   0   0   0   0   0   0   0   0   0   0]\n",
      " [  0   0   0   0   0   0   0   0   0   0   0   0   0   0   0   0   0   0   0   0   0   0   0   0   0   0   0   0]\n",
      " [  0   0   0   0   0   0   0   0   0   0   0   0   0   0   0   0   0   0   0   0   0   0   0   0   0   0   0   0]\n",
      " [  0   0   0   0   0   0   0   0   0   0   0   0   0   0   0   0   0   0   0   0   0   0   0   0   0   0   0   0]\n",
      " [  0   0   0   0   0   0   0   0   0   0   0   0   0   0   0   0   0   0   0  86 131 225 225 225   0   0   0   0]\n",
      " [  0   0   0   0   0   0   0   0   0   0   0   0   0   0   0   0  13  73 197 253 252 252 252 252   0   0   0   0]\n",
      " [  0   0   0   0   0   0   0   0   0   0   0   0   4  29  29 154 187 252 252 253 252 252 233 145   0   0   0   0]\n",
      " [  0   0   0   0   0   0   0   0   0   0   0   0  29 252 253 252 252 252 252 253 204 112  37   0   0   0   0   0]\n",
      " [  0   0   0   0   0   0   0   0   0   0   0   0 169 253 255 253 228 126   0   0   0   0   0   0   0   0   0   0]\n",
      " [  0   0   0   0   0   0   0   0   0   0   0  98 243 252 253 252 246 130  38   0   0   0   0   0   0   0   0   0]\n",
      " [  0   0   0   0   0   0   0   0   0   0  98 240 252 252 253 252 252 252 221   0   0   0   0   0   0   0   0   0]\n",
      " [  0   0   0   0   0   0   0   0   0   0 225 252 252 236 225 223 230 252 252   0   0   0   0   0   0   0   0   0]\n",
      " [  0   0   0   0   0   0   0   0   0   0 146 252 157  50   0   0  25 205 252   0   0   0   0   0   0   0   0   0]\n",
      " [  0   0   0   0   0   0   0   0   0   0   0   0   0   0   0   0  26 207 253   0   0   0   0   0   0   0   0   0]\n",
      " [  0   0   0   0   0  29  19   0   0   0   0   0   0   0   0   0  73 205 252  79   0   0   0   0   0   0   0   0]\n",
      " [  0   0   0   0 120 215 209 175   0   0   0   0   0   0   0  19 209 252 220  79   0   0   0   0   0   0   0   0]\n",
      " [  0   0   0   0 174 252 252 239 140   0   0   0   0   0  29 104 252 249 177   0   0   0   0   0   0   0   0   0]\n",
      " [  0   0   0   0 174 252 252 223   0   0   0   0   0   0 174 252 252 223   0   0   0   0   0   0   0   0   0   0]\n",
      " [  0   0   0   0 141 241 253 146   0   0   0   0 169 253 255 253 253  84   0   0   0   0   0   0   0   0   0   0]\n",
      " [  0   0   0   0   0 178 252 154  85  85 210 225 243 252 215 121  27   9   0   0   0   0   0   0   0   0   0   0]\n",
      " [  0   0   0   0   0  66 208 220 252 253 252 252 214 195  31   0   0   0   0   0   0   0   0   0   0   0   0   0]\n",
      " [  0   0   0   0   0   0  19  37  84 146 223 114  28   0   0   0   0   0   0   0   0   0   0   0   0   0   0   0]\n",
      " [  0   0   0   0   0   0   0   0   0   0   0   0   0   0   0   0   0   0   0   0   0   0   0   0   0   0   0   0]\n",
      " [  0   0   0   0   0   0   0   0   0   0   0   0   0   0   0   0   0   0   0   0   0   0   0   0   0   0   0   0]\n",
      " [  0   0   0   0   0   0   0   0   0   0   0   0   0   0   0   0   0   0   0   0   0   0   0   0   0   0   0   0]\n",
      " [  0   0   0   0   0   0   0   0   0   0   0   0   0   0   0   0   0   0   0   0   0   0   0   0   0   0   0   0]\n",
      " [  0   0   0   0   0   0   0   0   0   0   0   0   0   0   0   0   0   0   0   0   0   0   0   0   0   0   0   0]]\n"
     ]
    }
   ],
   "source": [
    "np.set_printoptions(linewidth=120)\n",
    "mydigit = data[36000].reshape(28,28)\n",
    "print(mydigit)\n",
    "np.set_printoptions(linewidth=75)  #252 for color r, g, b"
   ]
  },
  {
   "cell_type": "code",
   "execution_count": 6,
   "metadata": {
    "collapsed": true
   },
   "outputs": [],
   "source": [
    "import matplotlib.cm as cm"
   ]
  },
  {
   "cell_type": "code",
   "execution_count": 7,
   "metadata": {
    "scrolled": true
   },
   "outputs": [
    {
     "data": {
      "image/png": "[encoded data removed]",
      "text/plain": [
       "<matplotlib.figure.Figure at 0x177f2cc44e0>"
      ]
     },
     "metadata": {},
     "output_type": "display_data"
    }
   ],
   "source": [
    "plt.imshow(mydigit, cmap=cm.binary) #based on the pixel info, show image\n",
    "plt.axis('off')\n",
    "plt.show()"
   ]
  },
  {
   "cell_type": "code",
   "execution_count": 8,
   "metadata": {
    "collapsed": true
   },
   "outputs": [],
   "source": [
    "from scipy.misc import imresize"
   ]
  },
  {
   "cell_type": "code",
   "execution_count": 3,
   "metadata": {},
   "outputs": [
    {
     "ename": "NameError",
     "evalue": "name 'labels' is not defined",
     "output_type": "error",
     "traceback": [
      "\u001b[1;31m---------------------------------------------------------------------------\u001b[0m",
      "\u001b[1;31mNameError\u001b[0m                                 Traceback (most recent call last)",
      "\u001b[1;32m<ipython-input-3-b48145c73e24>\u001b[0m in \u001b[0;36m<module>\u001b[1;34m()\u001b[0m\n\u001b[1;32m----> 1\u001b[1;33m \u001b[0msel\u001b[0m \u001b[1;33m=\u001b[0m \u001b[0mnp\u001b[0m\u001b[1;33m.\u001b[0m\u001b[0mrandom\u001b[0m\u001b[1;33m.\u001b[0m\u001b[0mchoice\u001b[0m\u001b[1;33m(\u001b[0m\u001b[0mrange\u001b[0m\u001b[1;33m(\u001b[0m\u001b[0mlen\u001b[0m\u001b[1;33m(\u001b[0m\u001b[0mlabels\u001b[0m\u001b[1;33m)\u001b[0m\u001b[1;33m)\u001b[0m\u001b[1;33m,\u001b[0m \u001b[1;36m25\u001b[0m\u001b[1;33m,\u001b[0m \u001b[0mreplace\u001b[0m\u001b[1;33m=\u001b[0m\u001b[1;32mFalse\u001b[0m\u001b[1;33m)\u001b[0m\u001b[1;33m\u001b[0m\u001b[0m\n\u001b[0m\u001b[0;32m      2\u001b[0m \u001b[0mdata_sel\u001b[0m \u001b[1;33m=\u001b[0m \u001b[0mdata\u001b[0m\u001b[1;33m[\u001b[0m\u001b[0msel\u001b[0m\u001b[1;33m]\u001b[0m\u001b[1;33m.\u001b[0m\u001b[0mreshape\u001b[0m\u001b[1;33m(\u001b[0m\u001b[1;36m25\u001b[0m\u001b[1;33m,\u001b[0m \u001b[1;36m28\u001b[0m\u001b[1;33m,\u001b[0m\u001b[1;36m28\u001b[0m\u001b[1;33m)\u001b[0m\u001b[1;33m\u001b[0m\u001b[0m\n\u001b[0;32m      3\u001b[0m \u001b[0mlabels_sel\u001b[0m \u001b[1;33m=\u001b[0m \u001b[0mlabels\u001b[0m\u001b[1;33m[\u001b[0m\u001b[0msel\u001b[0m\u001b[1;33m]\u001b[0m\u001b[1;33m\u001b[0m\u001b[0m\n\u001b[0;32m      4\u001b[0m \u001b[1;33m\u001b[0m\u001b[0m\n\u001b[0;32m      5\u001b[0m \u001b[0mplt\u001b[0m\u001b[1;33m.\u001b[0m\u001b[0mclose\u001b[0m\u001b[1;33m(\u001b[0m\u001b[1;33m)\u001b[0m\u001b[1;33m\u001b[0m\u001b[0m\n",
      "\u001b[1;31mNameError\u001b[0m: name 'labels' is not defined"
     ]
    }
   ],
   "source": [
    "sel = np.random.choice(range(len(labels)), 25, replace=False)\n",
    "data_sel = data[sel].reshape(25, 28,28)\n",
    "labels_sel = labels[sel]\n",
    "\n",
    "plt.close()\n",
    "plt.rcParams[\"figure.figsize\"] = [8,8]\n",
    "for i in range(25):\n",
    "    plt.subplot(5,5,i+1)\n",
    "    plt.imshow(data_sel[i], cmap=cm.binary)\n",
    "    plt.axis('off')\n",
    "    plt.text(1, 28, s = str(int(labels_sel[i])), fontsize=16, color='r')\n",
    "plt.show()\n"
   ]
  },
  {
   "cell_type": "markdown",
   "metadata": {},
   "source": [
    "## Resize Digits"
   ]
  },
  {
   "cell_type": "code",
   "execution_count": 10,
   "metadata": {},
   "outputs": [
    {
     "data": {
      "image/png": "[encoded data removed]",
      "text/plain": [
       "<matplotlib.figure.Figure at 0x177f2cc46a0>"
      ]
     },
     "metadata": {},
     "output_type": "display_data"
    }
   ],
   "source": [
    "mydigit_small = imresize(mydigit, (14,14), interp='nearest')\n",
    "plt.close()\n",
    "plt.rcParams[\"figure.figsize\"] = [4,4]\n",
    "plt.imshow(mydigit_small, cmap=cm.binary)\n",
    "plt.axis('off')\n",
    "plt.show()"
   ]
  },
  {
   "cell_type": "code",
   "execution_count": 11,
   "metadata": {},
   "outputs": [
    {
     "name": "stdout",
     "output_type": "stream",
     "text": [
      "(70000, 784)\n"
     ]
    }
   ],
   "source": [
    "print(data.shape)"
   ]
  },
  {
   "cell_type": "code",
   "execution_count": 12,
   "metadata": {},
   "outputs": [
    {
     "name": "stdout",
     "output_type": "stream",
     "text": [
      "(70000, 196)\n"
     ]
    }
   ],
   "source": [
    "def resize_digit(row):\n",
    "    temp = row.reshape(28,28)\n",
    "    temp = imresize(temp, (14,14), interp='nearest')\n",
    "    temp = temp.reshape(196,)\n",
    "    return temp\n",
    "\n",
    "digits_sm = np.apply_along_axis(resize_digit,axis=1,arr=data)\n",
    "#digits_sm = digits_sm.reshape(70000,196)\n",
    "print(digits_sm.shape)"
   ]
  },
  {
   "cell_type": "code",
   "execution_count": 13,
   "metadata": {},
   "outputs": [
    {
     "data": {
      "image/png": "[encoded data removed]",
      "text/plain": [
       "<matplotlib.figure.Figure at 0x177f73de668>"
      ]
     },
     "metadata": {},
     "output_type": "display_data"
    }
   ],
   "source": [
    "plt.close()\n",
    "plt.rcParams[\"figure.figsize\"] = [4,4]\n",
    "plt.imshow(digits_sm[36000].reshape(14,14), cmap=cm.binary) instead of having 28 times 28, have 14 by 14\n",
    "plt.axis('off')\n",
    "plt.show()"
   ]
  },
  {
   "cell_type": "markdown",
   "metadata": {},
   "source": [
    "## Apply Split Classifier"
   ]
  },
  {
   "cell_type": "code",
   "execution_count": 14,
   "metadata": {
    "collapsed": true
   },
   "outputs": [],
   "source": [
    "import MLUtilities as mlu"
   ]
  },
  {
   "cell_type": "code",
   "execution_count": 16,
   "metadata": {
    "scrolled": false
   },
   "outputs": [
    {
     "name": "stdout",
     "output_type": "stream",
     "text": [
      "+----------------------------+\n",
      "|  Split Classifier Summary  |\n",
      "+----------------------------+\n",
      "Number of training observations: 1000\n",
      "Axis/Feature split: 82\n",
      "Threshold value: 71.5\n",
      "Predicted class below threshold: not eight\n",
      "Predicted class above threshold: eight\n",
      "Training accuracy: 0.907 \n",
      "\n"
     ]
    }
   ],
   "source": [
    "np.random.seed(1)\n",
    "sel = np.random.choice(range(len(labels)), 1000, replace=False) # pick 1000 instead of 7000 for the sake of time\n",
    "\n",
    "X_sc = digits_sm[sel].astype(int)\n",
    "y_sc = np.where(labels[sel] == 8, \"eight\", \"not eight\") # if something is 8 return \"eight\" if not 8, return \"not eight\"\n",
    "\n",
    "sc8 = mlu.SplitClassifier(X_sc,y_sc) # pick up only one picel?\n",
    "sc8.summary() # .907 is no wonder cuz from 0 to 10 the probability to recognize non-8 is 90%\n",
    "#takes 196 * 70000^2"
   ]
  },
  {
   "cell_type": "markdown",
   "metadata": {},
   "source": [
    "## Logistic Regression"
   ]
  },
  {
   "cell_type": "code",
   "execution_count": 17,
   "metadata": {
    "collapsed": true
   },
   "outputs": [],
   "source": [
    "from sklearn.linear_model import LogisticRegression\n",
    "from sklearn.model_selection import train_test_split"
   ]
  },
  {
   "cell_type": "code",
   "execution_count": 18,
   "metadata": {},
   "outputs": [
    {
     "name": "stdout",
     "output_type": "stream",
     "text": [
      "(56000, 196)\n",
      "(14000, 196)\n"
     ]
    }
   ],
   "source": [
    "X_train, X_test, labels_train, labels_test = train_test_split(digits_sm, labels, test_size = 0.2, random_state=1)\n",
    "#labels_train, labels_test look like 1, 3,4,6,7,2,4,....\n",
    "y_train = np.where(labels_train == 8, 'eight', 'not eight')\n",
    "y_test = np.where(labels_test == 8, 'eight', 'not eight')\n",
    "#y_train, y_test look like 'eight', 'not eight', 'eight', 'not eight', 'eight', 'not eight', 'not eight' ,  'eight'\n",
    "print(X_train.shape)\n",
    "print(X_test.shape)"
   ]
  },
  {
   "cell_type": "code",
   "execution_count": 19,
   "metadata": {
    "scrolled": true
   },
   "outputs": [
    {
     "name": "stdout",
     "output_type": "stream",
     "text": [
      "Training Accuracy: 0.955892857143\n",
      "Testing Accuracy: 0.957857142857\n"
     ]
    }
   ],
   "source": [
    "digit_lr = LogisticRegression(C=1e90)  # num of beta values is 197 = 196 features + beta 0 \n",
    "# p hat = 1 / (1 + beta0 + feature1*beta1 + feature2*beta2 + ...)\n",
    "digit_lr.fit(X_train,y_train) # LogisticRegression is taking all pixels tho SplitClassifier isnt \n",
    "\n",
    "print(\"Training Accuracy:\", digit_lr.score(X_train,y_train))\n",
    "print(\"Testing Accuracy:\", digit_lr.score(X_test,y_test))  #not overfitting cuz Training Accuracy isnt far away from Testing Accuracy\n",
    "\n",
    "# the graph shows when trying detecting 0 is better 99.3 %"
   ]
  },
  {
   "cell_type": "markdown",
   "metadata": {},
   "source": [
    "\n",
    "| Digit | Training Accuracy | Testing Accuracy |\n",
    "|---|---|---|\n",
    "| 0 | 0.993 | 0.991 |\n",
    "| 1 | 0.992 | 0.992 |\n",
    "| 2 | 0.979 | 0.979 |\n",
    "| 3 | 0.974 | 0.972 |\n",
    "| 4 | 0.981 | 0.981 |\n",
    "| 5 | 0.971 | 0.970 |\n",
    "| 6 | 0.987 | 0.987 |\n",
    "| 7 | 0.984 | 0.984 |\n",
    "| 8 | 0.956 | 0.958 |\n",
    "| 9 | 0.962 | 0.962 |\n"
   ]
  },
  {
   "cell_type": "markdown",
   "metadata": {},
   "source": [
    "## Analyze 8-Classifier"
   ]
  },
  {
   "cell_type": "code",
   "execution_count": 20,
   "metadata": {
    "collapsed": true
   },
   "outputs": [],
   "source": [
    "from sklearn.metrics import confusion_matrix"
   ]
  },
  {
   "cell_type": "code",
   "execution_count": 21,
   "metadata": {},
   "outputs": [
    {
     "name": "stdout",
     "output_type": "stream",
     "text": [
      "[[  931   412]\n",
      " [  178 12479]]\n"
     ]
    }
   ],
   "source": [
    "y_pred = digit_lr.predict(X_test)\n",
    "print(confusion_matrix(y_test, y_pred))\n",
    "# the first colmun is for eight and the second columun corresponds to first column"
   ]
  },
  {
   "cell_type": "code",
   "execution_count": 22,
   "metadata": {
    "collapsed": true
   },
   "outputs": [],
   "source": [
    "from sklearn.metrics import classification_report"
   ]
  },
  {
   "cell_type": "code",
   "execution_count": 23,
   "metadata": {},
   "outputs": [
    {
     "name": "stdout",
     "output_type": "stream",
     "text": [
      "             precision    recall  f1-score   support\n",
      "\n",
      "      eight       0.84      0.69      0.76      1343\n",
      "  not eight       0.97      0.99      0.98     12657\n",
      "\n",
      "avg / total       0.96      0.96      0.96     14000\n",
      "\n"
     ]
    }
   ],
   "source": [
    "print(classification_report(y_test, y_pred))"
   ]
  },
  {
   "cell_type": "code",
   "execution_count": 25,
   "metadata": {},
   "outputs": [
    {
     "name": "stdout",
     "output_type": "stream",
     "text": [
      "(590,)\n"
     ]
    }
   ],
   "source": [
    "wrong_pred = y_test != y_pred\n",
    "X_wrong = X_test[wrong_pred,:]\n",
    "labels_wrong = labels_test[wrong_pred]\n",
    "y_wrong = y_test[wrong_pred]\n",
    "print(y_wrong.shape)"
   ]
  },
  {
   "cell_type": "code",
   "execution_count": 28,
   "metadata": {},
   "outputs": [
    {
     "data": {
      "image/png": "[encoded data removed]",
      "text/plain": [
       "<matplotlib.figure.Figure at 0x177820430f0>"
      ]
     },
     "metadata": {},
     "output_type": "display_data"
    }
   ],
   "source": [
    "sel = np.random.choice(range(len(y_wrong)), 25, replace=False)\n",
    "X_wrong_sel = X_wrong[sel].reshape(25, 14,14)\n",
    "labels_wrong_sel = labels_wrong[sel]\n",
    "\n",
    "plt.close()\n",
    "plt.rcParams[\"figure.figsize\"] = [8,8]\n",
    "for i in range(25):\n",
    "    plt.subplot(5,5,i+1)\n",
    "    plt.imshow(X_wrong_sel[i], cmap=cm.binary)\n",
    "    plt.text(-1, 14, s = str(int(labels_wrong_sel[i])), fontsize=16, color='r')\n",
    "    plt.axis('off') \n",
    "plt.show()     # the images below are images that were classified as 8, including actual 8 and actual non-eight"
   ]
  },
  {
   "cell_type": "markdown",
   "metadata": {},
   "source": [
    "## Multiclass Classification with Logistic Regression"
   ]
  },
  {
   "cell_type": "code",
   "execution_count": 29,
   "metadata": {},
   "outputs": [
    {
     "name": "stdout",
     "output_type": "stream",
     "text": [
      "Training Accuracy: 0.910625\n",
      "Testing Accuracy: 0.905785714286\n"
     ]
    }
   ],
   "source": [
    "X_train, X_test, y_train, y_test = train_test_split(digits_sm, labels, test_size = 0.2, random_state=1)\n",
    "\n",
    "digit_lr = LogisticRegression()\n",
    "digit_lr.fit(X_train,y_train) # consider all probabilities of 0-9 and take the highest one\n",
    "\n",
    "print(\"Training Accuracy:\", digit_lr.score(X_train,y_train))\n",
    "print(\"Testing Accuracy:\", digit_lr.score(X_test,y_test))"
   ]
  },
  {
   "cell_type": "code",
   "execution_count": 30,
   "metadata": {},
   "outputs": [
    {
     "name": "stdout",
     "output_type": "stream",
     "text": [
      "[[1347    0    5    3    1    4   10    1   12    2]\n",
      " [   0 1587    4    5    1    8    0    2   20    2]\n",
      " [  15   13 1279   26   19    5   17   14   45    8]\n",
      " [   4    9   40 1241    6   47    8   22   39   15]\n",
      " [   2    7    8    3 1217    5   10    3    9   67]\n",
      " [  11    4    8   49   19 1030   32    3   49   24]\n",
      " [   6    9   20    1   10   19 1318    1   12    1]\n",
      " [   8   12   22    5   18    3    0 1350    6   51]\n",
      " [  11   34   21   39    5   42   15    9 1141   26]\n",
      " [  10    4    7   36   50   10    0   43    8 1171]]\n"
     ]
    }
   ],
   "source": [
    "y_pred = digit_lr.predict(X_test)\n",
    "print(confusion_matrix(y_test, y_pred))"
   ]
  },
  {
   "cell_type": "code",
   "execution_count": 31,
   "metadata": {},
   "outputs": [
    {
     "data": {
      "text/html": [
       "<div>\n",
       "<style>\n",
       "    .dataframe thead tr:only-child th {\n",
       "        text-align: right;\n",
       "    }\n",
       "\n",
       "    .dataframe thead th {\n",
       "        text-align: left;\n",
       "    }\n",
       "\n",
       "    .dataframe tbody tr th {\n",
       "        vertical-align: top;\n",
       "    }\n",
       "</style>\n",
       "<table border=\"1\" class=\"dataframe\">\n",
       "  <thead>\n",
       "    <tr style=\"text-align: right;\">\n",
       "      <th></th>\n",
       "      <th>0</th>\n",
       "      <th>1</th>\n",
       "      <th>2</th>\n",
       "      <th>3</th>\n",
       "      <th>4</th>\n",
       "      <th>5</th>\n",
       "      <th>6</th>\n",
       "      <th>7</th>\n",
       "      <th>8</th>\n",
       "      <th>9</th>\n",
       "    </tr>\n",
       "  </thead>\n",
       "  <tbody>\n",
       "    <tr>\n",
       "      <th>0</th>\n",
       "      <td>1347</td>\n",
       "      <td>0</td>\n",
       "      <td>5</td>\n",
       "      <td>3</td>\n",
       "      <td>1</td>\n",
       "      <td>4</td>\n",
       "      <td>10</td>\n",
       "      <td>1</td>\n",
       "      <td>12</td>\n",
       "      <td>2</td>\n",
       "    </tr>\n",
       "    <tr>\n",
       "      <th>1</th>\n",
       "      <td>0</td>\n",
       "      <td>1587</td>\n",
       "      <td>4</td>\n",
       "      <td>5</td>\n",
       "      <td>1</td>\n",
       "      <td>8</td>\n",
       "      <td>0</td>\n",
       "      <td>2</td>\n",
       "      <td>20</td>\n",
       "      <td>2</td>\n",
       "    </tr>\n",
       "    <tr>\n",
       "      <th>2</th>\n",
       "      <td>15</td>\n",
       "      <td>13</td>\n",
       "      <td>1279</td>\n",
       "      <td>26</td>\n",
       "      <td>19</td>\n",
       "      <td>5</td>\n",
       "      <td>17</td>\n",
       "      <td>14</td>\n",
       "      <td>45</td>\n",
       "      <td>8</td>\n",
       "    </tr>\n",
       "    <tr>\n",
       "      <th>3</th>\n",
       "      <td>4</td>\n",
       "      <td>9</td>\n",
       "      <td>40</td>\n",
       "      <td>1241</td>\n",
       "      <td>6</td>\n",
       "      <td>47</td>\n",
       "      <td>8</td>\n",
       "      <td>22</td>\n",
       "      <td>39</td>\n",
       "      <td>15</td>\n",
       "    </tr>\n",
       "    <tr>\n",
       "      <th>4</th>\n",
       "      <td>2</td>\n",
       "      <td>7</td>\n",
       "      <td>8</td>\n",
       "      <td>3</td>\n",
       "      <td>1217</td>\n",
       "      <td>5</td>\n",
       "      <td>10</td>\n",
       "      <td>3</td>\n",
       "      <td>9</td>\n",
       "      <td>67</td>\n",
       "    </tr>\n",
       "    <tr>\n",
       "      <th>5</th>\n",
       "      <td>11</td>\n",
       "      <td>4</td>\n",
       "      <td>8</td>\n",
       "      <td>49</td>\n",
       "      <td>19</td>\n",
       "      <td>1030</td>\n",
       "      <td>32</td>\n",
       "      <td>3</td>\n",
       "      <td>49</td>\n",
       "      <td>24</td>\n",
       "    </tr>\n",
       "    <tr>\n",
       "      <th>6</th>\n",
       "      <td>6</td>\n",
       "      <td>9</td>\n",
       "      <td>20</td>\n",
       "      <td>1</td>\n",
       "      <td>10</td>\n",
       "      <td>19</td>\n",
       "      <td>1318</td>\n",
       "      <td>1</td>\n",
       "      <td>12</td>\n",
       "      <td>1</td>\n",
       "    </tr>\n",
       "    <tr>\n",
       "      <th>7</th>\n",
       "      <td>8</td>\n",
       "      <td>12</td>\n",
       "      <td>22</td>\n",
       "      <td>5</td>\n",
       "      <td>18</td>\n",
       "      <td>3</td>\n",
       "      <td>0</td>\n",
       "      <td>1350</td>\n",
       "      <td>6</td>\n",
       "      <td>51</td>\n",
       "    </tr>\n",
       "    <tr>\n",
       "      <th>8</th>\n",
       "      <td>11</td>\n",
       "      <td>34</td>\n",
       "      <td>21</td>\n",
       "      <td>39</td>\n",
       "      <td>5</td>\n",
       "      <td>42</td>\n",
       "      <td>15</td>\n",
       "      <td>9</td>\n",
       "      <td>1141</td>\n",
       "      <td>26</td>\n",
       "    </tr>\n",
       "    <tr>\n",
       "      <th>9</th>\n",
       "      <td>10</td>\n",
       "      <td>4</td>\n",
       "      <td>7</td>\n",
       "      <td>36</td>\n",
       "      <td>50</td>\n",
       "      <td>10</td>\n",
       "      <td>0</td>\n",
       "      <td>43</td>\n",
       "      <td>8</td>\n",
       "      <td>1171</td>\n",
       "    </tr>\n",
       "  </tbody>\n",
       "</table>\n",
       "</div>"
      ],
      "text/plain": [
       "      0     1     2     3     4     5     6     7     8     9\n",
       "0  1347     0     5     3     1     4    10     1    12     2\n",
       "1     0  1587     4     5     1     8     0     2    20     2\n",
       "2    15    13  1279    26    19     5    17    14    45     8\n",
       "3     4     9    40  1241     6    47     8    22    39    15\n",
       "4     2     7     8     3  1217     5    10     3     9    67\n",
       "5    11     4     8    49    19  1030    32     3    49    24\n",
       "6     6     9    20     1    10    19  1318     1    12     1\n",
       "7     8    12    22     5    18     3     0  1350     6    51\n",
       "8    11    34    21    39     5    42    15     9  1141    26\n",
       "9    10     4     7    36    50    10     0    43     8  1171"
      ]
     },
     "execution_count": 31,
     "metadata": {},
     "output_type": "execute_result"
    }
   ],
   "source": [
    "conf_mat = pd.DataFrame(confusion_matrix(y_test, y_pred))\n",
    "conf_mat.colums = ['0','1','2','3','4','5','6','7','8','9']\n",
    "conf_mat.index = ['0','1','2','3','4','5','6','7','8','9']\n",
    "conf_mat   # the numbers on the diagnal is correct "
   ]
  },
  {
   "cell_type": "code",
   "execution_count": 32,
   "metadata": {},
   "outputs": [
    {
     "name": "stdout",
     "output_type": "stream",
     "text": [
      "             precision    recall  f1-score   support\n",
      "\n",
      "        0.0       0.95      0.97      0.96      1385\n",
      "        1.0       0.95      0.97      0.96      1629\n",
      "        2.0       0.90      0.89      0.90      1441\n",
      "        3.0       0.88      0.87      0.87      1431\n",
      "        4.0       0.90      0.91      0.91      1331\n",
      "        5.0       0.88      0.84      0.86      1229\n",
      "        6.0       0.93      0.94      0.94      1397\n",
      "        7.0       0.93      0.92      0.92      1475\n",
      "        8.0       0.85      0.85      0.85      1343\n",
      "        9.0       0.86      0.87      0.87      1339\n",
      "\n",
      "avg / total       0.91      0.91      0.91     14000\n",
      "\n"
     ]
    }
   ],
   "source": [
    "print(classification_report(y_test, y_pred))"
   ]
  },
  {
   "cell_type": "code",
   "execution_count": 34,
   "metadata": {},
   "outputs": [
    {
     "data": {
      "image/png": "[encoded data removed]",
      "text/plain": [
       "<matplotlib.figure.Figure at 0x177f69d1b00>"
      ]
     },
     "metadata": {},
     "output_type": "display_data"
    }
   ],
   "source": [
    "wrong_pred = y_test != y_pred\n",
    "X_test_wrong = X_test[wrong_pred,:]\n",
    "y_test_wrong = y_test[wrong_pred]\n",
    "y_pred_wrong = y_pred[wrong_pred]\n",
    "\n",
    "sel = np.random.choice(range(len(y_test_wrong)), 49, replace=False)\n",
    "X_sel = X_test_wrong[sel].reshape(49, 14,14)\n",
    "y_sel = y_test_wrong[sel]\n",
    "y_pred_sel = y_pred_wrong[sel]\n",
    "\n",
    "plt.close()\n",
    "plt.rcParams[\"figure.figsize\"] = [12,12]\n",
    "for i in range(49):\n",
    "    plt.subplot(7,7,i+1)\n",
    "    plt.imshow(X_sel[i], cmap=cm.binary)\n",
    "    plt.text(-1, 14, s = str(int(y_sel[i])), fontsize=16, color='r')\n",
    "    plt.text(-1, 10, s = str(int(y_pred_sel[i])), fontsize=16, color='b')\n",
    "    plt.axis('off')\n",
    "plt.show()      # red is actual label and blue one is digit that classifier judged"
   ]
  },
  {
   "cell_type": "code",
   "execution_count": null,
   "metadata": {
    "collapsed": true
   },
   "outputs": [],
   "source": []
  },
  {
   "cell_type": "code",
   "execution_count": null,
   "metadata": {
    "collapsed": true
   },
   "outputs": [],
   "source": []
  }
 ],
 "metadata": {
  "kernelspec": {
   "display_name": "Python 3",
   "language": "python",
   "name": "python3"
  },
  "language_info": {
   "codemirror_mode": {
    "name": "ipython",
    "version": 3
   },
   "file_extension": ".py",
   "mimetype": "text/x-python",
   "name": "python",
   "nbconvert_exporter": "python",
   "pygments_lexer": "ipython3",
   "version": "3.6.3"
  },
  "widgets": {
   "state": {
    "59ddc78617594ae2a66b9c9e95e2dd37": {
     "views": [
      {
       "cell_index": 12
      }
     ]
    }
   },
   "version": "1.2.0"
  }
 },
 "nbformat": 4,
 "nbformat_minor": 2
}
