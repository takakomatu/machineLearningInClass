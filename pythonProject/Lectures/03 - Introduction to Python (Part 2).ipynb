{
 "cells": [
  {
   "cell_type": "markdown",
   "metadata": {},
   "source": [
    "# Lesson 03 - Introduction to Python (Part 2)\n",
    "\n",
    "### The following topics are discussed in this notebook:\n",
    "* Conditional statements\n",
    "* For and while loops\n",
    "* Functions\n",
    "* Classes\n",
    "\n",
    "### Additional Resources\n",
    "* Chapters 03, 05, 07, and 15  of **Think Python**.\n",
    "* [DataCamp: Intermediate Python for Data Science](https://www.datacamp.com/courses/intermediate-python-for-data-science)\n",
    "* [DataCamp: Python Data Science Toolbox (Part 1)](https://www.datacamp.com/courses/python-data-science-toolbox-part-1)\n",
    "\n"
   ]
  },
  {
   "cell_type": "markdown",
   "metadata": {},
   "source": [
    "## Conditional Statements"
   ]
  },
  {
   "cell_type": "code",
   "execution_count": 35,
   "metadata": {},
   "outputs": [
    {
     "name": "stdout",
     "output_type": "stream",
     "text": [
      "Medium\n"
     ]
    }
   ],
   "source": [
    "x = 17\n",
    "\n",
    "if x < 10:\n",
    "    print('Low')\n",
    "elif x < 20:\n",
    "    print('Medium')\n",
    "else:\n",
    "    print('High')"
   ]
  },
  {
   "cell_type": "markdown",
   "metadata": {},
   "source": [
    "## For Loops"
   ]
  },
  {
   "cell_type": "code",
   "execution_count": 3,
   "metadata": {},
   "outputs": [
    {
     "name": "stdout",
     "output_type": "stream",
     "text": [
      "The square of 1 is 1 .\n",
      "The square of 2 is 4 .\n",
      "The square of 3 is 9 .\n",
      "The square of 4 is 16 .\n",
      "The square of 5 is 25 .\n"
     ]
    }
   ],
   "source": [
    "for i in range(1,6):\n",
    "    print(\"The square of\", i, \"is\", i**2, \".\")\n",
    "    #print(\"The square of \" + str(i) + \" is \" + str(i**2) + \".\")"
   ]
  },
  {
   "cell_type": "code",
   "execution_count": 5,
   "metadata": {
    "scrolled": true
   },
   "outputs": [
    {
     "name": "stdout",
     "output_type": "stream",
     "text": [
      "[6, 8, 9, 5]\n"
     ]
    }
   ],
   "source": [
    "list_a = [4, 7, 3, 2]\n",
    "list_b = [2, 1, 6, 3]\n",
    "list_sum = []\n",
    "\n",
    "for i in range(0, len(list_a)):\n",
    "    list_sum.append(list_a[i] + list_b[i])\n",
    "    \n",
    "print(list_sum)"
   ]
  },
  {
   "cell_type": "code",
   "execution_count": 8,
   "metadata": {
    "scrolled": false
   },
   "outputs": [
    {
     "name": "stdout",
     "output_type": "stream",
     "text": [
      "[16, 49, 9, 4]\n"
     ]
    }
   ],
   "source": [
    "list_a_squared = []\n",
    "for element in list_a:\n",
    "    list_a_squared.append(element**2)\n",
    "    \n",
    "print(list_a_squared)"
   ]
  },
  {
   "cell_type": "markdown",
   "metadata": {},
   "source": [
    "## Ranges"
   ]
  },
  {
   "cell_type": "code",
   "execution_count": 9,
   "metadata": {},
   "outputs": [
    {
     "name": "stdout",
     "output_type": "stream",
     "text": [
      "range(0, 8)\n",
      "<class 'range'>\n"
     ]
    }
   ],
   "source": [
    "rng = range(0,8)\n",
    "print(rng)\n",
    "print(type(rng))"
   ]
  },
  {
   "cell_type": "code",
   "execution_count": 10,
   "metadata": {
    "scrolled": true
   },
   "outputs": [
    {
     "name": "stdout",
     "output_type": "stream",
     "text": [
      "[0, 1, 2, 3, 4, 5, 6, 7]\n"
     ]
    }
   ],
   "source": [
    "list0to7 = list(rng)\n",
    "print(list0to7)"
   ]
  },
  {
   "cell_type": "code",
   "execution_count": 12,
   "metadata": {},
   "outputs": [
    {
     "name": "stdout",
     "output_type": "stream",
     "text": [
      "[0, 1, 2, 3, 4, 5, 6, 7, 8, 9, 10]\n"
     ]
    }
   ],
   "source": [
    "print(list(range(11)))"
   ]
  },
  {
   "cell_type": "markdown",
   "metadata": {},
   "source": [
    "## While Loops"
   ]
  },
  {
   "cell_type": "markdown",
   "metadata": {},
   "source": [
    "The code in the cell below calculates every Fibonacci number less than 1000."
   ]
  },
  {
   "cell_type": "code",
   "execution_count": 21,
   "metadata": {},
   "outputs": [
    {
     "name": "stdout",
     "output_type": "stream",
     "text": [
      "[0, 1, 1, 2, 3, 5, 8, 13, 21, 34, 55, 89, 144, 233, 377, 610, 987]\n"
     ]
    }
   ],
   "source": [
    "fib = [0, 1]\n",
    "temp = fib[-1] + fib[-2]\n",
    "\n",
    "while  temp < 1000:\n",
    "    fib.append(temp)\n",
    "    temp = fib[-1] + fib[-2]\n",
    "    \n",
    "print(fib)"
   ]
  },
  {
   "cell_type": "markdown",
   "metadata": {},
   "source": [
    "The code in the cell below finds all factors of the integer 14,267,352."
   ]
  },
  {
   "cell_type": "code",
   "execution_count": 18,
   "metadata": {},
   "outputs": [
    {
     "name": "stdout",
     "output_type": "stream",
     "text": [
      "[2, 2, 2, 3, 11, 11, 17, 17, 17]\n"
     ]
    }
   ],
   "source": [
    "x = 14267352\n",
    "divisor = 2\n",
    "factors = []\n",
    "\n",
    "while(x > 1):\n",
    "    while(x % divisor == 0):\n",
    "        x = x / divisor\n",
    "        factors.append(divisor)    \n",
    "    divisor += 1\n",
    "    \n",
    "print(factors)"
   ]
  },
  {
   "cell_type": "markdown",
   "metadata": {},
   "source": [
    "In the next example, approximate pi using the following series:\n",
    "\n",
    "$\\pi = 4 - \\frac{4}{3} + \\frac{4}{5} - \\frac{4}{7} + \\frac{4}{9} - \\frac{4}{11} +... $.\n"
   ]
  },
  {
   "cell_type": "code",
   "execution_count": 34,
   "metadata": {},
   "outputs": [
    {
     "name": "stdout",
     "output_type": "stream",
     "text": [
      "3.141597653564762\n"
     ]
    }
   ],
   "source": [
    "n = 1\n",
    "pi_approx = 0\n",
    "done = False\n",
    "\n",
    "while(not done):\n",
    "    new_term = 4 / (2*n - 1)\n",
    "    \n",
    "    if n % 2 == 1:\n",
    "        pi_approx += new_term\n",
    "    else:\n",
    "        pi_approx -= new_term\n",
    "        \n",
    "    n += 1\n",
    "    \n",
    "    if new_term < 0.00001:\n",
    "        done = True\n",
    "\n",
    "print(pi_approx)\n"
   ]
  },
  {
   "cell_type": "markdown",
   "metadata": {},
   "source": [
    "## Functions"
   ]
  },
  {
   "cell_type": "code",
   "execution_count": 42,
   "metadata": {
    "collapsed": true,
    "scrolled": false
   },
   "outputs": [],
   "source": [
    "def add(x, y):\n",
    "    return x + y"
   ]
  },
  {
   "cell_type": "code",
   "execution_count": 43,
   "metadata": {},
   "outputs": [
    {
     "name": "stdout",
     "output_type": "stream",
     "text": [
      "13\n"
     ]
    }
   ],
   "source": [
    "print(add(7,6))"
   ]
  },
  {
   "cell_type": "markdown",
   "metadata": {},
   "source": [
    "We can specify default parameter values in the function declaration."
   ]
  },
  {
   "cell_type": "code",
   "execution_count": 39,
   "metadata": {
    "collapsed": true
   },
   "outputs": [],
   "source": [
    "def sum_power(arglist, exp=1):\n",
    "    total = 0\n",
    "    for i in range(0, len(arglist)):\n",
    "        total += arglist[i]**exp\n",
    "        \n",
    "    return total "
   ]
  },
  {
   "cell_type": "code",
   "execution_count": 77,
   "metadata": {},
   "outputs": [
    {
     "name": "stdout",
     "output_type": "stream",
     "text": [
      "7\n",
      "21\n",
      "73\n",
      "16513\n"
     ]
    }
   ],
   "source": [
    "my_list = [4,2,1]\n",
    "print(sum_power(my_list))\n",
    "print(sum_power(my_list, 2))\n",
    "print(sum_power(my_list, 3))\n",
    "print(sum_power(my_list, 7))"
   ]
  },
  {
   "cell_type": "markdown",
   "metadata": {},
   "source": [
    "The next cell contains an example of a recursive function. "
   ]
  },
  {
   "cell_type": "code",
   "execution_count": 44,
   "metadata": {
    "collapsed": true
   },
   "outputs": [],
   "source": [
    "def factorial(n):\n",
    "    if n == 1:\n",
    "        return 1\n",
    "    else: \n",
    "        return n * factorial(n - 1)"
   ]
  },
  {
   "cell_type": "code",
   "execution_count": 46,
   "metadata": {},
   "outputs": [
    {
     "name": "stdout",
     "output_type": "stream",
     "text": [
      "1\n",
      "2\n",
      "6\n",
      "24\n",
      "120\n",
      "720\n",
      "5040\n",
      "40320\n",
      "362880\n"
     ]
    }
   ],
   "source": [
    "for i in range(1, 10):\n",
    "    print(factorial(i))"
   ]
  },
  {
   "cell_type": "markdown",
   "metadata": {},
   "source": [
    "It is possible for a Python function to return multiple values. To do so, simply list all of the values to be returned within the return statement, separated by commas. "
   ]
  },
  {
   "cell_type": "code",
   "execution_count": 56,
   "metadata": {},
   "outputs": [
    {
     "name": "stdout",
     "output_type": "stream",
     "text": [
      "32\n",
      "25\n"
     ]
    }
   ],
   "source": [
    "def power(a,b):\n",
    "    return a**b, b**a\n",
    "\n",
    "a,b = power(2,5)\n",
    "print(a)\n",
    "print(b)"
   ]
  },
  {
   "cell_type": "markdown",
   "metadata": {},
   "source": [
    "## Variable Scope\n",
    "\n",
    "Any variable that is defined outside of a function is called a **global variable** and is said to exist within the **global scope**. Such variables are accessible from within Python functions. Variables defined within a function are **local** to that function. "
   ]
  },
  {
   "cell_type": "code",
   "execution_count": 47,
   "metadata": {
    "collapsed": true
   },
   "outputs": [],
   "source": [
    "def print_a_and_b():\n",
    "    b = 15\n",
    "    print(a)\n",
    "    print(b)\n",
    "    \n",
    "a = 37"
   ]
  },
  {
   "cell_type": "code",
   "execution_count": 48,
   "metadata": {},
   "outputs": [
    {
     "name": "stdout",
     "output_type": "stream",
     "text": [
      "37\n",
      "15\n"
     ]
    }
   ],
   "source": [
    "print_a_and_b()"
   ]
  },
  {
   "cell_type": "code",
   "execution_count": 49,
   "metadata": {},
   "outputs": [
    {
     "name": "stdout",
     "output_type": "stream",
     "text": [
      "37\n"
     ]
    }
   ],
   "source": [
    "print(a)"
   ]
  },
  {
   "cell_type": "code",
   "execution_count": 50,
   "metadata": {},
   "outputs": [
    {
     "ename": "NameError",
     "evalue": "name 'b' is not defined",
     "output_type": "error",
     "traceback": [
      "\u001b[1;31m---------------------------------------------------------------------------\u001b[0m",
      "\u001b[1;31mNameError\u001b[0m                                 Traceback (most recent call last)",
      "\u001b[1;32m<ipython-input-50-4851c8fca996>\u001b[0m in \u001b[0;36m<module>\u001b[1;34m()\u001b[0m\n\u001b[1;32m----> 1\u001b[1;33m \u001b[0mprint\u001b[0m\u001b[1;33m(\u001b[0m\u001b[0mb\u001b[0m\u001b[1;33m)\u001b[0m\u001b[1;33m\u001b[0m\u001b[0m\n\u001b[0m",
      "\u001b[1;31mNameError\u001b[0m: name 'b' is not defined"
     ]
    }
   ],
   "source": [
    "print(b)"
   ]
  },
  {
   "cell_type": "markdown",
   "metadata": {},
   "source": [
    "Although functions can access variables defined within the global scope, they are not generally allowed to alter global variables. "
   ]
  },
  {
   "cell_type": "code",
   "execution_count": 54,
   "metadata": {},
   "outputs": [
    {
     "name": "stdout",
     "output_type": "stream",
     "text": [
      "37\n",
      "50\n",
      "37\n"
     ]
    }
   ],
   "source": [
    "def set_a_v1():\n",
    "    a = 50\n",
    "    return a\n",
    "\n",
    "a = 37\n",
    "print(a)\n",
    "print(set_a_v1())\n",
    "print(a)"
   ]
  },
  {
   "cell_type": "markdown",
   "metadata": {},
   "source": [
    "We can provide a function with permission to alter global variables by including within the function a line consisting of the global keyword followed by the name of a global variable we wish to alter."
   ]
  },
  {
   "cell_type": "code",
   "execution_count": 55,
   "metadata": {},
   "outputs": [
    {
     "name": "stdout",
     "output_type": "stream",
     "text": [
      "37\n",
      "50\n",
      "50\n"
     ]
    }
   ],
   "source": [
    "def set_a_v2():\n",
    "    global a \n",
    "    a = 50\n",
    "    return a\n",
    "\n",
    "a = 37\n",
    "print(a)\n",
    "print(set_a_v2())\n",
    "print(a)"
   ]
  },
  {
   "cell_type": "markdown",
   "metadata": {},
   "source": [
    "## Classses\n",
    "\n",
    "A **class** is essentially a user-defined data type. When we define a class, we create a template that specifies the variables and methods that are contains in each example, or **instance** of the class."
   ]
  },
  {
   "cell_type": "code",
   "execution_count": 75,
   "metadata": {
    "collapsed": true
   },
   "outputs": [],
   "source": [
    "class Circle: \n",
    "    \n",
    "    def __init__(self, center_x, center_y, radius):\n",
    "        self.center_x = center_x\n",
    "        self.center_y = center_y\n",
    "        self.radius = radius\n",
    "        \n",
    "    def find_area(self):\n",
    "        return 3.14159 * self.radius**2\n",
    "    \n",
    "    def find_circumference(self):\n",
    "        return 2 * 3.14159 * self.radius\n",
    "    \n",
    "    def is_inside(self, x, y):\n",
    "        return (self.center_x - x)**2 + (self.center_y - y)**2 < self.radius**2\n",
    "    "
   ]
  },
  {
   "cell_type": "code",
   "execution_count": 71,
   "metadata": {},
   "outputs": [
    {
     "name": "stdout",
     "output_type": "stream",
     "text": [
      "78.53975\n",
      "31.4159\n",
      "True\n",
      "False\n"
     ]
    }
   ],
   "source": [
    "c1 = Circle(2, 1, 5)\n",
    "\n",
    "print(c1.find_area())\n",
    "print(c1.find_circumference())\n",
    "print(c1.is_inside(4,5))\n",
    "print(c1.is_inside(6,5))"
   ]
  },
  {
   "cell_type": "code",
   "execution_count": 72,
   "metadata": {
    "collapsed": true
   },
   "outputs": [],
   "source": [
    "class Cat:\n",
    "    \n",
    "    def __init__(self, name, owner, color, age):\n",
    "        self.name = name\n",
    "        self.owner = owner\n",
    "        self.color = color\n",
    "        self.age = age\n",
    "        \n",
    "    def summary(self):\n",
    "        print('Name:', self.name)\n",
    "        print('Owner:', self.owner)\n",
    "        print('Color:', self.color)\n",
    "        print('Age:', self.age, '\\n')"
   ]
  },
  {
   "cell_type": "code",
   "execution_count": 73,
   "metadata": {
    "scrolled": true
   },
   "outputs": [
    {
     "name": "stdout",
     "output_type": "stream",
     "text": [
      "Name: Luna\n",
      "Owner: Katie\n",
      "Color: Black and White\n",
      "Age: 9 \n",
      "\n",
      "Name: Cauchy\n",
      "Owner: Robbie\n",
      "Color: Gray\n",
      "Age: 2 \n",
      "\n"
     ]
    }
   ],
   "source": [
    "this_cat = Cat('Luna', 'Katie', 'Black and White', 9)\n",
    "that_cat = Cat(age=2, color='Gray', name='Cauchy', owner='Robbie')\n",
    "\n",
    "this_cat.summary()\n",
    "that_cat.summary()"
   ]
  },
  {
   "cell_type": "markdown",
   "metadata": {},
   "source": [
    "When implementing a new machine learning algorithm, we will create a new class specifically for that algorithm. Instance of the class will represent models generated by the algorithm, and will contain information relevant to the model, such as:\n",
    "\n",
    "* Training features and labels.\n",
    "* Training objective function scores.\n",
    "* Methods for training the model.\n",
    "* Values of optimal parameters\n",
    "* Methods for making predictions"
   ]
  }
 ],
 "metadata": {
  "kernelspec": {
   "display_name": "Python 3",
   "language": "python",
   "name": "python3"
  },
  "language_info": {
   "codemirror_mode": {
    "name": "ipython",
    "version": 3
   },
   "file_extension": ".py",
   "mimetype": "text/x-python",
   "name": "python",
   "nbconvert_exporter": "python",
   "pygments_lexer": "ipython3",
   "version": "3.6.3"
  }
 },
 "nbformat": 4,
 "nbformat_minor": 2
}
