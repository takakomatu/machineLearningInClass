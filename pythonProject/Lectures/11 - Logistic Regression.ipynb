{
 "cells": [
  {
   "cell_type": "markdown",
   "metadata": {},
   "source": [
    "# Lesson 11 - Logistic Regression\n",
    "\n",
    "### The following topics are discussed in this notebook:\n",
    "* Logistic regression background\n",
    "* Performing logistic regression using scikit-learn.\n",
    "\n",
    "### Additional Resources\n",
    "* [Hands-On Machine Learning, Ch 4](https://github.com/ageron/handson-ml/blob/master/04_training_linear_models.ipynb)\n",
    "* [Introduction to Statistical Learning, Section 4.3](http://www-bcf.usc.edu/~gareth/ISL/ISLR%20Seventh%20Printing.pdf)\n"
   ]
  },
  {
   "cell_type": "code",
   "execution_count": 1,
   "metadata": {
    "collapsed": true
   },
   "outputs": [],
   "source": [
    "import numpy as np\n",
    "import pandas as pd\n",
    "import matplotlib.pyplot as plt\n",
    "import ipywidgets as widgets"
   ]
  },
  {
   "cell_type": "markdown",
   "metadata": {},
   "source": [
    "## Prelimary: The Sigmoid Function\n",
    "\n",
    "The **sigmoid** or **logit** function is given by the following formula:\n",
    "\n",
    "$\\Large \\sigma(x) = \\frac{e^x}{1+e^x} = \\frac{1}{1 + e^{-x}}$\n",
    "\n",
    "A plot of the sigmoid function is shown below."
   ]
  },
  {
   "cell_type": "code",
   "execution_count": 2,
   "metadata": {},
   "outputs": [
    {
     "data": {
      "image/png": "[encoded data removed]",
      "text/plain": [
       "<matplotlib.figure.Figure at 0xa8016a0>"
      ]
     },
     "metadata": {},
     "output_type": "display_data"
    }
   ],
   "source": [
    "x = np.linspace(-10,10,100)\n",
    "y = 1 / (1 + np.exp(-x))\n",
    "\n",
    "plt.close()\n",
    "plt.rcParams[\"figure.figsize\"] = [8,6]\n",
    "plt.plot(x,y)\n",
    "plt.plot([-10,10],[1,1], linestyle=':', c=\"r\")\n",
    "plt.plot([-10,10],[0,0], linestyle=':', c=\"r\")\n",
    "plt.plot([0,0],[0,1], linewidth=1, c=\"dimgray\")\n",
    "plt.show()"
   ]
  },
  {
   "cell_type": "markdown",
   "metadata": {},
   "source": [
    "We can adjust the position and shape of the sigmoid function by swapping `x` out of a linear function of `x`. \n",
    "\n",
    "$\\LARGE \\sigma(x) = \\frac{e^{b_0 + b_1 x}}{1+e^{b_0 + b_1 x}} = \\frac{1}{1 + e^{-({b_0 + b_1 x})}}$\n"
   ]
  },
  {
   "cell_type": "code",
   "execution_count": 3,
   "metadata": {},
   "outputs": [
    {
     "data": {
      "application/vnd.jupyter.widget-view+json": {
       "model_id": "7546d67882e24cb59e3ba6bc5befaaaa",
       "version_major": 2,
       "version_minor": 0
      },
      "text/plain": [
       "A Jupyter Widget"
      ]
     },
     "metadata": {},
     "output_type": "display_data"
    }
   ],
   "source": [
    "%matplotlib inline\n",
    "%run -i examples/example08.py"
   ]
  },
  {
   "cell_type": "markdown",
   "metadata": {},
   "source": [
    "## Logistic Regression\n",
    "\n",
    "Logistic regression is a probabilistic linear classification method that can be used to estimate the probability that an observation belongs to a particular class based on the feature values. Logistic regression can be adapted for use in multi-class classification problems, but we will begin by discussing the standard version of the algorithm, which is a binary classifier. \n",
    "\n",
    "Consider the following scenario:\n",
    "\n",
    "* Assume we have several features, $X = [x^{(1)}, x^{(2)}, ..., x^{(p)}]$.\n",
    "* We wish to predict the value of a categorical label `y`. For convenience, assume the classes of `y` are coded as 0 and 1. \n",
    "* Denote the values of the training features for observation number $i$ as $X_i = [x^{(1)}_i, x^{(2)}_i, ..., x^{(p)}_i]$.\n",
    "* Denote the value of the label for observation $i$ as $y_i$. \n",
    "\n",
    "The logistic regression model is constructed as follows:\n",
    "\n",
    "* Let $\\hat p \\approx P \\left[ y = 1 ~|~ X = x \\right]$. That is, $\\hat p$ is an estimate of the probability that an observation belongs to class 1, given some specific set of feature values, $X = x$.\n",
    "* We will assume that $\\hat p$ follows a model of the form: $\\large \\hat p = \\frac {1} {\n",
    "1 - \\exp\\left[-\\left(\\hat{\\beta}_0 + \\hat{\\beta}_1 x^{(1)} + \\hat{\\beta}_2 x^{(2)} ... + \\hat{\\beta}_p x^{(p)}\\right)\\right]\n",
    "}$.\n",
    "* Given a set of observed features, $X$, we classify the observation as follows: $\n",
    "\\quad\\hat y = \\left\\{\n",
    "        \\begin{array}{ll}\n",
    "            0 & \\text{if  } \\hat p < k \\\\\n",
    "            1 & \\text{if  } \\hat p \\geq k\n",
    "        \\end{array}\n",
    "    \\right.$\n",
    "* The threshold value $k$ in the expression above is a constant, and is typically set as $k = 0.5$.\n",
    "\n",
    "### Training the Model using Log Likelihood\n",
    "\n",
    "* Let $b_0, b_1, ..., b_p$ be a set (not necessarily optimal) parameter values used to define a model $\\enspace\\large \\hat p = \\frac {1} {1 - \\exp\\left[-\\left({b}_0 + {b}_1 x^{(1)} + {b}_2 x^{(2)} ... + {b}_p x^{(p)}\\right)\\right]}$.\n",
    "* For each training observation, calculate $\\enspace\\large \\hat p_i = \\frac {1} {1 - \\exp\\left[-\\left({b}_0 + {b}_1 x_i^{(1)} + {b}_2 x_i^{(2)} ... + {b}_p x_i^{(p)}\\right)\\right]}$.\n",
    "* For each $i$, define $\\hat\\pi_i$ as follows: $\n",
    "\\quad\\hat\\pi_i = \\left\\{\n",
    "        \\begin{array}{ll}\n",
    "            p_i & \\text{if  } y_i = 1 \\\\\n",
    "            1 - p_i & \\text{if  } ~y_i = 0\n",
    "        \\end{array}\n",
    "    \\right.$\n",
    "* Then $\\hat\\pi_i$ is the estimate our current model provides for the probability that observation $i$ falls into its actual observed class. \n",
    "* We want to choose a model that maximizes the probability of getting the set of labels we have observed. In otherwise, we want to maximize the likelihood score, $L = \\pi_1 \\cdot \\pi_2 \\cdot ... \\cdot \\pi_n$.\n",
    "* From a computational standpoint, it is generally easy to maximize log-likelihood: $\\ln L = \\ln(\\pi_1) + \\ln(\\pi_2) + ... + \\ln(\\pi_n)$\n"
   ]
  },
  {
   "cell_type": "code",
   "execution_count": 6,
   "metadata": {},
   "outputs": [
    {
     "data": {
      "application/vnd.jupyter.widget-view+json": {
       "model_id": "ef535a3a166c4cd9a2397b3541a83d63",
       "version_major": 2,
       "version_minor": 0
      },
      "text/plain": [
       "A Jupyter Widget"
      ]
     },
     "metadata": {},
     "output_type": "display_data"
    }
   ],
   "source": [
    "%matplotlib inline\n",
    "%run -i examples/example09.py\n",
    "# by linear regression, when a person spends 0 hour, the person has NEGATIVE 3.5% of passing the test"
   ]
  },
  {
   "cell_type": "markdown",
   "metadata": {},
   "source": [
    "## Calculating Log Likelihood for a Proposed Model"
   ]
  },
  {
   "cell_type": "code",
   "execution_count": null,
   "metadata": {
    "collapsed": true
   },
   "outputs": [],
   "source": [
    "X = np.array([2, 5, 6, 7, 8, 10]).reshape(6,1)\n",
    "y = np.array([0, 0, 1, 0, 1, 1])"
   ]
  },
  {
   "cell_type": "code",
   "execution_count": null,
   "metadata": {
    "collapsed": true
   },
   "outputs": [],
   "source": [
    "beta = np.array([-4, 0.75])\n",
    "z = beta[0] + np.sum(beta[1:] * X, axis=1)\n",
    "prob1 = 1 / (1 + np.exp(-z))\n",
    "prob0 = 1 - prob1\n",
    "pi = prob0\n",
    "sel = (y == 1)\n",
    "pi[sel] = prob1[sel]\n",
    "loglik = np.sum(np.log(pi))\n",
    "print(loglik)"
   ]
  },
  {
   "cell_type": "markdown",
   "metadata": {},
   "source": [
    "## Using Scikit-Learn to Perform Logistic Regression\n"
   ]
  },
  {
   "cell_type": "code",
   "execution_count": null,
   "metadata": {
    "collapsed": true
   },
   "outputs": [],
   "source": [
    "from sklearn.linear_model import LogisticRegression"
   ]
  },
  {
   "cell_type": "code",
   "execution_count": null,
   "metadata": {
    "collapsed": true
   },
   "outputs": [],
   "source": [
    "model = LogisticRegression(C=1e10)\n",
    "model.fit(X,y)\n",
    "\n",
    "print(model.intercept_)\n",
    "print(model.coef_)"
   ]
  },
  {
   "cell_type": "markdown",
   "metadata": {},
   "source": [
    "### Making Predictions"
   ]
  },
  {
   "cell_type": "code",
   "execution_count": null,
   "metadata": {
    "collapsed": true
   },
   "outputs": [],
   "source": [
    "X_new = np.array([4, 6, 6.5, 7]).reshape(4,1)\n",
    "print(model.predict(X_new))"
   ]
  },
  {
   "cell_type": "code",
   "execution_count": null,
   "metadata": {
    "collapsed": true
   },
   "outputs": [],
   "source": [
    "print(model.predict_proba(X_new))"
   ]
  },
  {
   "cell_type": "markdown",
   "metadata": {},
   "source": [
    "### Model Accuracy"
   ]
  },
  {
   "cell_type": "code",
   "execution_count": null,
   "metadata": {
    "collapsed": true
   },
   "outputs": [],
   "source": [
    "print('Accuracy:', model.score(X,y))"
   ]
  },
  {
   "cell_type": "markdown",
   "metadata": {
    "collapsed": true
   },
   "source": [
    "## Logistic Regression with Multiple Features"
   ]
  },
  {
   "cell_type": "code",
   "execution_count": null,
   "metadata": {
    "collapsed": true
   },
   "outputs": [],
   "source": [
    "import MLUtilities as mlu\n",
    "import sklearn.datasets as skds"
   ]
  },
  {
   "cell_type": "code",
   "execution_count": null,
   "metadata": {
    "collapsed": true,
    "scrolled": false
   },
   "outputs": [],
   "source": [
    "np.random.seed(45)\n",
    "X, y = skds.make_classification(n_samples = 1000, n_classes = 2, n_features=2, \n",
    "                                n_redundant=0, n_informative=2, n_clusters_per_class=1,) \n",
    "\n",
    "plt.close()\n",
    "plt.figure(figsize=(8, 6))\n",
    "plt.scatter(X[y==0, 0], X[y==0, 1], marker='o', c='b',\n",
    "            s=25, edgecolor='k', label=0)\n",
    "plt.scatter(X[y==1, 0], X[y==1, 1], marker='o', c='r',\n",
    "            s=25, edgecolor='k', label=1)\n",
    "plt.legend()\n",
    "plt.show()"
   ]
  },
  {
   "cell_type": "code",
   "execution_count": null,
   "metadata": {
    "collapsed": true
   },
   "outputs": [],
   "source": [
    "lr_model = LogisticRegression(C=1e10)\n",
    "lr_model.fit(X,y)\n",
    "\n",
    "print('Intercept:', lr_model.intercept_)\n",
    "print('Coefficients:', lr_model.coef_)\n",
    "print('Accuracy:', lr_model.score(X,y))"
   ]
  },
  {
   "cell_type": "code",
   "execution_count": null,
   "metadata": {
    "collapsed": true
   },
   "outputs": [],
   "source": [
    "mlu.plot_regions(lr_model, X, y)"
   ]
  },
  {
   "cell_type": "code",
   "execution_count": null,
   "metadata": {
    "collapsed": true
   },
   "outputs": [],
   "source": [
    "sc_model = mlu.SplitClassifier(X,y)\n",
    "sc_model.summary()"
   ]
  },
  {
   "cell_type": "code",
   "execution_count": null,
   "metadata": {
    "collapsed": true
   },
   "outputs": [],
   "source": [
    "mlu.plot_regions(sc_model, X, y)"
   ]
  },
  {
   "cell_type": "code",
   "execution_count": null,
   "metadata": {
    "collapsed": true
   },
   "outputs": [],
   "source": []
  },
  {
   "cell_type": "code",
   "execution_count": null,
   "metadata": {
    "collapsed": true
   },
   "outputs": [],
   "source": []
  },
  {
   "cell_type": "code",
   "execution_count": null,
   "metadata": {
    "collapsed": true
   },
   "outputs": [],
   "source": []
  },
  {
   "cell_type": "code",
   "execution_count": null,
   "metadata": {
    "collapsed": true
   },
   "outputs": [],
   "source": []
  },
  {
   "cell_type": "code",
   "execution_count": null,
   "metadata": {
    "collapsed": true
   },
   "outputs": [],
   "source": []
  },
  {
   "cell_type": "code",
   "execution_count": null,
   "metadata": {
    "collapsed": true
   },
   "outputs": [],
   "source": []
  },
  {
   "cell_type": "code",
   "execution_count": null,
   "metadata": {
    "collapsed": true
   },
   "outputs": [],
   "source": []
  },
  {
   "cell_type": "code",
   "execution_count": null,
   "metadata": {
    "collapsed": true
   },
   "outputs": [],
   "source": []
  },
  {
   "cell_type": "code",
   "execution_count": null,
   "metadata": {
    "collapsed": true
   },
   "outputs": [],
   "source": []
  }
 ],
 "metadata": {
  "kernelspec": {
   "display_name": "Python 3",
   "language": "python",
   "name": "python3"
  },
  "language_info": {
   "codemirror_mode": {
    "name": "ipython",
    "version": 3
   },
   "file_extension": ".py",
   "mimetype": "text/x-python",
   "name": "python",
   "nbconvert_exporter": "python",
   "pygments_lexer": "ipython3",
   "version": "3.6.1"
  },
  "widgets": {
   "state": {
    "59ddc78617594ae2a66b9c9e95e2dd37": {
     "views": [
      {
       "cell_index": 12
      }
     ]
    }
   },
   "version": "1.2.0"
  }
 },
 "nbformat": 4,
 "nbformat_minor": 2
}
