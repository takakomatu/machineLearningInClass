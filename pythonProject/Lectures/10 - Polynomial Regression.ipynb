{
 "cells": [
  {
   "cell_type": "markdown",
   "metadata": {},
   "source": [
    "# 10 - Polynomial Regression\n",
    "\n",
    "### The following topics are discussed in this notebook:\n",
    "* Linear Regression using scikit-learn.\n",
    "* Simple Linear Regression\n",
    "* Multiple Linear Regression\n",
    "\n",
    "### Additional Resources\n",
    "* [Hands-On Machine Learning, Ch 4](https://github.com/ageron/handson-ml/blob/master/04_training_linear_models.ipynb)\n",
    "* [Introduction to Machine Learning, Ch 3](http://www-bcf.usc.edu/~gareth/ISL/ISLR%20Seventh%20Printing.pdf)\n"
   ]
  },
  {
   "cell_type": "code",
   "execution_count": 1,
   "metadata": {
    "collapsed": true
   },
   "outputs": [],
   "source": [
    "import numpy as np\n",
    "import pandas as pd\n",
    "import matplotlib.pyplot as plt\n",
    "from sklearn.linear_model import LinearRegression"
   ]
  },
  {
   "cell_type": "markdown",
   "metadata": {},
   "source": [
    "## Polynomial Linear Regresion\n",
    "\n",
    "Although it might seem counter-intuitive, we can use linear regression to create models in when the relationship between the features (predictors) and the label (response) are non-linear. We will illustrate this example in the situation where we have a single feature. \n",
    "\n",
    "Consider the following scenario:\n",
    "\n",
    "* We have a single feature, $x$. The observed values of $x$ are denoted $x_1, x_2, ..., x_n$.\n",
    "* The observed values of the label are denoted $y_1, y_2, ..., y_n$.\n",
    "* We wish to use linear regression to find a model of the form: $\\large \\hat{y} = \\hat{\\beta}_0 + \\hat{\\beta}_1 x + \\hat{\\beta}_2 x^2 + \\hat{\\beta}_3 x^3 + ... + \\hat{\\beta}_p x^p$.\n",
    "* We can use multiple regression to create such a model. To do so, we define new features $x^{(1)}, x^{(2)}, ..., x^{(p)}$ as follows: $x^{(1)} = x, x^{(2)} = x^2, ..., x^{(p)} = x^p$.\n",
    "* This results in the following feature matrix:\n",
    "$X = \\begin{array}{c}\n",
    "\\begin{matrix}\n",
    "x^{(1)} & x^{(2)} & \\cdots & x^{(p)}\n",
    "\\end{matrix} \\\\\n",
    "\\left[\\ \\begin{matrix}\n",
    "x_1 & x_1^2 & \\cdots & x_1^p \\\\\n",
    "x_2 & x_2^2 & \\cdots & x_2^p \\\\\n",
    "x_3 & x_3^2 & \\cdots & x_3^p \\\\\n",
    "\\vdots & \\vdots & & \\vdots \\\\\n",
    "x_n & x_n^2 & \\cdots & x_n^p\n",
    "\\end{matrix}\\ \\right]\n",
    "\\end{array}$\n",
    "\n",
    "Let's consider an example."
   ]
  },
  {
   "cell_type": "code",
   "execution_count": 2,
   "metadata": {},
   "outputs": [
    {
     "data": {
      "image/png": "[encoded data removed]",
      "text/plain": [
       "<matplotlib.figure.Figure at 0xc9c67f0>"
      ]
     },
     "metadata": {},
     "output_type": "display_data"
    }
   ],
   "source": [
    "np.random.seed(1)\n",
    "x = np.random.uniform(0,10,100)\n",
    "y = 0.1*x**3 - 1.5*x**2 + 6.2*x + 3 + np.random.normal(0,1,100)\n",
    "\n",
    "plt.close()\n",
    "plt.scatter(x,y)\n",
    "plt.show()"
   ]
  },
  {
   "cell_type": "markdown",
   "metadata": {},
   "source": [
    "## Linear Model\n",
    "\n",
    "We will start by using Scikit-Learn to produce a linear model."
   ]
  },
  {
   "cell_type": "code",
   "execution_count": 3,
   "metadata": {},
   "outputs": [
    {
     "name": "stdout",
     "output_type": "stream",
     "text": [
      "Intercept:  7.96217004772\n",
      "Coefficeint:  [ 0.20144939]\n",
      "Training r^2:  0.0776210647856\n"
     ]
    }
   ],
   "source": [
    "X = x.reshape(len(x),1) # all scikit learn requires this to be two-D array\n",
    "\n",
    "linearMod = LinearRegression() # this class is from scikit learn\n",
    "linearMod.fit(X,y)\n",
    "\n",
    "print(\"Intercept: \", linearMod.intercept_)\n",
    "print(\"Coefficeint: \", linearMod.coef_)\n",
    "print(\"Training r^2: \", linearMod.score(X,y))"
   ]
  },
  {
   "cell_type": "code",
   "execution_count": 4,
   "metadata": {},
   "outputs": [
    {
     "data": {
      "image/png": "[encoded data removed]",
      "text/plain": [
       "<matplotlib.figure.Figure at 0xcde8be0>"
      ]
     },
     "metadata": {},
     "output_type": "display_data"
    }
   ],
   "source": [
    "xticks = np.linspace(0,10,100).reshape(100,1)\n",
    "yPredict = linearMod.predict(xticks)\n",
    "\n",
    "plt.close()\n",
    "plt.scatter(x,y) # x is a 1 d numpy array this could be large X\n",
    "plt.plot(xticks,yPredict, c=\"r\")\n",
    "plt.show()"
   ]
  },
  {
   "cell_type": "markdown",
   "metadata": {},
   "source": [
    "## Cubic Model\n",
    "\n",
    "We will now use Scikit-Learn to create a model with the form of a cubic polynomial. "
   ]
  },
  {
   "cell_type": "code",
   "execution_count": 5,
   "metadata": {},
   "outputs": [
    {
     "name": "stdout",
     "output_type": "stream",
     "text": [
      "[[  4.17022005e+00   1.73907352e+01   7.25231927e+01]\n",
      " [  7.20324493e+00   5.18867376e+01   3.73752880e+02]\n",
      " [  1.14374817e-03   1.30815988e-06   1.49620548e-09]\n",
      " [  3.02332573e+00   9.14049845e+00   2.76347041e+01]\n",
      " [  1.46755891e+00   2.15372915e+00   3.16072440e+00]\n",
      " [  9.23385948e-01   8.52641608e-01   7.87317280e-01]\n",
      " [  1.86260211e+00   3.46928663e+00   6.46190062e+00]\n",
      " [  3.45560727e+00   1.19412216e+01   4.12641722e+01]\n",
      " [  3.96767474e+00   1.57424429e+01   6.24608929e+01]\n",
      " [  5.38816734e+00   2.90323473e+01   1.56431145e+02]]\n"
     ]
    }
   ],
   "source": [
    "x1 = x.reshape(len(x),1) # x1 is 2 D\n",
    "x2 = x1 **2\n",
    "x3 = x1 **3\n",
    "\n",
    "XCubic = np.concatenate((x1,x2,x3), axis=1)  #(x1,x2,x3) is tuble\n",
    "print(XCubic[:10,:])"
   ]
  },
  {
   "cell_type": "code",
   "execution_count": 6,
   "metadata": {
    "scrolled": true
   },
   "outputs": [
    {
     "name": "stdout",
     "output_type": "stream",
     "text": [
      "Intercept:  3.55967198746\n",
      "Coefficeint:  [ 5.87644424 -1.44447017  0.09711768]\n",
      "Training r^2:  0.826262377529\n"
     ]
    }
   ],
   "source": [
    "cubicMod = LinearRegression() # this class is from scikit learn\n",
    "cubicMod.fit(XCubic,y)\n",
    "\n",
    "print(\"Intercept: \", cubicMod.intercept_)\n",
    "print(\"Coefficeint: \", cubicMod.coef_)\n",
    "print(\"Training r^2: \", cubicMod.score(XCubic,y))"
   ]
  },
  {
   "cell_type": "code",
   "execution_count": 7,
   "metadata": {},
   "outputs": [
    {
     "data": {
      "image/png": "[encoded data removed]",
      "text/plain": [
       "<matplotlib.figure.Figure at 0xce7f908>"
      ]
     },
     "metadata": {},
     "output_type": "display_data"
    }
   ],
   "source": [
    "xticks = np.linspace(0,10,100).reshape(100,1)\n",
    "XNew = np.concatenate((xticks,xticks**2,xticks**3),axis=1)\n",
    "\n",
    "yPredict = cubicMod.predict(XNew) # predict takes 3 arguments\n",
    "\n",
    "plt.close()\n",
    "plt.scatter(x,y) # x is a 1 d numpy array this could be large X\n",
    "plt.plot(xticks,yPredict, c=\"r\")\n",
    "plt.show()"
   ]
  },
  {
   "cell_type": "markdown",
   "metadata": {},
   "source": [
    "## Overfitting \n",
    "\n",
    "We need to be careful when using models with a polynomial form. Such models are more flexible than models with linear forms. As a result, higher degree models will ALWAYS result in a lower training SSE (and thus higher r-squared value) than those with lower degrees. However, because of their flexibility, they have a higher risk of overfitting the training data. This risk is greater with working with a small number of observations. \n",
    "\n",
    "This is illustrated in the following example. "
   ]
  },
  {
   "cell_type": "code",
   "execution_count": 14,
   "metadata": {},
   "outputs": [
    {
     "data": {
      "application/vnd.jupyter.widget-view+json": {
       "model_id": "1b25d4df6aef48529c3b2b3914b13083",
       "version_major": 2,
       "version_minor": 0
      },
      "text/plain": [
       "A Jupyter Widget"
      ]
     },
     "metadata": {},
     "output_type": "display_data"
    }
   ],
   "source": [
    "%matplotlib inline\n",
    "%run -i examples/example07.py"
   ]
  },
  {
   "cell_type": "code",
   "execution_count": null,
   "metadata": {
    "collapsed": true
   },
   "outputs": [],
   "source": []
  },
  {
   "cell_type": "code",
   "execution_count": null,
   "metadata": {
    "collapsed": true
   },
   "outputs": [],
   "source": []
  },
  {
   "cell_type": "code",
   "execution_count": null,
   "metadata": {
    "collapsed": true
   },
   "outputs": [],
   "source": []
  },
  {
   "cell_type": "code",
   "execution_count": null,
   "metadata": {
    "collapsed": true
   },
   "outputs": [],
   "source": []
  },
  {
   "cell_type": "code",
   "execution_count": null,
   "metadata": {
    "collapsed": true
   },
   "outputs": [],
   "source": []
  },
  {
   "cell_type": "code",
   "execution_count": null,
   "metadata": {
    "collapsed": true
   },
   "outputs": [],
   "source": []
  }
 ],
 "metadata": {
  "kernelspec": {
   "display_name": "Python 3",
   "language": "python",
   "name": "python3"
  },
  "language_info": {
   "codemirror_mode": {
    "name": "ipython",
    "version": 3
   },
   "file_extension": ".py",
   "mimetype": "text/x-python",
   "name": "python",
   "nbconvert_exporter": "python",
   "pygments_lexer": "ipython3",
   "version": "3.6.3"
  },
  "widgets": {
   "state": {
    "a3c471a95ba6418a9f89913abde26e3d": {
     "views": [
      {
       "cell_index": 12
      }
     ]
    }
   },
   "version": "1.2.0"
  }
 },
 "nbformat": 4,
 "nbformat_minor": 2
}
