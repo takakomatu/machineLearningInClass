{
 "cells": [
  {
   "cell_type": "code",
   "execution_count": 13,
   "metadata": {
    "collapsed": true
   },
   "outputs": [],
   "source": [
    "import numpy as np"
   ]
  },
  {
   "cell_type": "markdown",
   "metadata": {},
   "source": [
    "## v01 - Select Points at Rnadom\n"
   ]
  },
  {
   "cell_type": "code",
   "execution_count": 15,
   "metadata": {},
   "outputs": [],
   "source": [
    "class RandomTree: \n",
    "    \n",
    "    def __init__(self,X,y,max_depth=2,depth=0,min_leaf_size=1):\n",
    "        \n",
    "        self.X = np.array(X)\n",
    "        self.y = np.array(y)\n",
    "        self.n = len(y)\n",
    "        self.depth = depth\n",
    "        \n",
    "        # self.classes\n",
    "        # self.class_counts\n",
    "        # self.prediction\n",
    "        # self.gini\n",
    "        \n",
    "        # self.axis\n",
    "        # self.t\n",
    "        \n",
    "        if depth == max_depth:\n",
    "            self.left = None\n",
    "            self.right = None\n",
    "            return\n",
    "        # Randomly split points\n",
    "        sel = np.random.choice([True,False],self.n)\n",
    "        \n",
    "        if (np.sum(sel) < min_leaf_size) or (np.sum(~sel) < min_leaf_size): \n",
    "            # np.sum(sel) the number of observation that goes to left or the number of observation that goes to right\n",
    "            self.left = None\n",
    "            self.right = None\n",
    "            return\n",
    "        \n",
    "        self.left = RandomTree(X[sel,:],y[sel],max_depth,depth+1,min_leaf_size)\n",
    "        self.right = RandomTree(X[~sel,:],y[~sel],max_depth,depth+1,min_leaf_size)\n",
    "        \n",
    "    def print_tree(self):\n",
    "        msg = '  ' * self.depth + '* Size = ' + str(self.n)\n",
    "        print(msg)\n",
    "        \n",
    "        if self.left != None:\n",
    "            self.left.print_tree()\n",
    "            self.right.print_tree()\n",
    "        "
   ]
  },
  {
   "cell_type": "code",
   "execution_count": 16,
   "metadata": {
    "collapsed": true
   },
   "outputs": [],
   "source": [
    "np.random.seed(1)\n",
    "\n",
    "n = 1000\n",
    "X = np.random.uniform(0,10,5*n).reshape(n,5)\n",
    "y = np.random.choice(['a','b','c'],n)"
   ]
  },
  {
   "cell_type": "code",
   "execution_count": 21,
   "metadata": {
    "collapsed": true
   },
   "outputs": [],
   "source": [
    "tree_mod = RandomTree(X,y,max_depth=4,min_leaf_size=120)"
   ]
  },
  {
   "cell_type": "code",
   "execution_count": 22,
   "metadata": {},
   "outputs": [
    {
     "name": "stdout",
     "output_type": "stream",
     "text": [
      "* Size = 1000\n",
      "  * Size = 483\n",
      "    * Size = 262\n",
      "      * Size = 122\n",
      "      * Size = 140\n",
      "    * Size = 221\n",
      "  * Size = 517\n",
      "    * Size = 261\n",
      "      * Size = 132\n",
      "      * Size = 129\n",
      "    * Size = 256\n"
     ]
    }
   ],
   "source": [
    "tree_mod.print_tree()"
   ]
  },
  {
   "cell_type": "code",
   "execution_count": 6,
   "metadata": {},
   "outputs": [
    {
     "name": "stdout",
     "output_type": "stream",
     "text": [
      "1000\n"
     ]
    }
   ],
   "source": [
    "print(tree_mod.n)"
   ]
  },
  {
   "cell_type": "code",
   "execution_count": 7,
   "metadata": {},
   "outputs": [
    {
     "name": "stdout",
     "output_type": "stream",
     "text": [
      "494\n",
      "506\n"
     ]
    }
   ],
   "source": [
    "print(tree_mod.left.n)\n",
    "print(tree_mod.right.n)"
   ]
  },
  {
   "cell_type": "code",
   "execution_count": 8,
   "metadata": {},
   "outputs": [
    {
     "name": "stdout",
     "output_type": "stream",
     "text": [
      "262\n"
     ]
    }
   ],
   "source": [
    "print(tree_mod.right.left.n)"
   ]
  },
  {
   "cell_type": "code",
   "execution_count": null,
   "metadata": {
    "collapsed": true
   },
   "outputs": [],
   "source": []
  },
  {
   "cell_type": "code",
   "execution_count": 9,
   "metadata": {},
   "outputs": [
    {
     "name": "stdout",
     "output_type": "stream",
     "text": [
      "[[ 6.87178523  8.47307416  4.83688633]\n",
      " [ 1.01351733  1.0295804   1.15627705]\n",
      " [ 4.94911146  6.22024983  0.33261817]\n",
      " [ 0.62583476  9.86549177  2.91103749]\n",
      " [ 4.7673164   6.3063432   7.1489902 ]]\n"
     ]
    }
   ],
   "source": [
    "X_test = np.random.uniform(0,10,15).reshape(5,3)\n",
    "print(X_test)"
   ]
  },
  {
   "cell_type": "code",
   "execution_count": 10,
   "metadata": {},
   "outputs": [
    {
     "name": "stdout",
     "output_type": "stream",
     "text": [
      "[ 0.62583476  9.86549177  2.91103749]\n",
      "[[ 6.87178523  8.47307416  4.83688633]\n",
      " [ 4.94911146  6.22024983  0.33261817]\n",
      " [ 0.62583476  9.86549177  2.91103749]\n",
      " [ 4.7673164   6.3063432   7.1489902 ]]\n"
     ]
    }
   ],
   "source": [
    "sel = [True, False, True,True,True]\n",
    "\n",
    "print(X_test[3][:])\n",
    "print(X_test[sel,:])"
   ]
  },
  {
   "cell_type": "code",
   "execution_count": null,
   "metadata": {
    "collapsed": true
   },
   "outputs": [],
   "source": []
  },
  {
   "cell_type": "markdown",
   "metadata": {},
   "source": [
    "## version2 - Select "
   ]
  },
  {
   "cell_type": "code",
   "execution_count": 30,
   "metadata": {},
   "outputs": [],
   "source": [
    "class RandomTree: \n",
    "    \n",
    "    def __init__(self,X,y,max_depth=2,depth=0,min_leaf_size=1):\n",
    "        \n",
    "        self.X = np.array(X)\n",
    "        self.y = np.array(y)\n",
    "        self.n = len(y)\n",
    "        self.depth = depth\n",
    "        \n",
    "        # self.classes\n",
    "        # self.class_counts\n",
    "        # self.prediction\n",
    "        # self.gini\n",
    "        \n",
    "        \n",
    "        if depth == max_depth:\n",
    "            self.left = None\n",
    "            self.right = None\n",
    "            self.axis = None\n",
    "            self.t = None\n",
    "            return\n",
    "        \n",
    "        # Create a raondom cut\n",
    "        self.axis = np.random.choice(range(self.X.shape[1]))\n",
    "        self.t = np.random.uniform(np.min(self.X[:,self.axis]), np.max(self.X[:,self.axis]))\n",
    "        \n",
    "        sel = self.X[:,self.axis] <= self.t # <= or < dont matter\n",
    "        \n",
    "        if (np.sum(sel) < min_leaf_size) or (np.sum(~sel) < min_leaf_size): \n",
    "            # np.sum(sel) the number of observation that goes to left or the number of observation that goes to right\n",
    "            self.axis = None\n",
    "            self.t = None\n",
    "            self.left = None\n",
    "            self.right = None\n",
    "            return\n",
    "        \n",
    "        self.left = RandomTree(X[sel,:],y[sel],max_depth,depth+1,min_leaf_size)\n",
    "        self.right = RandomTree(X[~sel,:],y[~sel],max_depth,depth+1,min_leaf_size)\n",
    "        \n",
    "    def print_tree(self):\n",
    "        msg = '  ' * self.depth + '* Size = ' + str(self.n)\n",
    "        \n",
    "        if(self.axis != None):\n",
    "            msg += ', Axis = ' + str(self.axis) + ', t = ' + str(round(self.t,2))\n",
    "                                                                 \n",
    "        print(msg)\n",
    "        \n",
    "        if self.left != None:\n",
    "            self.left.print_tree()\n",
    "            self.right.print_tree()\n",
    "        "
   ]
  },
  {
   "cell_type": "code",
   "execution_count": 31,
   "metadata": {},
   "outputs": [
    {
     "name": "stdout",
     "output_type": "stream",
     "text": [
      "* Size = 1000, Axis = 1, t = 8.41\n",
      "  * Size = 833, Axis = 2, t = 5.64\n",
      "    * Size = 482, Axis = 4, t = 5.65\n",
      "      * Size = 275, Axis = 3, t = 5.25\n",
      "        * Size = 150\n",
      "        * Size = 125\n",
      "      * Size = 207, Axis = 1, t = 1.18\n",
      "        * Size = 42\n",
      "        * Size = 165\n",
      "    * Size = 351, Axis = 0, t = 3.76\n",
      "      * Size = 129\n",
      "      * Size = 222, Axis = 1, t = 3.67\n",
      "        * Size = 90\n",
      "        * Size = 132\n",
      "  * Size = 167, Axis = 2, t = 3.62\n",
      "    * Size = 58\n",
      "    * Size = 109, Axis = 0, t = 7.87\n",
      "      * Size = 84\n",
      "      * Size = 25, Axis = 1, t = 8.84\n",
      "        * Size = 11\n",
      "        * Size = 14\n"
     ]
    }
   ],
   "source": [
    "tree_mod = RandomTree(X,y,max_depth=4,min_leaf_size=10)\n",
    "tree_mod.print_tree()"
   ]
  },
  {
   "cell_type": "code",
   "execution_count": null,
   "metadata": {
    "collapsed": true
   },
   "outputs": [],
   "source": []
  },
  {
   "cell_type": "code",
   "execution_count": null,
   "metadata": {
    "collapsed": true
   },
   "outputs": [],
   "source": []
  }
 ],
 "metadata": {
  "kernelspec": {
   "display_name": "Python 3",
   "language": "python",
   "name": "python3"
  },
  "language_info": {
   "codemirror_mode": {
    "name": "ipython",
    "version": 3
   },
   "file_extension": ".py",
   "mimetype": "text/x-python",
   "name": "python",
   "nbconvert_exporter": "python",
   "pygments_lexer": "ipython3",
   "version": "3.6.3"
  }
 },
 "nbformat": 4,
 "nbformat_minor": 2
}
