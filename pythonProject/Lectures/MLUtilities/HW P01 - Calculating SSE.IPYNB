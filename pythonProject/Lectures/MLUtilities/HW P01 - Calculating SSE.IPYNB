{
 "cells": [
  {
   "cell_type": "markdown",
   "metadata": {},
   "source": [
    "# Calculating SSE\n",
    "\n",
    "<p>\n",
    "<font color='#21618c'>\n",
    "<b>This notebook is intended to help you write the <code>find_sse</code> method for HW P01. Before jumping into an example, we need to review a few concepts relating to numpy arrays.</b></font>"
   ]
  },
  {
   "cell_type": "markdown",
   "metadata": {},
   "source": [
    "### Multiplying 1D and 2D numpy arrays\n",
    "<p>\n",
    "<font color='#21618c'><b>\n",
    "Assume that we have defined the following 1D and 2D numpy arrays, with shapes <code>(2,)</code> and <code>(3,2)</code>:\n",
    "</font>\n",
    "\n",
    "`a = np.array([2,5])`\n",
    "\n",
    "`X = np.array([[1,2],[3,4],[5,6]])`\n",
    "\n",
    "<p>\n",
    "<font color='#21618c'><b>\n",
    "The result of multiplying these two arrays will be to multiply every row of <code>X</code> by <code>a</code> using standard numpy (entry-wise) multiplication. The result will be another <code>(3,2)</code> array. Note that this is NOT the usual form of matrix multiplication used in mathematics.\n",
    "</b></font>\n",
    "\n",
    "`a * X` \n",
    "$ = \\begin{bmatrix} 2 & 5 \\end{bmatrix} * \\begin{bmatrix} 1&2 \\\\ 3&4 \\\\ 5&6 \\end{bmatrix}$\n",
    "$ = \\begin{bmatrix} 2(1)&5(2) \\\\ 2(3)&5(4) \\\\ 2(5)&5(6) \\end{bmatrix}$\n",
    "$ = \\begin{bmatrix} 2&10 \\\\ 6&20 \\\\ 10&30 \\end{bmatrix}$\n",
    "`= [[2,10], [6,20], [10,30]]`\n",
    "\n",
    "<p>\n",
    "<font color='#21618c'><b>\n",
    "To perform a multiplication of this sort, the number of entries in <code>a</code> must be equal to the number of columns in <code>X</code>. Otherwise, we would get an error. \n",
    "</b></font>\n",
    "\n",
    "<p>\n",
    "<font color='#21618c'><b>\n",
    "If we pass an array of any size/shape to the function <code>np.sum()</code>, the result will be a single number that is equal to the sum of all of the entries. \n",
    "</b></font>\n",
    "\n",
    "\n",
    "`np.sum(a * X) = 2 + 10 + 6 + 20 + 10 + 30 = 78`\n",
    " \n",
    "<p>\n",
    "<font color='#21618c'><b>\n",
    "However, if we specify the parameter <code>axis = 1</code> in the function <code>np.sum()</code>, then the sums will be performed across the rows only. The result will be a 1D numpy array that contains the row sums. \n",
    "</b></font>\n",
    "\n",
    " \n",
    "`np.sum(a * X, axis=1) `\n",
    "$ = \\begin{bmatrix} 2 + 10 \\\\ 6 + 20 \\\\ 10 + 30 \\end{bmatrix}$\n",
    "$ = \\begin{bmatrix} 12 \\\\ 26 \\\\ 40 \\end{bmatrix}$\n",
    "`= [12  26  40]` \n",
    "\n",
    "<p>\n",
    "<font color='#21618c'><b>\n",
    "If we had specified the <code>axis = 0</code>, we would get columm sums instead. \n",
    "</b></font>\n",
    "\n",
    "<p>\n",
    "<font color='#21618c'><b>\n",
    "We demonstrate this example in the code cells below. \n",
    "</b></font>\n",
    "\n"
   ]
  },
  {
   "cell_type": "code",
   "execution_count": 1,
   "metadata": {},
   "outputs": [
    {
     "name": "stdout",
     "output_type": "stream",
     "text": [
      "a =  [2 5]\n",
      "X = \n",
      " [[1 2]\n",
      " [3 4]\n",
      " [5 6]]\n"
     ]
    }
   ],
   "source": [
    "import numpy as np\n",
    "\n",
    "a = np.array([2,5])\n",
    "X = np.array([[1,2],[3,4],[5,6]])\n",
    "\n",
    "print('a = ', a) \n",
    "print('X = \\n', X) "
   ]
  },
  {
   "cell_type": "code",
   "execution_count": 2,
   "metadata": {},
   "outputs": [
    {
     "name": "stdout",
     "output_type": "stream",
     "text": [
      "[[ 2 10]\n",
      " [ 6 20]\n",
      " [10 30]]\n"
     ]
    }
   ],
   "source": [
    "print(a * X)"
   ]
  },
  {
   "cell_type": "code",
   "execution_count": 3,
   "metadata": {},
   "outputs": [
    {
     "name": "stdout",
     "output_type": "stream",
     "text": [
      "78\n"
     ]
    }
   ],
   "source": [
    "print(np.sum(a * X))"
   ]
  },
  {
   "cell_type": "code",
   "execution_count": 4,
   "metadata": {},
   "outputs": [
    {
     "name": "stdout",
     "output_type": "stream",
     "text": [
      "[12 26 40]\n"
     ]
    }
   ],
   "source": [
    "print(np.sum(a * X, axis = 1))"
   ]
  },
  {
   "cell_type": "markdown",
   "metadata": {},
   "source": [
    "## Finding SSE"
   ]
  },
  {
   "cell_type": "markdown",
   "metadata": {},
   "source": [
    "<p>\n",
    "<font color='#21618c'><b>\n",
    "We will now discuss how to calculate SSE for a proposed (not necessarily optimal) regression model. We will illustrate the process using Model 1 from HW W02 as an example. \n",
    "</b> </font>\n",
    "\n",
    "<p>\n",
    "<font color='#21618c'><b>\n",
    "Assume we have the training data described below. There are two features, which are stored in the columns of <code>X</code>. The labels are stored in <code>y</code>. For the purpose of discussion, assume the feature stored in the first column of <code>X</code> is named $x^{(1)}$ and the feature in the second column is named $x^{(2)}$ \n",
    "</b> </font>\n",
    "\n",
    "`X = np.array([[12,4], [14,3], [16,6], [20,5], [24,2]])` \n",
    "$ = \\begin{bmatrix} 12 & 4 \\\\ 14 & 3 \\\\ 16 & 6 \\\\ 20 & 5 \\\\ 24 & 2 \\end{bmatrix}$\n",
    "\n",
    "`y = np.array([50, 53, 67, 70, 63])`\n",
    "$ = \\begin{bmatrix} 50 \\\\ 53 \\\\ 67 \\\\ 70 \\\\ 63 \\end{bmatrix}$\n",
    "\n",
    "\n",
    "<p>\n",
    "<font color='#21618c'><b>\n",
    "Assume we want to score the following model by calculating its SSE on the training data:\n",
    "</b></font> \n",
    "\n",
    "$\\hat{y} = 12 + 1.5 x^{(1)} + 5 x^{(2)}$\n",
    "\n",
    "<p>\n",
    "<font color='#21618c'><b>\n",
    "We will store the parameters for this model in an array called <code>beta</code>. The individual parameter values will be denoted by $\\beta_0$, $\\beta_1$, and $\\beta_2$, so $beta = [\\beta_0, \\beta_1, \\beta_2]$.\n",
    "</b></font> \n",
    "\n",
    "`beta = np.array([12, 1.5, 5])`\n",
    "\n",
    "<p>\n",
    "<font color='#21618c'><b>\n",
    "Before calculating SSE, we first need to find $\\hat{y}$. To do that, we need to perform the following calculation:\n",
    "</b> </font> \n",
    "\n",
    "$\\hat{y} = \n",
    "\\begin{bmatrix} \n",
    "\\beta_0 + \\beta_1 (12) + \\beta_2 (4) \\\\ \\beta_0 + \\beta_1 (14) + \\beta_2 (3) \\\\ \\beta_0 + \\beta_1 (16) + \\beta_2 (6) \\\\ \n",
    "\\beta_0 + \\beta_1 (20) + \\beta_2 (5) \\\\ \\beta_0 + \\beta_1 (24) + \\beta_2 (2)\n",
    "\\end{bmatrix} = \n",
    "\\begin{bmatrix} 12 + 1.5(12) + 5(4) \\\\ 12 + 1.5(14) + 5(3)  \\\\ 12 + 1.5(16) + 5(6) \\\\ 12 + 1.5(20) + 5(5) \\\\ 12 + 1.5(24) + 5(2) \\end{bmatrix} = \\begin{bmatrix} 50 \\\\ 48 \\\\ 66 \\\\ 67 \\\\ 58  \\end{bmatrix}$\n",
    "\n",
    "<p>\n",
    "<font color='#21618c'><b>\n",
    "We can perform these calculations using the numpy tools discussed at the beginning of this notebook. We will illustrate the process using a mix of code and mathematical notation, and will summarize the resulting code afterward. \n",
    "</b> </font>\n",
    "\n",
    "$\\hat{y} = \n",
    "\\begin{bmatrix} \n",
    "\\beta_0 + \\beta_1 (12) + \\beta_2 (4) \\\\ \\beta_0 + \\beta_1 (14) + \\beta_2 (3) \\\\ \\beta_0 + \\beta_1 (16) + \\beta_2 (6) \\\\ \n",
    "\\beta_0 + \\beta_1 (20) + \\beta_2 (5) \\\\ \\beta_0 + \\beta_1 (24) + \\beta_2 (2)\n",
    "\\end{bmatrix} = \n",
    "\\begin{bmatrix} \\beta_0 \\\\ \\beta_0 \\\\ \\beta_0 \\\\ \\beta_0 \\\\ \\beta_0 \\end{bmatrix} +\n",
    "\\begin{bmatrix} \n",
    "\\beta_1 (12) + \\beta_2 (4) \\\\ \\beta_1 (14) + \\beta_2 (3) \\\\ \\beta_1 (16) + \\beta_2 (6) \\\\ \n",
    "\\beta_1 (20) + \\beta_2 (5) \\\\ \\beta_1 (24) + \\beta_2 (2)\n",
    "\\end{bmatrix}$\n",
    "\n",
    "`  = beta[0] + np.sum(`\n",
    "$\\begin{bmatrix} \n",
    "\\beta_1 (12) & \\beta_2 (4) \\\\ \\beta_1 (14) & \\beta_2 (3) \\\\ \\beta_1 (16) &\\beta_2 (6) \\\\ \n",
    "\\beta_1 (20) & \\beta_2 (5) \\\\ \\beta_1 (24) & \\beta_2 (2)\n",
    "\\end{bmatrix}$\n",
    "`,axis=1)`\n",
    "\n",
    "` = beta[0] + np.sum(beta[1:] * X, axis=1)`\n",
    "\n",
    "<p>\n",
    "<font color='#21618c'><b>\n",
    "So, the code that we need to find <code>y_hat</code>, given <code>X</code>, <code>y</code>, and <code>beta</code>, is:\n",
    "</b> </font>\n",
    "\n",
    "`y_hat = beta[0] + np.sum(beta[1:] * X, axis=1)`\n",
    "\n",
    "<p>\n",
    "<font color='#21618c'><b>\n",
    "Once we have <code>y_hat</code>, we can calculate the residuals and SSE as follows:\n",
    "</b> </font>\n",
    "\n",
    "`residuals = y - y_hat`\n",
    "\n",
    "`sse = np.sum(residuals**2)`\n",
    "\n",
    "<p>\n",
    "<font color='#21618c'><b>\n",
    "The following code cells illustrate this example. \n",
    "</b> </font>"
   ]
  },
  {
   "cell_type": "code",
   "execution_count": 5,
   "metadata": {
    "scrolled": true
   },
   "outputs": [
    {
     "name": "stdout",
     "output_type": "stream",
     "text": [
      "y_hat =  [ 50.  48.  66.  67.  58.]\n",
      "residuals =  [ 0.  5.  1.  3.  5.]\n",
      "sse =  60.0\n"
     ]
    }
   ],
   "source": [
    "# We start by definining X, y, and beta.\n",
    "X = np.array([[12,4], [14,3], [16,6], [20,5], [24,2]])\n",
    "y = np.array([50, 53, 67, 70, 63])\n",
    "beta = np.array([12, 1.5, 5])\n",
    "\n",
    "# Now we calculate y_hat and sse.\n",
    "y_hat = beta[0] + np.sum(beta[1:] * X, axis=1)\n",
    "residuals = y - y_hat\n",
    "sse = np.sum(residuals**2)\n",
    "\n",
    "# Print the results\n",
    "print('y_hat = ', y_hat)\n",
    "print('residuals = ', residuals)\n",
    "print('sse = ', sse)"
   ]
  },
  {
   "cell_type": "markdown",
   "metadata": {},
   "source": [
    "<p>\n",
    "<font color='#21618c'><b>\n",
    "In the example we used, there were two features. However, this code would work with any number of features. We would just have to make sure that the number of entries in <code>beta</code> is one greater than the number of features (which is equal to the number of columns in <code>X</code>). \n",
    "</b></font>\n"
   ]
  },
  {
   "cell_type": "markdown",
   "metadata": {},
   "source": [
    "## Alternate Method: Finding y_hat Using Loops\n",
    "\n",
    "<p>\n",
    "<font color='#21618c'><b>\n",
    "It is possible to calculate the elements of <code>y_hat</code> one at a time, using a for loop. This approach requires a bit more code, and more importantly, runs slower than using numpy operations. However, for completeness, we will also illustrate this method. \n",
    "</b></font>\n"
   ]
  },
  {
   "cell_type": "code",
   "execution_count": 6,
   "metadata": {},
   "outputs": [
    {
     "name": "stdout",
     "output_type": "stream",
     "text": [
      "[ 50.  48.  66.  67.  58.]\n"
     ]
    }
   ],
   "source": [
    "y_hat = []\n",
    "\n",
    "for i in range(X.shape[0]):\n",
    "    temp = beta[0] + np.sum(beta[1:]*X[i,:])\n",
    "    y_hat.append(temp)\n",
    "    \n",
    "y_hat = np.array(y_hat)\n",
    "print(y_hat)"
   ]
  },
  {
   "cell_type": "markdown",
   "metadata": {},
   "source": [
    "<p>\n",
    "<font color='#21618c'><b>\n",
    "Let's take a closer look at the following line: \n",
    "</b></font>\n",
    "\n",
    "`temp = beta[0] + np.sum(beta[1:]*X[i,:])`\n",
    "\n",
    "<p>\n",
    "<font color='#21618c'><b>\n",
    "For this particular example, we could have written this line as follows:\n",
    "</b></font>\n",
    "\n",
    "`temp = beta[0] + beta[1]*X[i,0] + beta[2]*X[i,1]`\n",
    "\n",
    "<p>\n",
    "<font color='#21618c'><b>\n",
    "This second line would work for our example, but would NOT work for an example in which there was 1 feature, or for an example with more than 2 features. The first line is more flexible, and would work with any number of features. \n",
    "</b></font>"
   ]
  }
 ],
 "metadata": {
  "kernelspec": {
   "display_name": "Python 3",
   "language": "python",
   "name": "python3"
  },
  "language_info": {
   "codemirror_mode": {
    "name": "ipython",
    "version": 3
   },
   "file_extension": ".py",
   "mimetype": "text/x-python",
   "name": "python",
   "nbconvert_exporter": "python",
   "pygments_lexer": "ipython3",
   "version": "3.6.2"
  }
 },
 "nbformat": 4,
 "nbformat_minor": 2
}
