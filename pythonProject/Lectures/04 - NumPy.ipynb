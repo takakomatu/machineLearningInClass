{
 "cells": [
  {
   "cell_type": "markdown",
   "metadata": {},
   "source": [
    "# Lesson 04 - NumPy\n",
    "\n",
    "### The following topics are discussed in this notebook:\n",
    "* Create NumPy arrays.\n",
    "* Array operations.\n",
    "* Boolean masking. \n",
    "\n",
    "### Additional Resources\n",
    "* [Python Data Science Handbook, Ch 2](https://jakevdp.github.io/PythonDataScienceHandbook/02.00-introduction-to-numpy.html)\n",
    "* [DataCamp: Intro to Python for Data Science, Ch 4](https://www.datacamp.com/courses/intro-to-python-for-data-science)\n",
    "\n",
    "\n",
    "\n"
   ]
  },
  {
   "cell_type": "markdown",
   "metadata": {
    "collapsed": true
   },
   "source": [
    "### Packages \n",
    "A **package** is a pre-built set of functions and data types that can be loaded into a Python session to extend the language's functionality. \n",
    "\n",
    "The following block of code imports the `math` package, which contains many useful mathematical functions and constants. "
   ]
  },
  {
   "cell_type": "code",
   "execution_count": 1,
   "metadata": {
    "collapsed": true
   },
   "outputs": [],
   "source": [
    "import math"
   ]
  },
  {
   "cell_type": "markdown",
   "metadata": {},
   "source": [
    "The `math` packages contains functions the following functions (along with many others):\n",
    "\n",
    "* **`sqrt()`** which is used to calculate the square root of a number. \n",
    "* **`factorial()`** which is used to calculate the factorial of an integer.\n",
    "\n",
    "It also contains an object named `pi` which contains the value of the constant `pi`.\n",
    "\n",
    "To access any of these items within the math package, we much precede its name with `math.`. "
   ]
  },
  {
   "cell_type": "code",
   "execution_count": 2,
   "metadata": {},
   "outputs": [
    {
     "name": "stdout",
     "output_type": "stream",
     "text": [
      "4.47213595499958\n",
      "120\n",
      "3.141592653589793\n"
     ]
    }
   ],
   "source": [
    "print(math.sqrt(20))\n",
    "print(math.factorial(5))\n",
    "print(math.pi)"
   ]
  },
  {
   "cell_type": "markdown",
   "metadata": {
    "scrolled": true
   },
   "source": [
    "When the name of a package is long, it can become tedius to type its entire name every time you wish to use a function from it. Fortunately, we are able to rename packages when we import them. The following code imports the `math` package under the name `mt`. "
   ]
  },
  {
   "cell_type": "code",
   "execution_count": 3,
   "metadata": {
    "collapsed": true
   },
   "outputs": [],
   "source": [
    "import math as mt"
   ]
  },
  {
   "cell_type": "code",
   "execution_count": 4,
   "metadata": {},
   "outputs": [
    {
     "name": "stdout",
     "output_type": "stream",
     "text": [
      "6.324555320336759\n"
     ]
    }
   ],
   "source": [
    "print(mt.sqrt(40))"
   ]
  },
  {
   "cell_type": "markdown",
   "metadata": {},
   "source": [
    "### NumPy\n",
    "\n",
    "**NumPy**, which is short for \"Numerical Python\" is a package that provides additional functionality for performing numerical calculations involving lists. It can greatly simplify certain types of tasks relating to lists that would otherwise require loops. In the next cell, we will import NumPy under the name `np`. "
   ]
  },
  {
   "cell_type": "code",
   "execution_count": 5,
   "metadata": {
    "collapsed": true
   },
   "outputs": [],
   "source": [
    "import numpy as np"
   ]
  },
  {
   "cell_type": "markdown",
   "metadata": {},
   "source": [
    "At the core of NumPy is a new data type called an **array**. Arrays are similar to lists, and in many ways, arrays and lists behave the same. In the following cell, we create a list and an array, each containing the same elements. "
   ]
  },
  {
   "cell_type": "code",
   "execution_count": 6,
   "metadata": {
    "collapsed": true
   },
   "outputs": [],
   "source": [
    "my_list = [4, 1, 7, 3, 5]\n",
    "my_array = np.array([4, 1, 7, 3, 5])"
   ]
  },
  {
   "cell_type": "markdown",
   "metadata": {},
   "source": [
    "In the next few cells, we show that lists and arrays can behave in very similar ways. "
   ]
  },
  {
   "cell_type": "code",
   "execution_count": 7,
   "metadata": {},
   "outputs": [
    {
     "name": "stdout",
     "output_type": "stream",
     "text": [
      "3\n",
      "3\n"
     ]
    }
   ],
   "source": [
    "print(my_list[3])\n",
    "print(my_array[3])"
   ]
  },
  {
   "cell_type": "code",
   "execution_count": 8,
   "metadata": {},
   "outputs": [
    {
     "name": "stdout",
     "output_type": "stream",
     "text": [
      "[4, 1, 7]\n",
      "[4 1 7]\n"
     ]
    }
   ],
   "source": [
    "print(my_list[:3])\n",
    "print(my_array[:3])"
   ]
  },
  {
   "cell_type": "code",
   "execution_count": 9,
   "metadata": {},
   "outputs": [
    {
     "name": "stdout",
     "output_type": "stream",
     "text": [
      "5\n",
      "5\n"
     ]
    }
   ],
   "source": [
    "print(len(my_list))\n",
    "print(len(my_array))"
   ]
  },
  {
   "cell_type": "code",
   "execution_count": 10,
   "metadata": {},
   "outputs": [
    {
     "name": "stdout",
     "output_type": "stream",
     "text": [
      "<class 'list'>\n",
      "<class 'numpy.ndarray'>\n"
     ]
    }
   ],
   "source": [
    "print(type(my_list))\n",
    "print(type(my_array))"
   ]
  },
  {
   "cell_type": "markdown",
   "metadata": {},
   "source": [
    "### Array Operations\n",
    "\n",
    "The difference between arrays and lists is that certain types of operations can be performed more easily on arrays than on lists. Assume that we would like to print out a list/array that contains 5 times the elements in our previously defined list/array. "
   ]
  },
  {
   "cell_type": "code",
   "execution_count": 11,
   "metadata": {},
   "outputs": [
    {
     "name": "stdout",
     "output_type": "stream",
     "text": [
      "[20  5 35 15 25]\n"
     ]
    }
   ],
   "source": [
    "print(5 * my_array)\n"
   ]
  },
  {
   "cell_type": "code",
   "execution_count": 12,
   "metadata": {},
   "outputs": [
    {
     "name": "stdout",
     "output_type": "stream",
     "text": [
      "[4, 1, 7, 3, 5, 4, 1, 7, 3, 5, 4, 1, 7, 3, 5, 4, 1, 7, 3, 5, 4, 1, 7, 3, 5]\n"
     ]
    }
   ],
   "source": [
    "print(5 * my_list)"
   ]
  },
  {
   "cell_type": "code",
   "execution_count": 13,
   "metadata": {},
   "outputs": [
    {
     "ename": "TypeError",
     "evalue": "can't multiply sequence by non-int of type 'float'",
     "output_type": "error",
     "traceback": [
      "\u001b[1;31m---------------------------------------------------------------------------\u001b[0m",
      "\u001b[1;31mTypeError\u001b[0m                                 Traceback (most recent call last)",
      "\u001b[1;32m<ipython-input-13-6020c7c1c140>\u001b[0m in \u001b[0;36m<module>\u001b[1;34m()\u001b[0m\n\u001b[1;32m----> 1\u001b[1;33m \u001b[0mprint\u001b[0m\u001b[1;33m(\u001b[0m\u001b[1;36m5.2\u001b[0m \u001b[1;33m*\u001b[0m \u001b[0mmy_list\u001b[0m\u001b[1;33m)\u001b[0m\u001b[1;33m\u001b[0m\u001b[0m\n\u001b[0m",
      "\u001b[1;31mTypeError\u001b[0m: can't multiply sequence by non-int of type 'float'"
     ]
    }
   ],
   "source": [
    "print(5.2 * my_list)"
   ]
  },
  {
   "cell_type": "code",
   "execution_count": 14,
   "metadata": {},
   "outputs": [
    {
     "name": "stdout",
     "output_type": "stream",
     "text": [
      "[20, 5, 35, 15, 25]\n"
     ]
    }
   ],
   "source": [
    "temp = []\n",
    "for i in range(0, len(my_list)):\n",
    "    temp.append(5 * my_list[i])\n",
    "print(temp)"
   ]
  },
  {
   "cell_type": "markdown",
   "metadata": {},
   "source": [
    "We can perform other types of operations on NumPy arrays:"
   ]
  },
  {
   "cell_type": "code",
   "execution_count": 15,
   "metadata": {},
   "outputs": [
    {
     "name": "stdout",
     "output_type": "stream",
     "text": [
      "[16  1 49  9 25]\n"
     ]
    }
   ],
   "source": [
    "print(my_array ** 2)"
   ]
  },
  {
   "cell_type": "code",
   "execution_count": 16,
   "metadata": {},
   "outputs": [
    {
     "name": "stdout",
     "output_type": "stream",
     "text": [
      "[104 101 107 103 105]\n"
     ]
    }
   ],
   "source": [
    "print(my_array +  100)"
   ]
  },
  {
   "cell_type": "markdown",
   "metadata": {},
   "source": [
    "NumPy also includes a meaningful way to multiply two arrays, as long as they are of the same length. "
   ]
  },
  {
   "cell_type": "code",
   "execution_count": 17,
   "metadata": {},
   "outputs": [
    {
     "name": "stdout",
     "output_type": "stream",
     "text": [
      "[6 9 8]\n"
     ]
    }
   ],
   "source": [
    "array1 = np.array([2,1,4])\n",
    "array2 = np.array([3,9,2])\n",
    "\n",
    "print(array1 * array2)"
   ]
  },
  {
   "cell_type": "code",
   "execution_count": 1,
   "metadata": {},
   "outputs": [
    {
     "ename": "NameError",
     "evalue": "name 'np' is not defined",
     "output_type": "error",
     "traceback": [
      "\u001b[1;31m---------------------------------------------------------------------------\u001b[0m",
      "\u001b[1;31mNameError\u001b[0m                                 Traceback (most recent call last)",
      "\u001b[1;32m<ipython-input-1-9b1c03242e8b>\u001b[0m in \u001b[0;36m<module>\u001b[1;34m()\u001b[0m\n\u001b[1;32m----> 1\u001b[1;33m \u001b[0marray1\u001b[0m \u001b[1;33m=\u001b[0m \u001b[0mnp\u001b[0m\u001b[1;33m.\u001b[0m\u001b[0marray\u001b[0m\u001b[1;33m(\u001b[0m\u001b[1;33m[\u001b[0m\u001b[1;36m2\u001b[0m\u001b[1;33m,\u001b[0m\u001b[1;36m1\u001b[0m\u001b[1;33m,\u001b[0m\u001b[1;36m4\u001b[0m\u001b[1;33m]\u001b[0m\u001b[1;33m)\u001b[0m\u001b[1;33m\u001b[0m\u001b[0m\n\u001b[0m\u001b[0;32m      2\u001b[0m \u001b[0marray2\u001b[0m \u001b[1;33m=\u001b[0m \u001b[0mnp\u001b[0m\u001b[1;33m.\u001b[0m\u001b[0marray\u001b[0m\u001b[1;33m(\u001b[0m\u001b[1;33m[\u001b[0m\u001b[1;36m3\u001b[0m\u001b[1;33m,\u001b[0m\u001b[1;36m9\u001b[0m\u001b[1;33m,\u001b[0m\u001b[1;36m2\u001b[0m\u001b[1;33m,\u001b[0m\u001b[1;36m7\u001b[0m\u001b[1;33m]\u001b[0m\u001b[1;33m)\u001b[0m\u001b[1;33m\u001b[0m\u001b[0m\n\u001b[0;32m      3\u001b[0m \u001b[1;33m\u001b[0m\u001b[0m\n\u001b[0;32m      4\u001b[0m \u001b[0mprint\u001b[0m\u001b[1;33m(\u001b[0m\u001b[0marray1\u001b[0m \u001b[1;33m*\u001b[0m \u001b[0marray2\u001b[0m\u001b[1;33m)\u001b[0m\u001b[1;33m\u001b[0m\u001b[0m\n",
      "\u001b[1;31mNameError\u001b[0m: name 'np' is not defined"
     ]
    }
   ],
   "source": [
    "array1 = np.array([2,1,4])\n",
    "array2 = np.array([3,9,2,7])\n",
    "\n",
    "print(array1 * array2)"
   ]
  },
  {
   "cell_type": "code",
   "execution_count": 19,
   "metadata": {
    "collapsed": true
   },
   "outputs": [],
   "source": [
    "y_actual = [3.1, 4.5, 6.4, 7.2]\n",
    "y_pred = [2.9, 4.4, 6.7, 7.1] # THEY ARE LISTS"
   ]
  },
  {
   "cell_type": "code",
   "execution_count": 23,
   "metadata": {},
   "outputs": [
    {
     "name": "stdout",
     "output_type": "stream",
     "text": [
      "[0.20000000000000018]\n",
      "0.04000000000000007\n",
      "[0.20000000000000018, 0.09999999999999964]\n",
      "0.05\n",
      "[0.20000000000000018, 0.09999999999999964, -0.2999999999999998]\n",
      "0.1399999999999999\n",
      "[0.20000000000000018, 0.09999999999999964, -0.2999999999999998, 0.10000000000000053]\n",
      "0.15000000000000002\n"
     ]
    }
   ],
   "source": [
    "errors = []\n",
    "sse = 0 # sum square error\n",
    "for i in range(0, len(y_actual)):\n",
    "    temp = y_actual[i] - y_pred[i]\n",
    "    errors.append(temp)\n",
    "    sse += temp**2\n",
    "    print(errors)    \n",
    "    print(sse)        "
   ]
  },
  {
   "cell_type": "code",
   "execution_count": 24,
   "metadata": {},
   "outputs": [
    {
     "name": "stdout",
     "output_type": "stream",
     "text": [
      "[ 0.2  0.1 -0.3  0.1]\n",
      "0.15\n"
     ]
    }
   ],
   "source": [
    "y_actual = np.array(y_actual)\n",
    "y_pred = np.array(y_pred)\n",
    "\n",
    "errors = y_actual - y_pred\n",
    "#sse = sum(errors**2) this is also good\n",
    "sse = np.sum(errors**2) \n",
    "print(errors)\n",
    "print(sse)"
   ]
  },
  {
   "cell_type": "markdown",
   "metadata": {},
   "source": [
    "### Boolean Masking"
   ]
  },
  {
   "cell_type": "markdown",
   "metadata": {},
   "source": [
    "**Boolean masking** is a tool for creating subset of NumPy arrays. We will explain this concept in steps.\n",
    "\n",
    "In the cell below, we create two NumPy arrays. The array `bool_array` contains boolean values, while the other, `my_array`, contains numerical values. \n",
    "\n",
    "We will pass `bool_list` to `my_array` as if it were an index, and will store the result in `sub_array`. "
   ]
  },
  {
   "cell_type": "code",
   "execution_count": 25,
   "metadata": {},
   "outputs": [
    {
     "name": "stdout",
     "output_type": "stream",
     "text": [
      "[1 2 4]\n"
     ]
    }
   ],
   "source": [
    "bool_array = np.array([True, True, False, True, False])\n",
    "my_array = np.array([1,2,3,4,5])\n",
    "\n",
    "sub_array = my_array[bool_array]\n",
    "print(sub_array)"
   ]
  },
  {
   "cell_type": "markdown",
   "metadata": {},
   "source": [
    "Unlike lists, we can perform numerical comparisons with arrays. The comparison is carried out for each element of the array, and the result is an array of boolean values, containing the results of each comparison. "
   ]
  },
  {
   "cell_type": "code",
   "execution_count": 24,
   "metadata": {},
   "outputs": [
    {
     "name": "stdout",
     "output_type": "stream",
     "text": [
      "[ True False False  True False False]\n"
     ]
    }
   ],
   "source": [
    "some_array = np.array([4, 7, 6, 3, 9, 8])\n",
    "print(some_array < 5)"
   ]
  },
  {
   "cell_type": "code",
   "execution_count": 25,
   "metadata": {},
   "outputs": [
    {
     "name": "stdout",
     "output_type": "stream",
     "text": [
      "[ True False  True False False  True]\n"
     ]
    }
   ],
   "source": [
    "print(some_array % 2 == 0)"
   ]
  },
  {
   "cell_type": "markdown",
   "metadata": {},
   "source": [
    "We can combine the concept of array comparisons and passing boolean arrays to create subsets of arrays by picking out the elements that satisfy certain conditions. This process is called **boolean masking**. "
   ]
  },
  {
   "cell_type": "code",
   "execution_count": 26,
   "metadata": {},
   "outputs": [
    {
     "name": "stdout",
     "output_type": "stream",
     "text": [
      "[4 6 8]\n"
     ]
    }
   ],
   "source": [
    "sel = some_array % 2 == 0\n",
    "print(some_array[sel])"
   ]
  },
  {
   "cell_type": "code",
   "execution_count": 27,
   "metadata": {
    "scrolled": true
   },
   "outputs": [
    {
     "name": "stdout",
     "output_type": "stream",
     "text": [
      "[7 6 9 8]\n"
     ]
    }
   ],
   "source": [
    "sel = some_array > 5\n",
    "print(some_array[sel])"
   ]
  },
  {
   "cell_type": "code",
   "execution_count": 28,
   "metadata": {},
   "outputs": [
    {
     "name": "stdout",
     "output_type": "stream",
     "text": [
      "[7 6 9 8]\n"
     ]
    }
   ],
   "source": [
    "print(some_array[some_array > 5])"
   ]
  },
  {
   "cell_type": "markdown",
   "metadata": {},
   "source": [
    "### Using Boolean Masks to Count\n",
    "\n",
    "Since Python treats `True` as being equal to 1 and `False` as being equal to 0, we can use the sum function along with Boolean masking to count the number of elements in an array that satisfy a certain critera. "
   ]
  },
  {
   "cell_type": "code",
   "execution_count": 29,
   "metadata": {
    "collapsed": true
   },
   "outputs": [],
   "source": [
    "cat = np.array(['A', 'C', 'A', 'B', 'B', 'C', 'A', 'A' ,'C', 'B', 'C', 'C', 'A', 'B', 'A', 'A'])"
   ]
  },
  {
   "cell_type": "code",
   "execution_count": 35,
   "metadata": {},
   "outputs": [
    {
     "name": "stdout",
     "output_type": "stream",
     "text": [
      "7\n",
      "4\n",
      "5\n"
     ]
    }
   ],
   "source": [
    "print(np.sum(cat == 'A'))\n",
    "print(sum(cat == 'B'))\n",
    "print(sum(cat == 'C'))"
   ]
  },
  {
   "cell_type": "code",
   "execution_count": 36,
   "metadata": {
    "collapsed": true,
    "scrolled": true
   },
   "outputs": [],
   "source": [
    "val = np.array([8, 1, 3, 6, 10, 6, 12, 4, 6, 1, 4, 8, 5, 4, 12, 4])"
   ]
  },
  {
   "cell_type": "code",
   "execution_count": 37,
   "metadata": {
    "scrolled": true
   },
   "outputs": [
    {
     "name": "stdout",
     "output_type": "stream",
     "text": [
      "8\n",
      "7\n",
      "12\n",
      "4\n"
     ]
    }
   ],
   "source": [
    "print(np.sum(val > 5) )\n",
    "print(np.sum(val < 5) )\n",
    "print(np.sum(val % 2 == 0) )\n",
    "print(sum(val % 2 != 0) )"
   ]
  },
  {
   "cell_type": "code",
   "execution_count": 38,
   "metadata": {},
   "outputs": [
    {
     "data": {
      "text/plain": [
       "8"
      ]
     },
     "execution_count": 38,
     "metadata": {},
     "output_type": "execute_result"
    }
   ],
   "source": [
    "sum( (val > 5) & (val % 2 == 0) )"
   ]
  },
  {
   "cell_type": "code",
   "execution_count": 42,
   "metadata": {},
   "outputs": [
    {
     "data": {
      "text/plain": [
       "2"
      ]
     },
     "execution_count": 42,
     "metadata": {},
     "output_type": "execute_result"
    }
   ],
   "source": [
    "sum( (val > 7) & (val % 2 == 0) & (val % 3 == 0))"
   ]
  },
  {
   "cell_type": "markdown",
   "metadata": {},
   "source": [
    "## Random Number Generation"
   ]
  },
  {
   "cell_type": "markdown",
   "metadata": {},
   "source": [
    "We can use NumPy to draw random samples from a set. "
   ]
  },
  {
   "cell_type": "code",
   "execution_count": 46,
   "metadata": {},
   "outputs": [
    {
     "name": "stdout",
     "output_type": "stream",
     "text": [
      "['B' 'A' 'C' 'C' 'A' 'B' 'D' 'A' 'E' 'B']\n"
     ]
    }
   ],
   "source": [
    "sample1 = np.random.choice(['A', 'B', 'C', 'D', 'E'], 10)\n",
    "print(sample1) "
   ]
  },
  {
   "cell_type": "code",
   "execution_count": 49,
   "metadata": {},
   "outputs": [
    {
     "name": "stdout",
     "output_type": "stream",
     "text": [
      "['A' 'E' 'C']\n"
     ]
    }
   ],
   "source": [
    "sample2 = np.random.choice(['A', 'B', 'C', 'D', 'E'], 3, replace=False)\n",
    "print(sample2)"
   ]
  },
  {
   "cell_type": "code",
   "execution_count": 48,
   "metadata": {
    "scrolled": true
   },
   "outputs": [
    {
     "name": "stdout",
     "output_type": "stream",
     "text": [
      "['D']\n"
     ]
    }
   ],
   "source": [
    "sample3 = np.random.choice(['A', 'B', 'C', 'D', 'E'], 1)\n",
    "print(sample3) # return a list"
   ]
  },
  {
   "cell_type": "code",
   "execution_count": 50,
   "metadata": {},
   "outputs": [
    {
     "name": "stdout",
     "output_type": "stream",
     "text": [
      "D\n"
     ]
    }
   ],
   "source": [
    "sample3 = np.random.choice(['A', 'B', 'C', 'D', 'E'])\n",
    "print(sample3) # return a array"
   ]
  },
  {
   "cell_type": "markdown",
   "metadata": {},
   "source": [
    "We can generate random numbers according to a distribution, such as the normal or uniform distribution. "
   ]
  },
  {
   "cell_type": "code",
   "execution_count": 52,
   "metadata": {},
   "outputs": [
    {
     "name": "stdout",
     "output_type": "stream",
     "text": [
      "[ 14.05434383   8.90285961  10.77460891   7.55315462  14.2620902\n",
      "   8.26229843   6.8879158    5.52830994   7.70331564   6.05979708\n",
      "  12.46813057  12.2056303    8.31676938  10.92545616   5.95622732\n",
      "   6.41381503  13.06856928  12.11865923   7.092778    10.06650911]\n"
     ]
    }
   ],
   "source": [
    "x1 = np.random.uniform(5, 15, 20)#from 5 to 15, pick up 20 elements\n",
    "print(x1)"
   ]
  },
  {
   "cell_type": "code",
   "execution_count": 66,
   "metadata": {},
   "outputs": [
    {
     "name": "stdout",
     "output_type": "stream",
     "text": [
      "[ 10.00961716  10.18768154  10.05337806  10.079836     9.96939255\n",
      "  10.03779739   9.9773522    9.81142555  10.2472511    9.98531434\n",
      "  10.01156492  10.13304306  10.01095947  10.02154791  10.04290701\n",
      "   9.88487344  10.15247535  10.03605358   9.9389107   10.0930246 ]\n"
     ]
    }
   ],
   "source": [
    "x2 = np.random.normal(10, .1, 20) #mean 10, std div .1, \n",
    "print(x2)"
   ]
  },
  {
   "cell_type": "markdown",
   "metadata": {},
   "source": [
    "We can set the seed using. `np.random.seed()`."
   ]
  },
  {
   "cell_type": "code",
   "execution_count": 58,
   "metadata": {},
   "outputs": [
    {
     "name": "stdout",
     "output_type": "stream",
     "text": [
      "[  8.25552775  14.91851717  12.90461415  10.3514222   13.88766338\n",
      "  12.90979373  17.35895263  18.31590504   8.69411439   6.55661594\n",
      "   6.52538369  19.7021173   19.02707595  12.28156926   7.1259398\n",
      "  10.57090252  17.56790385  11.7556592    9.55533393  14.58477114]\n"
     ]
    }
   ],
   "source": [
    "np.random.seed(32)\n",
    "x3 = np.random.normal(10,5,20)\n",
    "print(x3)"
   ]
  },
  {
   "cell_type": "code",
   "execution_count": 62,
   "metadata": {},
   "outputs": [
    {
     "name": "stdout",
     "output_type": "stream",
     "text": [
      "[ 10.45602358  15.45641367   0.26514845   3.06825234  -1.48245787\n",
      "  22.04917152  18.63918084  21.02278142  13.9741382   14.88210548\n",
      "   4.08286426  19.58181805   4.383366     6.67982265   8.10820715\n",
      "   6.04192364  14.29774055   8.84605502   9.67169486   8.95681883]\n"
     ]
    }
   ],
   "source": [
    "np.random.seed(8)\n",
    "x3 = np.random.normal(10,5,20)\n",
    "print(x3)"
   ]
  },
  {
   "cell_type": "code",
   "execution_count": 63,
   "metadata": {},
   "outputs": [
    {
     "name": "stdout",
     "output_type": "stream",
     "text": [
      "[ 10.45602358  15.45641367   0.26514845   3.06825234  -1.48245787\n",
      "  22.04917152  18.63918084  21.02278142  13.9741382   14.88210548\n",
      "   4.08286426  19.58181805   4.383366     6.67982265   8.10820715\n",
      "   6.04192364  14.29774055   8.84605502   9.67169486   8.95681883]\n"
     ]
    }
   ],
   "source": [
    "np.random.seed(8)\n",
    "x3 = np.random.normal(10,5,20)\n",
    "print(x3)"
   ]
  },
  {
   "cell_type": "code",
   "execution_count": null,
   "metadata": {
    "collapsed": true
   },
   "outputs": [],
   "source": []
  }
 ],
 "metadata": {
  "kernelspec": {
   "display_name": "Python 3",
   "language": "python",
   "name": "python3"
  },
  "language_info": {
   "codemirror_mode": {
    "name": "ipython",
    "version": 3
   },
   "file_extension": ".py",
   "mimetype": "text/x-python",
   "name": "python",
   "nbconvert_exporter": "python",
   "pygments_lexer": "ipython3",
   "version": "3.6.3"
  }
 },
 "nbformat": 4,
 "nbformat_minor": 2
}
