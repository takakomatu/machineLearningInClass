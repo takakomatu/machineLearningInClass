{
 "cells": [
  {
   "cell_type": "code",
   "execution_count": 2,
   "metadata": {
    "collapsed": true
   },
   "outputs": [],
   "source": [
    "import numpy as np"
   ]
  },
  {
   "cell_type": "markdown",
   "metadata": {},
   "source": [
    "## v01 - Select Points at Random"
   ]
  },
  {
   "cell_type": "code",
   "execution_count": 19,
   "metadata": {
    "collapsed": true
   },
   "outputs": [],
   "source": [
    "class RandomTree:\n",
    "    \n",
    "    def __init__(self, X, y, max_depth=2, depth=0, min_leaf_size=1):\n",
    "        \n",
    "        self.X = np.array(X)\n",
    "        self.y = np.array(y)\n",
    "        self.n = len(y)\n",
    "        self.depth = depth\n",
    "        \n",
    "        # self.classes\n",
    "        # self.class_counts\n",
    "        # self.prediction\n",
    "        # self.gini\n",
    "        \n",
    "        # self.axis\n",
    "        # self.t\n",
    "        \n",
    "        if depth == max_depth:\n",
    "            self.left = None\n",
    "            self.right = None\n",
    "            return\n",
    "        \n",
    "        # Randomly split points\n",
    "        sel = np.random.choice([True, False], self.n)\n",
    "        \n",
    "        self.left = RandomTree(X[sel,:], y[sel], max_depth, depth+1, min_leaf_size)\n",
    "        self.right = RandomTree(X[~sel,:], y[~sel], max_depth, depth+1, min_leaf_size)\n",
    "        \n",
    "    def print_tree(self):\n",
    "        \n",
    "        msg = '  ' * self.depth + '* Size = ' + str(self.n)\n",
    "        print(msg)\n",
    "        \n",
    "        if self.left != None:\n",
    "            self.left.print_tree()\n",
    "            self.right.print_tree()\n",
    "        "
   ]
  },
  {
   "cell_type": "code",
   "execution_count": 12,
   "metadata": {
    "collapsed": true
   },
   "outputs": [],
   "source": [
    "np.random.seed(1)\n",
    "\n",
    "n = 1000\n",
    "X = np.random.uniform(0,10,5*n).reshape(n,5)\n",
    "y = np.random.choice(['a','b','c'], n)"
   ]
  },
  {
   "cell_type": "code",
   "execution_count": 20,
   "metadata": {
    "collapsed": true
   },
   "outputs": [],
   "source": [
    "tree_mod = RandomTree(X, y, max_depth=2)"
   ]
  },
  {
   "cell_type": "code",
   "execution_count": 21,
   "metadata": {},
   "outputs": [
    {
     "name": "stdout",
     "output_type": "stream",
     "text": [
      "* Size = 1000\n",
      "  * Size = 513\n",
      "    * Size = 278\n",
      "    * Size = 235\n",
      "  * Size = 487\n",
      "    * Size = 250\n",
      "    * Size = 237\n"
     ]
    }
   ],
   "source": [
    "tree_mod.print_tree()"
   ]
  },
  {
   "cell_type": "code",
   "execution_count": null,
   "metadata": {
    "collapsed": true
   },
   "outputs": [],
   "source": []
  },
  {
   "cell_type": "code",
   "execution_count": null,
   "metadata": {
    "collapsed": true
   },
   "outputs": [],
   "source": []
  }
 ],
 "metadata": {
  "kernelspec": {
   "display_name": "Python 3",
   "language": "python",
   "name": "python3"
  },
  "language_info": {
   "codemirror_mode": {
    "name": "ipython",
    "version": 3
   },
   "file_extension": ".py",
   "mimetype": "text/x-python",
   "name": "python",
   "nbconvert_exporter": "python",
   "pygments_lexer": "ipython3",
   "version": "3.6.3"
  }
 },
 "nbformat": 4,
 "nbformat_minor": 2
}
