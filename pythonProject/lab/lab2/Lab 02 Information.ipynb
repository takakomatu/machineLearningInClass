{
 "cells": [
  {
   "cell_type": "markdown",
   "metadata": {},
   "source": [
    "## Lab 02 Information"
   ]
  },
  {
   "cell_type": "markdown",
   "metadata": {},
   "source": [
    "In this lab, you will be asked to use scikit-learn to create classification and regression models using a variety of machine learning algorithms. \n",
    "\n",
    "I will provide you with a copy of the [scikit-learn cheatsheet](https://s3.amazonaws.com/assets.datacamp.com/blog_assets/Scikit_Learn_Cheat_Sheet_Python.pdf) during the lab. \n",
    "\n",
    "The following import statements will be provided to you. To use the `plot_regions()` function, you will need to place the file `ClassificationPlotter.py` into the same folder as this notebook.\n",
    "\n",
    "Except where specifically noted below, you will be asked to generate code similar to what is found in this notebook. \n"
   ]
  },
  {
   "cell_type": "code",
   "execution_count": 1,
   "metadata": {},
   "outputs": [
    {
     "ename": "ModuleNotFoundError",
     "evalue": "No module named 'ClassificationPlotter'",
     "output_type": "error",
     "traceback": [
      "\u001b[1;31m---------------------------------------------------------------------------\u001b[0m",
      "\u001b[1;31mModuleNotFoundError\u001b[0m                       Traceback (most recent call last)",
      "\u001b[1;32m<ipython-input-1-cf9f85895bb8>\u001b[0m in \u001b[0;36m<module>\u001b[1;34m()\u001b[0m\n\u001b[0;32m      6\u001b[0m \u001b[1;32mfrom\u001b[0m \u001b[0msklearn\u001b[0m\u001b[1;33m.\u001b[0m\u001b[0msvm\u001b[0m \u001b[1;32mimport\u001b[0m \u001b[0mSVC\u001b[0m\u001b[1;33m,\u001b[0m \u001b[0mSVR\u001b[0m\u001b[1;33m\u001b[0m\u001b[0m\n\u001b[0;32m      7\u001b[0m \u001b[1;32mfrom\u001b[0m \u001b[0msklearn\u001b[0m\u001b[1;33m.\u001b[0m\u001b[0mmodel_selection\u001b[0m \u001b[1;32mimport\u001b[0m \u001b[0mtrain_test_split\u001b[0m\u001b[1;33m\u001b[0m\u001b[0m\n\u001b[1;32m----> 8\u001b[1;33m \u001b[1;32mfrom\u001b[0m \u001b[0mClassificationPlotter\u001b[0m \u001b[1;32mimport\u001b[0m \u001b[0mplot_regions\u001b[0m\u001b[1;33m\u001b[0m\u001b[0m\n\u001b[0m\u001b[0;32m      9\u001b[0m \u001b[1;32mfrom\u001b[0m \u001b[0msklearn\u001b[0m\u001b[1;33m.\u001b[0m\u001b[0mdatasets\u001b[0m \u001b[1;32mimport\u001b[0m \u001b[0mmake_classification\u001b[0m\u001b[1;33m,\u001b[0m \u001b[0mmake_regression\u001b[0m\u001b[1;33m\u001b[0m\u001b[0m\n\u001b[0;32m     10\u001b[0m \u001b[1;32mfrom\u001b[0m \u001b[0msklearn\u001b[0m\u001b[1;33m.\u001b[0m\u001b[0mmetrics\u001b[0m \u001b[1;32mimport\u001b[0m \u001b[0mclassification_report\u001b[0m\u001b[1;33m,\u001b[0m \u001b[0mconfusion_matrix\u001b[0m\u001b[1;33m\u001b[0m\u001b[0m\n",
      "\u001b[1;31mModuleNotFoundError\u001b[0m: No module named 'ClassificationPlotter'"
     ]
    }
   ],
   "source": [
    "import numpy as np\n",
    "import matplotlib.pyplot as plt\n",
    "from sklearn.linear_model import LinearRegression, Lasso, LogisticRegression\n",
    "from sklearn.neighbors import KNeighborsClassifier, KNeighborsRegressor\n",
    "from sklearn.tree import DecisionTreeClassifier, DecisionTreeRegressor\n",
    "from sklearn.svm import SVC, SVR\n",
    "from sklearn.model_selection import train_test_split\n",
    "from ClassificationPlotter import plot_regions\n",
    "from sklearn.datasets import make_classification, make_regression\n",
    "from sklearn.metrics import classification_report, confusion_matrix"
   ]
  },
  {
   "cell_type": "markdown",
   "metadata": {},
   "source": [
    "# Part 1: Classification"
   ]
  },
  {
   "cell_type": "markdown",
   "metadata": {},
   "source": [
    "## Generate Data\n",
    "\n",
    "Code for creating a dataset will be provided to you. "
   ]
  },
  {
   "cell_type": "code",
   "execution_count": null,
   "metadata": {
    "scrolled": false
   },
   "outputs": [],
   "source": [
    "np.random.seed(1467)\n",
    "X, y = make_classification(n_samples=500, n_classes=4, n_features=2, n_informative=2, class_sep=0.8,\n",
    "                           n_redundant=0, n_clusters_per_class=1, )\n",
    "y = y\n",
    "\n",
    "plt.scatter(X[:,0], X[:,1], c=y, edgecolors='k', cmap='rainbow')\n",
    "plt.show()"
   ]
  },
  {
   "cell_type": "markdown",
   "metadata": {},
   "source": [
    "## Create Train/Test Split\n",
    "\n",
    "You will be asked to create a train/test split. You will be told the size to use for the test set. "
   ]
  },
  {
   "cell_type": "code",
   "execution_count": null,
   "metadata": {},
   "outputs": [],
   "source": [
    "X_train, X_test, y_train, y_test = train_test_split(X, y, test_size = 0.2, random_state=1)\n",
    "\n",
    "print(y_train.shape)\n",
    "print(y_test.shape)"
   ]
  },
  {
   "cell_type": "markdown",
   "metadata": {},
   "source": [
    "## Logistic Regression\n",
    "\n",
    "When creating a Logistic Regression mode, there will be no hyper-parameters that you are asked to specify. "
   ]
  },
  {
   "cell_type": "code",
   "execution_count": null,
   "metadata": {},
   "outputs": [],
   "source": [
    "lr_mod = LogisticRegression()\n",
    "lr_mod.fit(X_train, y_train)\n",
    "\n",
    "print('Training Accuracy:', lr_mod.score(X_train, y_train))\n",
    "print('Testing Accuracy:', lr_mod.score(X_test, y_test))"
   ]
  },
  {
   "cell_type": "code",
   "execution_count": null,
   "metadata": {},
   "outputs": [],
   "source": [
    "y_pred_lr = lr_mod.predict(X_test)\n",
    "print(classification_report(y_test, y_pred_lr))"
   ]
  },
  {
   "cell_type": "code",
   "execution_count": null,
   "metadata": {},
   "outputs": [],
   "source": [
    "print(confusion_matrix(y_test, y_pred_lr))"
   ]
  },
  {
   "cell_type": "markdown",
   "metadata": {},
   "source": [
    "I will provide you with code for using the `plot_regions()` function, as in the cell below."
   ]
  },
  {
   "cell_type": "code",
   "execution_count": null,
   "metadata": {},
   "outputs": [],
   "source": [
    "plot_regions(lr_mod, X_train, y_train, num_ticks=200)"
   ]
  },
  {
   "cell_type": "markdown",
   "metadata": {},
   "source": [
    "You will be provided with one or more specific points for which you will asked to generate predictions. "
   ]
  },
  {
   "cell_type": "code",
   "execution_count": 8,
   "metadata": {},
   "outputs": [
    {
     "name": "stdout",
     "output_type": "stream",
     "text": [
      "Prediction for (4,-2.5): [2]\n"
     ]
    }
   ],
   "source": [
    "print('Prediction for (4,-2.5):', lr_mod.predict([[4,-2.5]]))"
   ]
  },
  {
   "cell_type": "markdown",
   "metadata": {},
   "source": [
    "## K-Nearest Neighbors\n",
    "\n",
    "When creating a KNN model, you will be provided with the number of neighbors to use in the algorithm. No other hyper-parameters will be used. "
   ]
  },
  {
   "cell_type": "code",
   "execution_count": 9,
   "metadata": {},
   "outputs": [
    {
     "name": "stdout",
     "output_type": "stream",
     "text": [
      "Training Accuracy: 0.915\n",
      "Testing Accuracy: 0.85\n"
     ]
    }
   ],
   "source": [
    "knn_mod = KNeighborsClassifier(n_neighbors=6)\n",
    "knn_mod.fit(X_train, y_train)\n",
    "\n",
    "print('Training Accuracy:', knn_mod.score(X_train, y_train))\n",
    "print('Testing Accuracy:', knn_mod.score(X_test, y_test))"
   ]
  },
  {
   "cell_type": "code",
   "execution_count": 10,
   "metadata": {},
   "outputs": [
    {
     "name": "stdout",
     "output_type": "stream",
     "text": [
      "             precision    recall  f1-score   support\n",
      "\n",
      "          0       0.79      0.92      0.85        25\n",
      "          1       0.78      0.72      0.75        25\n",
      "          2       1.00      0.92      0.96        26\n",
      "          3       0.83      0.83      0.83        24\n",
      "\n",
      "avg / total       0.85      0.85      0.85       100\n",
      "\n"
     ]
    }
   ],
   "source": [
    "y_pred_knn = knn_mod.predict(X_test)\n",
    "print(classification_report(y_test, y_pred_knn))"
   ]
  },
  {
   "cell_type": "code",
   "execution_count": 11,
   "metadata": {},
   "outputs": [
    {
     "name": "stdout",
     "output_type": "stream",
     "text": [
      "[[23  0  0  2]\n",
      " [ 5 18  0  2]\n",
      " [ 1  1 24  0]\n",
      " [ 0  4  0 20]]\n"
     ]
    }
   ],
   "source": [
    "print(confusion_matrix(y_test, y_pred_knn))"
   ]
  },
  {
   "cell_type": "code",
   "execution_count": 12,
   "metadata": {},
   "outputs": [
    {
     "data": {
      "image/png": "[encoded data removed]",
      "text/plain": [
       "<matplotlib.figure.Figure at 0x1c0175d9198>"
      ]
     },
     "metadata": {},
     "output_type": "display_data"
    }
   ],
   "source": [
    "plot_regions(knn_mod, X_train, y_train, num_ticks=200)"
   ]
  },
  {
   "cell_type": "code",
   "execution_count": 13,
   "metadata": {},
   "outputs": [
    {
     "name": "stdout",
     "output_type": "stream",
     "text": [
      "Prediction for (4,-2.5): [2]\n"
     ]
    }
   ],
   "source": [
    "print('Prediction for (4,-2.5):', knn_mod.predict([[4,-2.5]]))"
   ]
  },
  {
   "cell_type": "markdown",
   "metadata": {},
   "source": [
    "## Decision Tree\n",
    "\n",
    "You will be asked to specifty two parameters for the decision tree model: `max_depth` and `min_samples_leaf`. These values will be provided to you."
   ]
  },
  {
   "cell_type": "code",
   "execution_count": 14,
   "metadata": {},
   "outputs": [
    {
     "name": "stdout",
     "output_type": "stream",
     "text": [
      "Training Accuracy: 0.9075\n",
      "Testing Accuracy: 0.75\n"
     ]
    }
   ],
   "source": [
    "tree_mod = DecisionTreeClassifier(max_depth=6, min_samples_leaf=5)\n",
    "tree_mod.fit(X_train, y_train)\n",
    "\n",
    "print('Training Accuracy:', tree_mod.score(X_train, y_train))\n",
    "print('Testing Accuracy:', tree_mod.score(X_test, y_test))"
   ]
  },
  {
   "cell_type": "code",
   "execution_count": 15,
   "metadata": {},
   "outputs": [
    {
     "name": "stdout",
     "output_type": "stream",
     "text": [
      "             precision    recall  f1-score   support\n",
      "\n",
      "          0       0.69      0.80      0.74        25\n",
      "          1       0.68      0.52      0.59        25\n",
      "          2       0.83      0.92      0.87        26\n",
      "          3       0.78      0.75      0.77        24\n",
      "\n",
      "avg / total       0.75      0.75      0.74       100\n",
      "\n"
     ]
    }
   ],
   "source": [
    "y_pred_tree = tree_mod.predict(X_test)\n",
    "print(classification_report(y_test, y_pred_tree))"
   ]
  },
  {
   "cell_type": "code",
   "execution_count": 16,
   "metadata": {},
   "outputs": [
    {
     "name": "stdout",
     "output_type": "stream",
     "text": [
      "[[20  1  2  2]\n",
      " [ 8 13  1  3]\n",
      " [ 1  1 24  0]\n",
      " [ 0  4  2 18]]\n"
     ]
    }
   ],
   "source": [
    "print(confusion_matrix(y_test, y_pred_tree))"
   ]
  },
  {
   "cell_type": "code",
   "execution_count": 17,
   "metadata": {},
   "outputs": [
    {
     "data": {
      "image/png": "[encoded data removed]",
      "text/plain": [
       "<matplotlib.figure.Figure at 0x1c014131c50>"
      ]
     },
     "metadata": {},
     "output_type": "display_data"
    }
   ],
   "source": [
    "plot_regions(tree_mod, X_train, y_train, num_ticks=200)"
   ]
  },
  {
   "cell_type": "code",
   "execution_count": 18,
   "metadata": {},
   "outputs": [
    {
     "name": "stdout",
     "output_type": "stream",
     "text": [
      "Prediction for (4,-2.5): [2]\n"
     ]
    }
   ],
   "source": [
    "print('Prediction for (4,-2.5):', tree_mod.predict([[4,-2.5]]))"
   ]
  },
  {
   "cell_type": "markdown",
   "metadata": {},
   "source": [
    "## Support Vector Machine\n",
    "\n",
    "For support vector machines, you will be asked to specify a kernel from among the following options: `'linear'`, `'poly'`, or `'rbg'`. \n",
    "\n",
    "For each model, you will be asked to specify the value of `C`, which is the multiplier for the penalties associated with margin violations. \n",
    "\n",
    "For the `poly` kernel, you will be asked to specify a value for the `degree` parameter. \n",
    "\n",
    "For the `rbf` kernel, you will be asked to specify a value for the `gamma` parameter. "
   ]
  },
  {
   "cell_type": "code",
   "execution_count": 19,
   "metadata": {},
   "outputs": [
    {
     "name": "stdout",
     "output_type": "stream",
     "text": [
      "Training Accuracy: 0.9025\n",
      "Testing Accuracy: 0.82\n"
     ]
    }
   ],
   "source": [
    "svm_mod = SVC(kernel='rbf', gamma=0.2, C=100)\n",
    "svm_mod.fit(X_train, y_train)\n",
    "\n",
    "print('Training Accuracy:', svm_mod.score(X_train, y_train))\n",
    "print('Testing Accuracy:', svm_mod.score(X_test, y_test))"
   ]
  },
  {
   "cell_type": "code",
   "execution_count": 20,
   "metadata": {},
   "outputs": [
    {
     "name": "stdout",
     "output_type": "stream",
     "text": [
      "             precision    recall  f1-score   support\n",
      "\n",
      "          0       0.72      0.92      0.81        25\n",
      "          1       0.73      0.64      0.68        25\n",
      "          2       0.92      0.92      0.92        26\n",
      "          3       0.95      0.79      0.86        24\n",
      "\n",
      "avg / total       0.83      0.82      0.82       100\n",
      "\n"
     ]
    }
   ],
   "source": [
    "y_pred_svm = svm_mod.predict(X_test)\n",
    "print(classification_report(y_test, y_pred_svm))"
   ]
  },
  {
   "cell_type": "code",
   "execution_count": 21,
   "metadata": {},
   "outputs": [
    {
     "name": "stdout",
     "output_type": "stream",
     "text": [
      "[[23  0  2  0]\n",
      " [ 8 16  0  1]\n",
      " [ 1  1 24  0]\n",
      " [ 0  5  0 19]]\n"
     ]
    }
   ],
   "source": [
    "print(confusion_matrix(y_test, y_pred_svm))"
   ]
  },
  {
   "cell_type": "code",
   "execution_count": 22,
   "metadata": {
    "scrolled": false
   },
   "outputs": [
    {
     "data": {
      "image/png": "[encoded data removed]",
      "text/plain": [
       "<matplotlib.figure.Figure at 0x1c0176d6550>"
      ]
     },
     "metadata": {},
     "output_type": "display_data"
    }
   ],
   "source": [
    "plot_regions(svm_mod, X_train, y_train, num_ticks=200)"
   ]
  },
  {
   "cell_type": "code",
   "execution_count": 23,
   "metadata": {
    "scrolled": true
   },
   "outputs": [
    {
     "name": "stdout",
     "output_type": "stream",
     "text": [
      "Prediction for (4,-2.5): [1]\n"
     ]
    }
   ],
   "source": [
    "print('Prediction for (4,-2.5):', svm_mod.predict([[4,-2.5]]))"
   ]
  },
  {
   "cell_type": "markdown",
   "metadata": {},
   "source": [
    "# Part 2: Regression"
   ]
  },
  {
   "cell_type": "markdown",
   "metadata": {},
   "source": [
    "## Generate Data\n",
    "\n",
    "As with the classification tasks above, a cell will be provided to you that generates a dataset for use in regression tasks. "
   ]
  },
  {
   "cell_type": "code",
   "execution_count": 24,
   "metadata": {
    "collapsed": true
   },
   "outputs": [],
   "source": [
    "np.random.seed(7438)\n",
    "\n",
    "X = np.random.uniform(0,10,12*1000).reshape(1000,12)\n",
    "y = 5.7 + 2.8*X[:,3] - 0.64*X[:,6]**3 + 0.37*X[:,1]*X[:,9]**2 + np.random.normal(0,10,1000)"
   ]
  },
  {
   "cell_type": "markdown",
   "metadata": {},
   "source": [
    "## Create Train/Test Split\n",
    "\n",
    "You will be asked to create a train/test split. The size of the test set will be provided. "
   ]
  },
  {
   "cell_type": "code",
   "execution_count": 25,
   "metadata": {},
   "outputs": [
    {
     "name": "stdout",
     "output_type": "stream",
     "text": [
      "(800,)\n",
      "(200,)\n"
     ]
    }
   ],
   "source": [
    "X_train, X_test, y_train, y_test = train_test_split(X, y, test_size = 0.2, random_state=1)\n",
    "\n",
    "print(y_train.shape)\n",
    "print(y_test.shape)"
   ]
  },
  {
   "cell_type": "markdown",
   "metadata": {},
   "source": [
    "## Ordinary Least Squares Regression\n",
    "\n",
    "With ordinary least squares regression (i.e. regular linear regression), there are no hyper-parameters to specify. "
   ]
  },
  {
   "cell_type": "code",
   "execution_count": 26,
   "metadata": {},
   "outputs": [
    {
     "name": "stdout",
     "output_type": "stream",
     "text": [
      "Training r-squared: 0.832048257315\n",
      "Testing r-squared: 0.825492841149\n"
     ]
    }
   ],
   "source": [
    "ols_mod = LinearRegression()\n",
    "ols_mod.fit(X_train, y_train)\n",
    "\n",
    "print('Training r-squared:', ols_mod.score(X_train, y_train))\n",
    "print('Testing r-squared:', ols_mod.score(X_test, y_test))"
   ]
  },
  {
   "cell_type": "code",
   "execution_count": 27,
   "metadata": {},
   "outputs": [
    {
     "name": "stdout",
     "output_type": "stream",
     "text": [
      "Model intercept: 36.9705828176\n",
      "Model coefficients: [  0.61249865  13.59900727  -0.54572565   3.31370678  -1.72938841\n",
      "  -0.971654   -55.75426808   0.90021024  -1.935067    19.83695258\n",
      "  -0.90570896  -0.84629906]\n"
     ]
    }
   ],
   "source": [
    "print('Model intercept:', ols_mod.intercept_)\n",
    "print('Model coefficients:', ols_mod.coef_)"
   ]
  },
  {
   "cell_type": "code",
   "execution_count": 28,
   "metadata": {},
   "outputs": [
    {
     "name": "stdout",
     "output_type": "stream",
     "text": [
      "Prediction for p1 and p2: [-308.52241614   25.22614651]\n"
     ]
    }
   ],
   "source": [
    "p1 = [1, 5, 3, 8, 3, 6, 9, 2, 2, 4, 1, 3]\n",
    "p2  = [9, 7, 8, 4, 5, 6, 3, 4, 8, 4, 5, 3]\n",
    "print('Prediction for p1 and p2:', ols_mod.predict([p1, p2]))"
   ]
  },
  {
   "cell_type": "markdown",
   "metadata": {},
   "source": [
    "## Lasso Regression \n",
    "\n",
    "For a lasso regression model, you will need to specify the regularization parameter `alpha`. This provides the weight that is applied to the penalty term associated with having large coefficients. "
   ]
  },
  {
   "cell_type": "code",
   "execution_count": 29,
   "metadata": {},
   "outputs": [
    {
     "name": "stdout",
     "output_type": "stream",
     "text": [
      "Training r-squared: 0.824525830324\n",
      "Testing r-squared: 0.815457835043\n"
     ]
    }
   ],
   "source": [
    "lasso_mod = Lasso(alpha=20)\n",
    "lasso_mod.fit(X_train, y_train)\n",
    "\n",
    "print('Training r-squared:', lasso_mod.score(X_train, y_train))\n",
    "print('Testing r-squared:', lasso_mod.score(X_test, y_test))"
   ]
  },
  {
   "cell_type": "code",
   "execution_count": 30,
   "metadata": {},
   "outputs": [
    {
     "name": "stdout",
     "output_type": "stream",
     "text": [
      "Model intercept: 36.6215374484\n",
      "Model coefficients: [  0.          10.90410195  -0.           0.86650881  -0.          -0.\n",
      " -53.35750527   0.          -0.          17.24763705  -0.          -0.        ]\n"
     ]
    }
   ],
   "source": [
    "print('Model intercept:', lasso_mod.intercept_)\n",
    "print('Model coefficients:', lasso_mod.coef_)"
   ]
  },
  {
   "cell_type": "code",
   "execution_count": 31,
   "metadata": {},
   "outputs": [
    {
     "name": "stdout",
     "output_type": "stream",
     "text": [
      "Prediction for p1 and p2: [-313.15288158   25.33431871]\n"
     ]
    }
   ],
   "source": [
    "p1 = [1, 5, 3, 8, 3, 6, 9, 2, 2, 4, 1, 3]\n",
    "p2  = [9, 7, 8, 4, 5, 6, 3, 4, 8, 4, 5, 3]\n",
    "print('Prediction for p1 and p2:', lasso_mod.predict([p1, p2]))"
   ]
  },
  {
   "cell_type": "markdown",
   "metadata": {},
   "source": [
    "## K-Nearest Neighbors\n",
    "\n",
    "When creating a KNN model, you will be provided with the number of neighbors to use in the algorithm. No other hyper-parameters will be used. "
   ]
  },
  {
   "cell_type": "code",
   "execution_count": 32,
   "metadata": {},
   "outputs": [
    {
     "name": "stdout",
     "output_type": "stream",
     "text": [
      "Training r-squared: 0.767769995199\n",
      "Testing r-squared: 0.741715328452\n"
     ]
    }
   ],
   "source": [
    "knn_mod = KNeighborsRegressor(n_neighbors=10)\n",
    "knn_mod.fit(X_train, y_train)\n",
    "\n",
    "print('Training r-squared:', knn_mod.score(X_train, y_train))\n",
    "print('Testing r-squared:', knn_mod.score(X_test, y_test))\n"
   ]
  },
  {
   "cell_type": "code",
   "execution_count": 33,
   "metadata": {},
   "outputs": [
    {
     "name": "stdout",
     "output_type": "stream",
     "text": [
      "Prediction for p1 and p2: [-228.67443341  -30.27701073]\n"
     ]
    }
   ],
   "source": [
    "p1 = [1, 5, 3, 8, 3, 6, 9, 2, 2, 4, 1, 3]\n",
    "p2  = [9, 7, 8, 4, 5, 6, 3, 4, 8, 4, 5, 3]\n",
    "print('Prediction for p1 and p2:', knn_mod.predict([p1, p2]))"
   ]
  },
  {
   "cell_type": "markdown",
   "metadata": {},
   "source": [
    "## Decision Tree\n",
    "\n",
    "You will be asked to specifty two parameters for the decision tree model: `max_depth` and `min_samples_leaf`. These values will be provided to you."
   ]
  },
  {
   "cell_type": "code",
   "execution_count": 34,
   "metadata": {},
   "outputs": [
    {
     "name": "stdout",
     "output_type": "stream",
     "text": [
      "Training r-squared: 0.989855837816\n",
      "Testing r-squared: 0.962426223062\n"
     ]
    }
   ],
   "source": [
    "rtree_mod = DecisionTreeRegressor(max_depth=8, min_samples_leaf=5)\n",
    "rtree_mod.fit(X_train, y_train)\n",
    "\n",
    "print('Training r-squared:', rtree_mod.score(X_train, y_train))\n",
    "print('Testing r-squared:', rtree_mod.score(X_test, y_test))"
   ]
  },
  {
   "cell_type": "code",
   "execution_count": 35,
   "metadata": {},
   "outputs": [
    {
     "name": "stdout",
     "output_type": "stream",
     "text": [
      "Prediction for p1 and p2: [-458.5925533     3.53394765]\n"
     ]
    }
   ],
   "source": [
    "p1 = [1, 5, 3, 8, 3, 6, 9, 2, 2, 4, 1, 3]\n",
    "p2  = [9, 7, 8, 4, 5, 6, 3, 4, 8, 4, 5, 3]\n",
    "print('Prediction for p1 and p2:', rtree_mod.predict([p1, p2]))"
   ]
  }
 ],
 "metadata": {
  "kernelspec": {
   "display_name": "Python 3",
   "language": "python",
   "name": "python3"
  },
  "language_info": {
   "codemirror_mode": {
    "name": "ipython",
    "version": 3
   },
   "file_extension": ".py",
   "mimetype": "text/x-python",
   "name": "python",
   "nbconvert_exporter": "python",
   "pygments_lexer": "ipython3",
   "version": "3.6.3"
  }
 },
 "nbformat": 4,
 "nbformat_minor": 2
}
