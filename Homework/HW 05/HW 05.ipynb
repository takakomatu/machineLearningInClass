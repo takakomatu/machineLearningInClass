{
 "cells": [
  {
   "cell_type": "markdown",
   "metadata": {},
   "source": [
    "## Homework 05\n",
    "** CSC 19900 - Introduction to Data Science**\n",
    "\n",
    "** Due Monday, Oct. 2**"
   ]
  },
  {
   "cell_type": "markdown",
   "metadata": {},
   "source": [
    "### The Titanic Dataset\n",
    "In this assignment, you will be using `if` statements and `for` loops to study a dataset containing information about the 887 passengers on the first (and last) voyage of the RMS Titanic. Please download the file [titanic.csv](https://lindenwood.instructure.com/courses/24551/files/folder/Homework?preview=11684857) and save it into the same folder as this script.\n",
    "\n",
    "The following code cell loads two packages needed for this assignment, and reads the data from the `titanic.csv` file into our Python session. "
   ]
  },
  {
   "cell_type": "code",
   "execution_count": 1,
   "metadata": {},
   "outputs": [],
   "source": [
    "import pandas as pd\n",
    "import matplotlib.pyplot as plt\n",
    "\n",
    "df = pd.read_csv('titanic.csv')"
   ]
  },
  {
   "cell_type": "markdown",
   "metadata": {},
   "source": [
    "The next cell creates five lists, each with 887 elements:\n",
    "\n",
    "* **`name`** - Contains the names of the titanic passengers.\n",
    "* **`sex`** - Contains the sex of each of the passengers. Each element is either the string `'male'` or the string `'female'`. \n",
    "* **`age`** - Contains the age of each of the passengers, as an integer.\n",
    "* **`pclass`** - Contains the ticket class of each of the passengers. Each element is an integer 1, 2, or 3. Lower numbers indicate a higher class. \n",
    "* **`surv`** - Explains whether each of the passengers lived or died in the disaster. Each element is either a 1, indicating that the passenger survived, or a 0, indicating that the passenger died. \n",
    "\n",
    "Note that any particular index position refers to the same passenger in all three list. In other words, the passenger whose name is in `name[37]` has their sex recorded in `sex[37]`, has their age recorded in `age[37]`, and so on. \n"
   ]
  },
  {
   "cell_type": "code",
   "execution_count": 2,
   "metadata": {},
   "outputs": [],
   "source": [
    "name = list(df['Name']) \n",
    "sex = list(df['Sex'])\n",
    "age = list(df['Age'])\n",
    "pclass = list(df['Pclass'])\n",
    "surv = list(df['Survived'])"
   ]
  },
  {
   "cell_type": "markdown",
   "metadata": {
    "scrolled": true
   },
   "source": [
    "### Part 1 - Age Distribution\n",
    "\n",
    "In Part 1, we will study the distribution of ages of the passengers. In the following cell, create the following nine variables, all of which should initially be set to 0.\n",
    "\n",
    "* `n00s`, `n10s`, `n20s`, `n30s`, `n40s`, `n50s`, `n60s`, `n70s`, `n80s`</center>\n",
    "\n",
    "In the same cell, use a `for` loop and conditional statements to update these variables so that when the cell finishes executing: \n",
    "\n",
    "* `n00s` contains the number of people age 0 - 9.\n",
    "* `n10s` contains the number of people age 10 - 19.\n",
    "* `n20s` contains the number of people age 20 - 29.\n",
    "* `n30s` contains the number of people age 30 - 39.\n",
    "* `n40s` contains the number of people age 40 - 49.\n",
    "* `n50s` contains the number of people age 50 - 59.\n",
    "* `n60s` contains the number of people age 60 - 69.\n",
    "* `n70s` contains the number of people age 70 - 79.\n",
    "* `n80s` contains the number of people age 80 - 89.\n",
    "\n",
    "\n"
   ]
  },
  {
   "cell_type": "code",
   "execution_count": 9,
   "metadata": {},
   "outputs": [],
   "source": [
    "n00s=0\n",
    "n10s=0\n",
    "n20s=0\n",
    "n30s=0\n",
    "n40s=0\n",
    "n50s=0\n",
    "n60s=0\n",
    "n70s=0\n",
    "n80s=0\n",
    "\n",
    "for i in range(0,len(age[:])):\n",
    "    if age[i] <= 9:\n",
    "        n00s+=1\n",
    "    elif age[i] <= 19:\n",
    "        n10s+=1\n",
    "    elif age[i] <= 29:\n",
    "        n20s+=1\n",
    "    elif age[i] <= 39:\n",
    "        n30s+=1\n",
    "    elif age[i] <= 49:\n",
    "        n40s+=1       \n",
    "    elif age[i] <= 59:\n",
    "        n50s+=1       \n",
    "    elif age[i] <= 69:\n",
    "        n60s+=1       \n",
    "    elif age[i] <= 79:\n",
    "        n70s+=1               \n",
    "    elif age[i] <= 89:\n",
    "        n80s+=1                "
   ]
  },
  {
   "cell_type": "markdown",
   "metadata": {},
   "source": [
    "Add the nine variables created above to a list called `ageDist`. Print this list. "
   ]
  },
  {
   "cell_type": "code",
   "execution_count": 10,
   "metadata": {},
   "outputs": [
    {
     "name": "stdout",
     "output_type": "stream",
     "text": [
      "[71, 128, 293, 199, 114, 51, 24, 6, 1]\n"
     ]
    }
   ],
   "source": [
    "ageDist=[n00s, n10s, n20s, n30s, n40s, n50s, n60s, n70s, n80s]\n",
    "print(ageDist)"
   ]
  },
  {
   "cell_type": "markdown",
   "metadata": {},
   "source": [
    "Execute the cell below to create a bar chart describing the distribution of ages of passengers on the titanic. "
   ]
  },
  {
   "cell_type": "code",
   "execution_count": 11,
   "metadata": {},
   "outputs": [
    {
     "data": {
      "image/png": "[encoded data removed]",
      "text/plain": [
       "<matplotlib.figure.Figure at 0x165a972d128>"
      ]
     },
     "metadata": {},
     "output_type": "display_data"
    }
   ],
   "source": [
    "plt.bar(range(9), ageDist )\n",
    "labels = ['00s', '10s', '20s', '30s','40s', '50s', '60s', '70s', '80s']\n",
    "plt.xticks(range(9), labels)\n",
    "plt.xlabel('Age Groups')\n",
    "plt.ylabel('Count')\n",
    "plt.title('Age Distribution')\n",
    "plt.show()"
   ]
  },
  {
   "cell_type": "markdown",
   "metadata": {},
   "source": [
    "### Part 2 - Survival Rates by Gender\n",
    "\n",
    "In Part 2, we will perform an analysis on how the gender of the passengers affected their survival rates. \n",
    "\n",
    "In the cell below, create four variables: `mSurv`, `mTotal`, `fSurv`, `fTotal`. Use a `for` loop, as well as conditional statements to set the values of these four variables so that:\n",
    "\n",
    "* `mSurv` is equal to the number of male passengers that survived the disaster. \n",
    "* `mTotal` is equal to the total number of male passengers onboard the titanic. \n",
    "* `fmSurv` is equal to the number of female passengers that survived the disaster. \n",
    "* `fTotal` is equal to the total number of female passengers onboard the titanic. "
   ]
  },
  {
   "cell_type": "code",
   "execution_count": 21,
   "metadata": {},
   "outputs": [],
   "source": [
    "mSurv=0\n",
    "mTotal=0\n",
    "fmSurv=0\n",
    "fTotal=0\n",
    "for i in range(len(age[:])):\n",
    "    if(sex[i]==\"male\" and surv[i]==1):\n",
    "        mSurv+=1\n",
    "    if(sex[i]==\"male\"):\n",
    "        mTotal+=1\n",
    "    if(sex[i]==\"female\" and surv[i]==1):\n",
    "        fmSurv+=1    \n",
    "    if(sex[i]==\"female\"):\n",
    "        fTotal+=1"
   ]
  },
  {
   "cell_type": "markdown",
   "metadata": {},
   "source": [
    "Define two new variables: `mSurvRate` and `fSurvRate` as follows:\n",
    "\n",
    "* The variable `mSurvRate` should be equal to the proportion of males that survived the disaster, rounded to 4 decimal places.\n",
    "* The variable `fSurvRate` should be equal to the proportion of females that survived the disaster, rounded to 4 decimal places. \n",
    "\n",
    "Print the following two statements, with the appropriate numbers inserted:\n",
    "\n",
    "    The proportion of males who survived the Titanic voyage is equal to [mSurvRate].\n",
    "    The proportion of females who survived the Titanic voyage is equal to [fSurvRate]."
   ]
  },
  {
   "cell_type": "code",
   "execution_count": 23,
   "metadata": {},
   "outputs": [
    {
     "name": "stdout",
     "output_type": "stream",
     "text": [
      "The proportion of males who survived the Titanic voyage is equal to 0.1902\n"
     ]
    }
   ],
   "source": [
    "mSurvRate=round(mSurv / mTotal, 4)\n",
    "fSurvRate=round(fmSurv / fTotal, 4)\n",
    "print(\"The proportion of males who survived the Titanic voyage is equal to \" + str(mSurvRate))"
   ]
  },
  {
   "cell_type": "markdown",
   "metadata": {},
   "source": [
    "Execute the code in the cell below to create a stacked bar chart displaying the survival rates of male and female passengers on the Titanic. "
   ]
  },
  {
   "cell_type": "code",
   "execution_count": 24,
   "metadata": {},
   "outputs": [
    {
     "data": {
      "image/png": "[encoded data removed]",
      "text/plain": [
       "<matplotlib.figure.Figure at 0x165a9b696d8>"
      ]
     },
     "metadata": {},
     "output_type": "display_data"
    }
   ],
   "source": [
    "survRates = [mSurvRate, fSurvRate]\n",
    "deathRates = [1-mSurvRate, 1-fSurvRate]\n",
    "\n",
    "plt.bar(range(2),survRates, label='Survived', color='cornflowerblue')\n",
    "plt.bar(range(2),deathRates, label='Died', bottom=survRates, color='Salmon')\n",
    "plt.legend(loc=\"center left\", bbox_to_anchor=(1.03,0.5))\n",
    "plt.xticks(range(2), ['Male', 'Female'])\n",
    "plt.ylabel('Proportion')\n",
    "plt.title('Survival Rate by Sex')\n",
    "plt.show()"
   ]
  },
  {
   "cell_type": "markdown",
   "metadata": {},
   "source": [
    "### Part 3 - Survival Rates by Passenger Class\n",
    "\n",
    "In Part 3, we will perform an analysis on how the class of the passengers affected their survival rates. \n",
    "\n",
    "In the cell below, create six variables: `c1Surv`, `c1Total`, `c2Surv`, `c2Total`, `c3Surv`, `c3Total`. Use a `for` loop, as well as conditional statements to set the values of these six variables so that:\n",
    "\n",
    "* `c1Surv` is equal to the number of 1st Class passengers that survived the disaster. \n",
    "* `c1Total` is equal to the total number of 1st Class passengers onboard the titanic. \n",
    "* `c2Surv` is equal to the number of 2nd Class passengers that survived the disaster. \n",
    "* `c2Total` is equal to the total number of 2nd Class passengers onboard the titanic. \n",
    "* `c3Surv` is equal to the number of 3rd Class passengers that survived the disaster. \n",
    "* `c3Total` is equal to the total number of 3rd Class passengers onboard the titanic. "
   ]
  },
  {
   "cell_type": "code",
   "execution_count": 27,
   "metadata": {},
   "outputs": [],
   "source": [
    "c1Total=0\n",
    "c1Surv=0\n",
    "c2Surv=0\n",
    "c2Total=0\n",
    "c3Surv=0\n",
    "c3Total=0\n",
    "for i in range(0,len(age[:])):\n",
    "    if(pclass[i]==1):\n",
    "        c1Total+=1\n",
    "        if(surv[i]==1):\n",
    "            c1Surv+=1\n",
    "    if(pclass[i]==2):\n",
    "        c2Total+=1\n",
    "        if(surv[i]==1):\n",
    "            c2Surv+=1\n",
    "    if(pclass[i]==3):\n",
    "        c3Total+=1\n",
    "        if(surv[i]==1):\n",
    "            c3Surv+=1\n",
    "    "
   ]
  },
  {
   "cell_type": "markdown",
   "metadata": {},
   "source": [
    "Define three new variables: `c1SurvRate`, `c2SurvRate`, and `c3SurvRate` as follows:\n",
    "\n",
    "* The variable `c1SurvRate` should be equal to the proportion of 1st Class passengers that survived the disaster, rounded to 4 decimal places.\n",
    "* The variable `c2SurvRate` should be equal to the proportion of 2nd Class passengers that survived the disaster, rounded to 4 decimal places.\n",
    "* The variable `c3SurvRate` should be equal to the proportion of 3rd Class passengers that survived the disaster, rounded to 4 decimal places.\n",
    "\n",
    "Print the following two statements, with the appropriate numbers inserted:\n",
    "\n",
    "    The proportion of 1st Class passengers who survived the Titanic voyage is equal to [c1SurvRate].\n",
    "    The proportion of 2nd Class passengers who survived the Titanic voyage is equal to [c2SurvRate].\n",
    "    The proportion of 3rd Class passengers who survived the Titanic voyage is equal to [c3SurvRate]."
   ]
  },
  {
   "cell_type": "code",
   "execution_count": 29,
   "metadata": {},
   "outputs": [
    {
     "name": "stdout",
     "output_type": "stream",
     "text": [
      "0.6296\n"
     ]
    }
   ],
   "source": [
    "c1SurvRate = round(c1Surv / c1Total,4)\n",
    "print(c1SurvRate)"
   ]
  },
  {
   "cell_type": "markdown",
   "metadata": {},
   "source": [
    "Execute the code in the cell below to create a stacked bar chart displaying the survival rates of 1st, 2nd, and 3rd Class passengers on the Titanic. "
   ]
  },
  {
   "cell_type": "code",
   "execution_count": null,
   "metadata": {
    "collapsed": true
   },
   "outputs": [],
   "source": [
    "survRates_byClass = [c1SurvRate, c2SurvRate, c3SurvRate]\n",
    "deathRates_byClass = [1-c1SurvRate, 1-c2SurvRate, 1-c3SurvRate]\n",
    "\n",
    "plt.bar(range(3),survRates_byClass, label='Survived', color='cornflowerblue')\n",
    "plt.bar(range(3),deathRates_byClass, label='Died', bottom=survRates_byClass, color='Salmon')\n",
    "plt.legend(loc=\"center left\", bbox_to_anchor=(1.03,0.5))\n",
    "plt.xticks(range(3), ['Class 1', 'Class 2', 'Class 3'])\n",
    "plt.ylabel('Proportion')\n",
    "plt.title('Survival Rate by Class')\n",
    "plt.show()"
   ]
  }
 ],
 "metadata": {
  "kernelspec": {
   "display_name": "Python 3",
   "language": "python",
   "name": "python3"
  },
  "language_info": {
   "codemirror_mode": {
    "name": "ipython",
    "version": 3
   },
   "file_extension": ".py",
   "mimetype": "text/x-python",
   "name": "python",
   "nbconvert_exporter": "python",
   "pygments_lexer": "ipython3",
   "version": "3.6.3"
  }
 },
 "nbformat": 4,
 "nbformat_minor": 2
}
