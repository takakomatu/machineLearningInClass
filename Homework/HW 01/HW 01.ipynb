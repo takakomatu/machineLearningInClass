{
 "cells": [
  {
   "cell_type": "markdown",
   "metadata": {},
   "source": [
    "## Homework 01 \n",
    "** CSC 19900 - Introduction to Data Science**\n",
    "\n",
    "** Due Wednesday, Sept. 6**"
   ]
  },
  {
   "cell_type": "markdown",
   "metadata": {},
   "source": [
    "### Part 1\n",
    "Your student id number has the form: A0002xxxyyy\n",
    "In the cell below, define a variable `x` to be equal to the three digit number xxx and define a variable `y` to be equal to the three digit number yyy."
   ]
  },
  {
   "cell_type": "code",
   "execution_count": 10,
   "metadata": {
    "collapsed": true
   },
   "outputs": [],
   "source": [
    "x=111\n",
    "y=112"
   ]
  },
  {
   "cell_type": "markdown",
   "metadata": {},
   "source": [
    "Print the following:\n",
    "* `x + y`\n",
    "* `x - y`\n",
    "* `x * y`\n",
    "* `x / y`"
   ]
  },
  {
   "cell_type": "markdown",
   "metadata": {},
   "source": [
    "Define a boolean variable `b1` to be the result of the comparison `x < y`.\n",
    "\n",
    "Define a boolean variable `b2` to be the result of the comparison `x > y`."
   ]
  },
  {
   "cell_type": "code",
   "execution_count": 11,
   "metadata": {},
   "outputs": [],
   "source": [
    "b1=x<y\n",
    "b2=x>y"
   ]
  },
  {
   "cell_type": "markdown",
   "metadata": {},
   "source": [
    "Print the following sentences, with the appropriate values inserted.\n",
    "* [x] is less than [y]: [True/False]\n",
    "* [x] is greater than [y]: [True/False]"
   ]
  },
  {
   "cell_type": "code",
   "execution_count": 16,
   "metadata": {},
   "outputs": [
    {
     "name": "stdout",
     "output_type": "stream",
     "text": [
      "111 is less than 112:True\n",
      "111 is less than 112: True\n"
     ]
    }
   ],
   "source": [
    "print(str(x) + \" is less than \" + str(y) + \":\" + str(b1))\n",
    "print(str(x) + \" is less than \" + str(y) + \": \" + str(b1))\n"
   ]
  },
  {
   "cell_type": "markdown",
   "metadata": {},
   "source": [
    "### Part 2\n",
    "\n",
    "Define the following variables:\n",
    "* `a` is equal to the last three digits of your student id number\n",
    "* `a2` is equal to `a` squared.\n",
    "* `a3` is equal to `a` cubed.\n",
    "* `a4` is equal to `a` to the fourth."
   ]
  },
  {
   "cell_type": "code",
   "execution_count": null,
   "metadata": {
    "collapsed": true
   },
   "outputs": [],
   "source": []
  },
  {
   "cell_type": "markdown",
   "metadata": {},
   "source": [
    "Print the following sentences, with the appropriate values inserted.\n",
    "* [a] raised to the second power is [a2]\n",
    "* [a] raised to the third power is [a3]\n",
    "* [a] raised to the fourth power is [a4]"
   ]
  },
  {
   "cell_type": "code",
   "execution_count": null,
   "metadata": {
    "collapsed": true
   },
   "outputs": [],
   "source": []
  },
  {
   "cell_type": "markdown",
   "metadata": {},
   "source": [
    "### Part 3\n",
    "\n",
    "Define the following:\n",
    "* `n` contains the string \"na \"\n",
    "* `h` contains the string \"hey \"\n",
    "* `gb` contains the string \"good bye.\"\n"
   ]
  },
  {
   "cell_type": "code",
   "execution_count": null,
   "metadata": {
    "collapsed": true
   },
   "outputs": [],
   "source": []
  },
  {
   "cell_type": "markdown",
   "metadata": {},
   "source": [
    " Define a variable `verse` that contains 8 copies of `n`, 2 copies of `h`, one copy of `gb`, and a newline, in that order. "
   ]
  },
  {
   "cell_type": "code",
   "execution_count": null,
   "metadata": {
    "collapsed": true
   },
   "outputs": [],
   "source": []
  },
  {
   "cell_type": "markdown",
   "metadata": {},
   "source": [
    "Print `verse` four times with a single `print()` statement. "
   ]
  },
  {
   "cell_type": "code",
   "execution_count": null,
   "metadata": {
    "collapsed": true
   },
   "outputs": [],
   "source": []
  }
 ],
 "metadata": {
  "kernelspec": {
   "display_name": "Python 3",
   "language": "python",
   "name": "python3"
  },
  "language_info": {
   "codemirror_mode": {
    "name": "ipython",
    "version": 3
   },
   "file_extension": ".py",
   "mimetype": "text/x-python",
   "name": "python",
   "nbconvert_exporter": "python",
   "pygments_lexer": "ipython3",
   "version": "3.6.3"
  }
 },
 "nbformat": 4,
 "nbformat_minor": 2
}
