{
 "cells": [
  {
   "cell_type": "markdown",
   "metadata": {},
   "source": [
    "## Homework 03\n",
    "** CSC 19900 - Introduction to Data Science**\n",
    "\n",
    "** Due Friday, Sept. 15**"
   ]
  },
  {
   "cell_type": "markdown",
   "metadata": {},
   "source": [
    "### Part 1\n",
    "\n",
    "The following list contains the names of the universities who were original members of the athletic conference now known as the Big Ten, formed in 1896."
   ]
  },
  {
   "cell_type": "code",
   "execution_count": 6,
   "metadata": {
    "collapsed": true
   },
   "outputs": [],
   "source": [
    "Big10 = [\"Illinois\", \"Minnesota\", \"Northwestern\", \"Purdue\", \"Wisconsin\", \"Michigan\", \"Chicago\",\"Ohio State\"]"
   ]
  },
  {
   "cell_type": "markdown",
   "metadata": {},
   "source": [
    "**Indiana** and **Iowa** joined the conference in 1899. Add these to the end of the list. Print `Big10`."
   ]
  },
  {
   "cell_type": "code",
   "execution_count": 7,
   "metadata": {},
   "outputs": [
    {
     "name": "stdout",
     "output_type": "stream",
     "text": [
      "['Illinois', 'Minnesota', 'Northwestern', 'Purdue', 'Wisconsin', 'Michigan', 'Chicago', 'Ohio State', 'Indiana', 'Iowa']\n"
     ]
    }
   ],
   "source": [
    "Big10.append(\"Indiana\")\n",
    "Big10.append(\"Iowa\")\n",
    "print(Big10)"
   ]
  },
  {
   "cell_type": "markdown",
   "metadata": {},
   "source": [
    "**Michigan** left the conference in 1907. Remove it from the list. Print `Big10`. "
   ]
  },
  {
   "cell_type": "code",
   "execution_count": 8,
   "metadata": {},
   "outputs": [
    {
     "name": "stdout",
     "output_type": "stream",
     "text": [
      "['Illinois', 'Minnesota', 'Northwestern', 'Purdue', 'Wisconsin', 'Chicago', 'Ohio State', 'Indiana', 'Iowa']\n"
     ]
    }
   ],
   "source": [
    "Big10.remove(\"Michigan\")\n",
    "print(Big10)"
   ]
  },
  {
   "cell_type": "markdown",
   "metadata": {},
   "source": [
    "**Ohio State** joined in 1912. Add it to the end of the list. Print `Big10`."
   ]
  },
  {
   "cell_type": "code",
   "execution_count": 9,
   "metadata": {},
   "outputs": [
    {
     "name": "stdout",
     "output_type": "stream",
     "text": [
      "['Illinois', 'Minnesota', 'Northwestern', 'Purdue', 'Wisconsin', 'Chicago', 'Indiana', 'Iowa']\n"
     ]
    }
   ],
   "source": [
    "Big10.remove(\"Ohio State\")\n",
    "print(Big10)"
   ]
  },
  {
   "cell_type": "markdown",
   "metadata": {},
   "source": [
    "**Michigan** returned to the conference in 1817. Add it back to the list in its original position. Print `Big10`."
   ]
  },
  {
   "cell_type": "code",
   "execution_count": 10,
   "metadata": {},
   "outputs": [
    {
     "name": "stdout",
     "output_type": "stream",
     "text": [
      "['Illinois', 'Minnesota', 'Northwestern', 'Purdue', 'Wisconsin', 'Michigan', 'Chicago', 'Indiana', 'Iowa']\n"
     ]
    }
   ],
   "source": [
    "Big10.insert(5, \"Michigan\")\n",
    "print(Big10)"
   ]
  },
  {
   "cell_type": "markdown",
   "metadata": {},
   "source": [
    "**Chicago** left in 1946. Remove it from the list. Print `Big10`. "
   ]
  },
  {
   "cell_type": "code",
   "execution_count": 12,
   "metadata": {},
   "outputs": [
    {
     "name": "stdout",
     "output_type": "stream",
     "text": [
      "['Illinois', 'Minnesota', 'Northwestern', 'Purdue', 'Wisconsin', 'Michigan', 'Indiana', 'Iowa']\n"
     ]
    }
   ],
   "source": [
    "Big10.remove(\"Chicago\")\n",
    "print(Big10)"
   ]
  },
  {
   "cell_type": "markdown",
   "metadata": {},
   "source": [
    "Since 1950, **Michigan State**, **Penn State**, **Nebraska**, **Maryland**, and **Rutgers** have all joined the conference. Add them to the end of the list in that order. Print `Big10`."
   ]
  },
  {
   "cell_type": "code",
   "execution_count": null,
   "metadata": {
    "collapsed": true
   },
   "outputs": [],
   "source": []
  },
  {
   "cell_type": "markdown",
   "metadata": {},
   "source": [
    "### Part 2\n",
    "\n",
    "In the cell below, create a variable called `seed` that is equal to the last three digits of your student ID number. Omit any leading zeros. "
   ]
  },
  {
   "cell_type": "code",
   "execution_count": 13,
   "metadata": {
    "collapsed": true
   },
   "outputs": [],
   "source": [
    "seed = 538"
   ]
  },
  {
   "cell_type": "markdown",
   "metadata": {},
   "source": [
    "The code in the cell below creates a random list of integers called `myList`. The length of `myList` is a randomly generated even number. Run this cell as is."
   ]
  },
  {
   "cell_type": "code",
   "execution_count": 14,
   "metadata": {
    "collapsed": true
   },
   "outputs": [],
   "source": [
    "import numpy as np\n",
    "np.random.seed(seed)\n",
    "my_list = list(np.random.choice(1000, 2*np.random.randint(150,250), replace=False))"
   ]
  },
  {
   "cell_type": "markdown",
   "metadata": {
    "collapsed": true
   },
   "source": [
    "Print the smallest and largest elements of `my_list`."
   ]
  },
  {
   "cell_type": "code",
   "execution_count": 15,
   "metadata": {},
   "outputs": [
    {
     "name": "stdout",
     "output_type": "stream",
     "text": [
      "1\n"
     ]
    }
   ],
   "source": [
    "print(min(my_list))"
   ]
  },
  {
   "cell_type": "markdown",
   "metadata": {},
   "source": [
    "Create a list called `sorted_list` that contains the values of `my_list` in increasing order. Do not alter `my_list`. **Do not print this list.**"
   ]
  },
  {
   "cell_type": "code",
   "execution_count": 16,
   "metadata": {
    "collapsed": true
   },
   "outputs": [],
   "source": [
    "sorted_list=sorted(my_list)"
   ]
  },
  {
   "cell_type": "markdown",
   "metadata": {},
   "source": [
    "Store the size of the list `my_list` in the variable `n`. **Do not print this variable.**"
   ]
  },
  {
   "cell_type": "code",
   "execution_count": 19,
   "metadata": {
    "collapsed": true
   },
   "outputs": [],
   "source": [
    "n=len(my_list)\n"
   ]
  },
  {
   "cell_type": "markdown",
   "metadata": {},
   "source": [
    "Create two new equally sized lists:\n",
    "* `small_list` should contain the smallest `n/2` elements of `my_list`. \n",
    "* `big_list` should contain the largest `n/2` elements of `my_list`. \n",
    "\n",
    "**Do not print these lists.**"
   ]
  },
  {
   "cell_type": "code",
   "execution_count": 20,
   "metadata": {},
   "outputs": [
    {
     "name": "stdout",
     "output_type": "stream",
     "text": [
      "205\n"
     ]
    }
   ],
   "source": [
    "small_list = sorted_list[:int(n/2)] # y can we do :int(n/2) like this? \n",
    "big_list = sorted_list[int(n/2):]   #????\n",
    "print(len(small_list)) # error when i have len()"
   ]
  },
  {
   "cell_type": "markdown",
   "metadata": {},
   "source": [
    "Print the smallest and largest elements of `small_list`."
   ]
  },
  {
   "cell_type": "code",
   "execution_count": null,
   "metadata": {
    "collapsed": true
   },
   "outputs": [],
   "source": []
  },
  {
   "cell_type": "markdown",
   "metadata": {},
   "source": [
    "Print the smallest and largest elements of `big_list`."
   ]
  },
  {
   "cell_type": "code",
   "execution_count": null,
   "metadata": {
    "collapsed": true
   },
   "outputs": [],
   "source": []
  },
  {
   "cell_type": "markdown",
   "metadata": {},
   "source": [
    "Print the following:\n",
    "1. The total of the elements in `my_list`.\n",
    "2. The total of the elements in `small_list`.\n",
    "3. The total of the elements in `big_list`."
   ]
  },
  {
   "cell_type": "code",
   "execution_count": null,
   "metadata": {
    "collapsed": true
   },
   "outputs": [],
   "source": []
  },
  {
   "cell_type": "markdown",
   "metadata": {},
   "source": [
    "Using a single line of code, print the total of the elements in `my_list`, excluding the first 50 and the last 35 elements. "
   ]
  },
  {
   "cell_type": "code",
   "execution_count": null,
   "metadata": {
    "collapsed": true
   },
   "outputs": [],
   "source": [
    "print(sum(my_list[50,-35]))"
   ]
  }
 ],
 "metadata": {
  "kernelspec": {
   "display_name": "Python 3",
   "language": "python",
   "name": "python3"
  },
  "language_info": {
   "codemirror_mode": {
    "name": "ipython",
    "version": 3
   },
   "file_extension": ".py",
   "mimetype": "text/x-python",
   "name": "python",
   "nbconvert_exporter": "python",
   "pygments_lexer": "ipython3",
   "version": "3.6.3"
  }
 },
 "nbformat": 4,
 "nbformat_minor": 2
}
