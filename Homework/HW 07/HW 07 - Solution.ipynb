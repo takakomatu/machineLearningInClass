{
 "cells": [
  {
   "cell_type": "markdown",
   "metadata": {},
   "source": [
    "## Homework 07\n",
    "** CSC 19900 - Introduction to Data Science**\n",
    "\n",
    "** Due Wednesday, Nov. 8**"
   ]
  },
  {
   "cell_type": "markdown",
   "metadata": {},
   "source": [
    "### Part 0: Import Packages\n",
    "\n",
    "Import the `numpy` and `matplotlib.pyplot` packages under the names `np` and `plt`, respectively."
   ]
  },
  {
   "cell_type": "code",
   "execution_count": 1,
   "metadata": {
    "collapsed": true
   },
   "outputs": [],
   "source": [
    "import numpy as np\n",
    "import matplotlib.pyplot as plt"
   ]
  },
  {
   "cell_type": "markdown",
   "metadata": {},
   "source": [
    "### Part 1: Counting Coin Flipping Streaks\n",
    "\n",
    "Define a function called `flipCoin()` that takes a single parameter `n`, which has a default value of 100. The function should return an array with `n` elements. Each element of the array should be either 'H' or 'T' (representing heads and tails). The elements should be randomly generated, with the two outcomes equally likely. "
   ]
  },
  {
   "cell_type": "code",
   "execution_count": 2,
   "metadata": {
    "collapsed": true
   },
   "outputs": [],
   "source": [
    "def flipCoin(n=100):\n",
    "    return np.random.choice(['H', 'T'], n)"
   ]
  },
  {
   "cell_type": "markdown",
   "metadata": {},
   "source": [
    "Set the seed equal equal to 5 and call the function `flipCoin()` without passing it an argument. Store the result in a variable. Create two more variables: one that is equal to the number of simulated flips that resulted in heads, and one that is equal to the number of simulated flips that resulted in tails. Then print the following two messages, with the bracketed expressions replaces with the appropriate numerical values. \n",
    "\n",
    "    The number of flips that resulted in heads is [count of heads]. \n",
    "    The number of flips that resulted in tails is [count of tails]. "
   ]
  },
  {
   "cell_type": "code",
   "execution_count": 3,
   "metadata": {},
   "outputs": [
    {
     "name": "stdout",
     "output_type": "stream",
     "text": [
      "46\n",
      "54\n"
     ]
    }
   ],
   "source": [
    "np.random.seed(5)\n",
    "flips = flipCoin()\n",
    "print(sum(flips == 'H'))\n",
    "print(sum(flips == 'T'))"
   ]
  },
  {
   "cell_type": "markdown",
   "metadata": {},
   "source": [
    "Perform the following steps in the next cell:\n",
    "1. Set the seed equal to 5.\n",
    "2. Call `flipCoin()` again, passing it 1000 as an argument. Store the result in `flips`. \n",
    "3. Create an empty list called `streaks`. \n",
    "4. Use a loop to store the lengths of strings of consecutive heads or tails in `flips`. For instances, if `flips` were equal to `['H', 'H', 'T', 'H', 'T', 'T', 'T']`, then `streaks` should be `[2, 1, 1, 3]`.\n",
    "5. Print the size of the largest streak. If your code is correct, this should be 8. \n",
    "\n",
    "Hint: Create a variable called `count`. Loop over the elements of `flips`. If a particular element is equal to the previous one, then increment `count` and move on. Otherwise, add the current count to `streaks` and then reset the count. "
   ]
  },
  {
   "cell_type": "code",
   "execution_count": 4,
   "metadata": {
    "scrolled": true
   },
   "outputs": [
    {
     "name": "stdout",
     "output_type": "stream",
     "text": [
      "8\n"
     ]
    }
   ],
   "source": [
    "np.random.seed(5)\n",
    "flips = flipCoin(1000)\n",
    "\n",
    "streaks = []\n",
    "\n",
    "count = 1\n",
    "\n",
    "for i in range(1, len(flips)):\n",
    "    if(flips[i] == flips[i-1]):\n",
    "        count += 1\n",
    "    else: \n",
    "        streaks.append(count)\n",
    "        count = 1\n",
    "        \n",
    "streaks.append(count)\n",
    "\n",
    "print(max(streaks))"
   ]
  },
  {
   "cell_type": "markdown",
   "metadata": {},
   "source": [
    "Perform the following steps in the next cell:\n",
    "1. Convert `streaks` to a numpy array. \n",
    "2. Create a list called `streakDist`. Use a loop to add values to `streakDist` so that the first element counts the number of streaks of length 1, the second element counts the number of streaks of length 2, and so on. \n",
    "3. Create a bar plot graphically representing `streakDist`. The bar plot should have the following properties:\n",
    "  * The `x` axis should be numbered 1 - 8 and should be labeled \"Streak Length\".\n",
    "  * The `y` axis should be labeled \"Count\".\n",
    "  * The plot should be titled \"Distribution of Streak Lengths\". "
   ]
  },
  {
   "cell_type": "code",
   "execution_count": 218,
   "metadata": {},
   "outputs": [
    {
     "data": {
      "image/png": "[encoded data removed]",
      "text/plain": [
       "<matplotlib.figure.Figure at 0x1fc950e7898>"
      ]
     },
     "metadata": {},
     "output_type": "display_data"
    }
   ],
   "source": [
    "streaks = np.array(streaks)\n",
    "streakDist = []\n",
    "for i in range(1, max(streaks) + 1):\n",
    "    streakDist.append(sum(streaks == i))\n",
    "    \n",
    "plt.bar(range(1, max(streaks) + 1), streakDist)\n",
    "plt.xlabel('Streak Length')\n",
    "plt.ylabel('Count')\n",
    "plt.title('Distribution of Streak Lengths')\n",
    "plt.show()"
   ]
  },
  {
   "cell_type": "markdown",
   "metadata": {},
   "source": [
    "### Part 2: Random Walk\n",
    "\n",
    "Create a function called `rWalk2D()` that takes a single parameter `n`, with a default value of 100. The function should generate a 2-Dimensional random walk that starts that the origin (0,0) and takes a total of `n` steps. Each step should adjust the `x` position by an amount selected randomly from the values -1, -0.5, 0, 0.5, or 1. Each step should also asjust the `y` position by an amount randomly selected from the same set of values. \n",
    "\n",
    "The function should return two lists: `xPath` and `yPath`. These lists should store the `x` and `y` coordinates of the points that the walk passed through."
   ]
  },
  {
   "cell_type": "code",
   "execution_count": 7,
   "metadata": {
    "collapsed": true
   },
   "outputs": [],
   "source": [
    "def rWalk2D(n = 100):\n",
    "    steps = [-1,-0.5, 0, 0.5, 1]\n",
    "    xPath = [0]\n",
    "    yPath = [0]\n",
    "    \n",
    "    for i in range(0,n):\n",
    "        xPath.append(xPath[-1] + np.random.choice(steps))\n",
    "        yPath.append(yPath[-1] + np.random.choice(steps))\n",
    "        \n",
    "    return xPath,yPath"
   ]
  },
  {
   "cell_type": "markdown",
   "metadata": {},
   "source": [
    "Set the seed equal to 27 and call `rWalk2D()` with no parameters. Then use the function `plt.plot(x_coord, y_coord)` to plot the path followed by the random walk. "
   ]
  },
  {
   "cell_type": "code",
   "execution_count": 8,
   "metadata": {
    "scrolled": true
   },
   "outputs": [
    {
     "data": {
      "image/png": "[encoded data removed]",
      "text/plain": [
       "<matplotlib.figure.Figure at 0x1e091715e48>"
      ]
     },
     "metadata": {},
     "output_type": "display_data"
    }
   ],
   "source": [
    "np.random.seed(27)\n",
    "x,y = rWalk2D()\n",
    "\n",
    "plt.plot(x,y)\n",
    "plt.show()"
   ]
  },
  {
   "cell_type": "markdown",
   "metadata": {},
   "source": [
    "Complete the following tasks in the next cell:\n",
    "1. Set the seed to 1. \n",
    "2. Create two empty lists, `endX` and `endY`. \n",
    "3. Generate 500 random walks. For each walk, store the `x` and `y` coordinates of the final point of the walk in the lists `endX` and `endY`. \n",
    "4. Use the function `plt.scatter(x_coord,y_coord)` to create a scatter plot of the final points of each of the 500 random walks. "
   ]
  },
  {
   "cell_type": "code",
   "execution_count": 11,
   "metadata": {
    "scrolled": false
   },
   "outputs": [
    {
     "data": {
      "image/png": "[encoded data removed]",
      "text/plain": [
       "<matplotlib.figure.Figure at 0x1e09557afd0>"
      ]
     },
     "metadata": {},
     "output_type": "display_data"
    }
   ],
   "source": [
    "np.random.seed(1)\n",
    "\n",
    "endX = []\n",
    "endY = []\n",
    "\n",
    "for i in range(0,500):\n",
    "    x,y = rWalk2D()\n",
    "    endX.append(x[-1])\n",
    "    endY.append(y[-1])\n",
    "    \n",
    "plt.scatter(endX,endY)\n",
    "plt.show()"
   ]
  },
  {
   "cell_type": "markdown",
   "metadata": {},
   "source": [
    "Complete the following taks in the next cell:\n",
    "1. Create a function called `distance(P,Q)` that returns the distance between points `P` and `Q`. \n",
    "2. Create a list to store the distances between the origin and each of the 500 ending points for the walks generated above. \n",
    "3. Convert the lists of distances into a numpy array. \n",
    "4. Create the following variables, all rounded to 2 decimal places:\n",
    "  * p20 should contain the percentage of walks that ended less than or equal to 20 units away from the origin. \n",
    "  * p40 should contain the percentage of walks that ended more than 20, but less than or equal to 40 units away from the origin. \n",
    "  * p60 should contain the percentage of walks that ended more than 20, but less than or equal to 40 units away from the origin. \n",
    "  * p80 should contain the percentage of walks that ended more than 20, but less than or equal to 40 units away from the origin. \n",
    "  * p100 should contain the percentage of walks that ended more than 20, but less than or equal to 40 units away from the origin. \n",
    "5. Print the following 5 messages, with the brackets expressions replaces with numerical values:\n",
    "\n",
    "    \n",
    "    [p20]% of the walks end within 20 units away from the origin.    \n",
    "    [p40]% of the walks end between 20 and 40 units away from the origin.\n",
    "    [p60]% of the walks end between 40 and 60 units away from the origin.\n",
    "    [p80]% of the walks end between 60 and 80 units away from the origin.\n",
    "    [p100]% of the walks end between 80 and 100 units away from the origin.\n"
   ]
  },
  {
   "cell_type": "code",
   "execution_count": 12,
   "metadata": {},
   "outputs": [
    {
     "name": "stdout",
     "output_type": "stream",
     "text": [
      "98.0% of the walks end within 20 units away from the origin.\n",
      "2.0% of the walks end between 20 and 40 units away from the origin.\n",
      "0.0% of the walks end between 40 and 60 units away from the origin.\n",
      "0.0% of the walks end between 60 and 80 units away from the origin.\n",
      "0.0% of the walks end between 80 and 100 units away from the origin.\n"
     ]
    }
   ],
   "source": [
    "def distance(P,Q):\n",
    "    return ( (P[0] - Q[0])**2 + (P[1] - Q[1])**2 )**0.5\n",
    "\n",
    "distances = []\n",
    "\n",
    "for i in range(0, len(endX)):\n",
    "    temp = distance( [0,0], [endX[i], endY[i]] )\n",
    "    distances.append(temp)\n",
    "\n",
    "distances = np.array(distances)\n",
    "    \n",
    "p20 = round(sum(distances <= 20)/5,2)\n",
    "p40 = round(sum((distances > 20) & (distances <= 40) )/5,2)\n",
    "p60 = round(sum((distances > 40) & (distances <= 60) )/5,2)\n",
    "p80 = round(sum((distances > 60) & (distances <= 80) )/5,2)\n",
    "p100 = round(sum((distances > 80) & (distances <= 100))/5,2)\n",
    "\n",
    "\n",
    "print( str(p20) +  \"% of the walks end within 20 units away from the origin.\")\n",
    "print( str(p40) +  \"% of the walks end between 20 and 40 units away from the origin.\")\n",
    "print( str(p60) +  \"% of the walks end between 40 and 60 units away from the origin.\")\n",
    "print( str(p80) +  \"% of the walks end between 60 and 80 units away from the origin.\")\n",
    "print( str(p100) +  \"% of the walks end between 80 and 100 units away from the origin.\")"
   ]
  }
 ],
 "metadata": {
  "kernelspec": {
   "display_name": "Python 3",
   "language": "python",
   "name": "python3"
  },
  "language_info": {
   "codemirror_mode": {
    "name": "ipython",
    "version": 3
   },
   "file_extension": ".py",
   "mimetype": "text/x-python",
   "name": "python",
   "nbconvert_exporter": "python",
   "pygments_lexer": "ipython3",
   "version": "3.6.2"
  }
 },
 "nbformat": 4,
 "nbformat_minor": 2
}
