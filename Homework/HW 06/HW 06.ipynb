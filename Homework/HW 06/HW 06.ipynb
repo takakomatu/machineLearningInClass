{
 "cells": [
  {
   "cell_type": "markdown",
   "metadata": {},
   "source": [
    "## Homework 06\n",
    "** CSC 19900 - Introduction to Data Science**\n",
    "\n",
    "** Due Monday, Oct. 16**"
   ]
  },
  {
   "cell_type": "markdown",
   "metadata": {},
   "source": [
    "### Part 1: Distance Function\n",
    "\n",
    "Write a function called `distance()` that takes two parameters, `P` and `Q`, which are intended to represent points. The function should return the distance between the points `P` and `Q`. \n",
    "\n",
    "For example, `distance((1,6),(4,10))` should return `5.0`. "
   ]
  },
  {
   "cell_type": "code",
   "execution_count": 2,
   "metadata": {
    "collapsed": true
   },
   "outputs": [],
   "source": []
  },
  {
   "cell_type": "markdown",
   "metadata": {},
   "source": [
    "In the cell below, there is code defining a point `P`, and a list of points `pts`. All points are stored as tuples (rather than lists). \n",
    "\n",
    "Add code that will print the following message for each point Q in pts, with the bracketed expressions replaced with the appropriate values. \n",
    "\n",
    "    The distance from [P] to [Q] is [distance, rounded to 4 decimal places]. "
   ]
  },
  {
   "cell_type": "code",
   "execution_count": 3,
   "metadata": {},
   "outputs": [
    {
     "name": "stdout",
     "output_type": "stream",
     "text": [
      "The distance from (3, -5) to (4, 9) is 14.0357.\n",
      "The distance from (3, -5) to (-4, 7) is 13.8924.\n",
      "The distance from (3, -5) to (2, 1) is 6.0828.\n",
      "The distance from (3, -5) to (6, -4) is 3.1623.\n",
      "The distance from (3, -5) to (8, -3) is 5.3852.\n"
     ]
    }
   ],
   "source": [
    "P = (3, -5)\n",
    "pts = [(4,9), (-4,7), (2,1), (6,-4), (8,-3) ]\n",
    "\n",
    "\n"
   ]
  },
  {
   "cell_type": "markdown",
   "metadata": {},
   "source": [
    "### Part 2: Minimum Distance\n",
    "\n",
    "The cell below defines two lists: `ptsA` and `ptsB`. Given any point in `ptsA` and any point in `ptsB`, we can find the distance between the two points using the `distance()` function defined above.\n",
    "\n",
    "Add code to the cell below that will find two points `A` and `B` such that the following criteria are true:\n",
    "\n",
    "* `A` is chosen from `ptsA` and `B` is chosen from `ptsB`. \n",
    "* The distance between `A` and `B` is less than that of any other two points selected from the two lists. \n",
    "\n",
    "When you have found the two points, print the following message:\n",
    "\n",
    "    The two nearest points are [A] and [B]. The distance between them is [distance, rounded to 4 decimal places]."
   ]
  },
  {
   "cell_type": "code",
   "execution_count": 10,
   "metadata": {},
   "outputs": [
    {
     "name": "stdout",
     "output_type": "stream",
     "text": [
      "The two nearest points are (-13, 8) and (-17, 4). The distance between them is 5.6569.\n"
     ]
    }
   ],
   "source": [
    "ptsA = [(-5, 14), (-12, 11), (2, -9), (-2, 1), (-9, 11), (-13, 8)]\n",
    "ptsB = [(8, 11), (17, -17), (19, -15), (-17, 4), (18, -16), (-16, -14), (19, 11), (18, -1)]\n",
    "\n",
    "curA = ptsA[0]\n",
    "curB = ptsB[0]\n",
    "curMin = distance(curA, curB)\n",
    "\n"
   ]
  },
  {
   "cell_type": "markdown",
   "metadata": {},
   "source": [
    "### Part 3: Hailstone Sequences\n",
    "\n",
    "Let `n` be a positive integer. The **Hailstone Sequence** starting with `n` is a sequence of numbers calculated as follows:\n",
    "\n",
    "* Assume that `x` is a term in the sequence. \n",
    "* If `x` is even, then the next term of the sequence is `x/2`.\n",
    "* If `x` is odd, then the next term of the sequence is `3*x + 1`. \n",
    "* The seqence ends if it hits a term that is equal to 1. \n",
    "\n",
    "For example:\n",
    "* The Hailstone Sequence that begins with 5 is given by: `5, 16, 8, 4, 2, 1`.\n",
    "* The Hailstone Sequence that begins with 6 is given by: `6, 3, 10, 5, 16, 8, 4, 2, 1`.\n",
    "\n",
    "Write a function called `Hailstone()` that takes a single parameter, `n`. The function should return a list that contains the Hailstone Sequence that begins with `n`.\n",
    "\n",
    "For example, the code `Hailstone(5)` should return the list `[5, 16, 8, 4, 2, 1]`. "
   ]
  },
  {
   "cell_type": "code",
   "execution_count": 15,
   "metadata": {
    "collapsed": true
   },
   "outputs": [],
   "source": []
  },
  {
   "cell_type": "markdown",
   "metadata": {},
   "source": [
    "Use a loop to print out the Hailstone sequences for each of the integers 1 - 20. "
   ]
  },
  {
   "cell_type": "code",
   "execution_count": 16,
   "metadata": {},
   "outputs": [
    {
     "name": "stdout",
     "output_type": "stream",
     "text": [
      "[1]\n",
      "[2, 1]\n",
      "[3, 10, 5, 16, 8, 4, 2, 1]\n",
      "[4, 2, 1]\n",
      "[5, 16, 8, 4, 2, 1]\n",
      "[6, 3, 10, 5, 16, 8, 4, 2, 1]\n",
      "[7, 22, 11, 34, 17, 52, 26, 13, 40, 20, 10, 5, 16, 8, 4, 2, 1]\n",
      "[8, 4, 2, 1]\n",
      "[9, 28, 14, 7, 22, 11, 34, 17, 52, 26, 13, 40, 20, 10, 5, 16, 8, 4, 2, 1]\n",
      "[10, 5, 16, 8, 4, 2, 1]\n",
      "[11, 34, 17, 52, 26, 13, 40, 20, 10, 5, 16, 8, 4, 2, 1]\n",
      "[12, 6, 3, 10, 5, 16, 8, 4, 2, 1]\n",
      "[13, 40, 20, 10, 5, 16, 8, 4, 2, 1]\n",
      "[14, 7, 22, 11, 34, 17, 52, 26, 13, 40, 20, 10, 5, 16, 8, 4, 2, 1]\n",
      "[15, 46, 23, 70, 35, 106, 53, 160, 80, 40, 20, 10, 5, 16, 8, 4, 2, 1]\n",
      "[16, 8, 4, 2, 1]\n",
      "[17, 52, 26, 13, 40, 20, 10, 5, 16, 8, 4, 2, 1]\n",
      "[18, 9, 28, 14, 7, 22, 11, 34, 17, 52, 26, 13, 40, 20, 10, 5, 16, 8, 4, 2, 1]\n",
      "[19, 58, 29, 88, 44, 22, 11, 34, 17, 52, 26, 13, 40, 20, 10, 5, 16, 8, 4, 2, 1]\n",
      "[20, 10, 5, 16, 8, 4, 2, 1]\n"
     ]
    }
   ],
   "source": []
  },
  {
   "cell_type": "markdown",
   "metadata": {},
   "source": [
    "### Part 4: Factorial Function\n",
    "\n",
    "Write a function `fact()` that takes a single parameter `n` and returns the value of `n` factorial. "
   ]
  },
  {
   "cell_type": "code",
   "execution_count": 17,
   "metadata": {
    "collapsed": true
   },
   "outputs": [],
   "source": []
  },
  {
   "cell_type": "markdown",
   "metadata": {},
   "source": [
    "Use your function to calculate 8 factorial."
   ]
  },
  {
   "cell_type": "code",
   "execution_count": 18,
   "metadata": {},
   "outputs": [
    {
     "name": "stdout",
     "output_type": "stream",
     "text": [
      "40320\n"
     ]
    }
   ],
   "source": []
  },
  {
   "cell_type": "markdown",
   "metadata": {
    "collapsed": true
   },
   "source": [
    "### Part 5: Calculating exp(x)\n",
    "\n",
    "Write a function called `exp()` that takes a single parameter `x` and returns the following value:\n",
    "\n",
    "$1 + \\frac{x^1}{1!} + \\frac{x^2}{2!} + \\frac{x^3}{3!} + \\frac{x^4}{4!} + ... + \\frac{x^k}{k!}$\n",
    "\n",
    "The last term $\\frac{x^k}{k!}$ in the sum should be the first term encounters that is less than 1/10,000 = 0.0001. \n",
    "\n",
    "You may (and should) use the `fact()` function that you created above. "
   ]
  },
  {
   "cell_type": "code",
   "execution_count": 19,
   "metadata": {
    "collapsed": true
   },
   "outputs": [],
   "source": []
  },
  {
   "cell_type": "markdown",
   "metadata": {},
   "source": [
    "Write a loop that prints the following sentence for each positive number `n` from 0 - 20, with the bracketed expressions replaced as appropriate:\n",
    "    \n",
    "    exp([n]) = [exp(n), rounded to 3 decimal places]\n",
    "    \n",
    "For example, one of your lines should read exactly as follows:\n",
    "\n",
    "    exp(4) = 54.598"
   ]
  },
  {
   "cell_type": "code",
   "execution_count": 23,
   "metadata": {},
   "outputs": [
    {
     "name": "stdout",
     "output_type": "stream",
     "text": [
      "exp(0) = 1\n",
      "exp(1) = 2.718\n",
      "exp(2) = 7.389\n",
      "exp(3) = 20.085\n",
      "exp(4) = 54.598\n",
      "exp(5) = 148.413\n",
      "exp(6) = 403.429\n",
      "exp(7) = 1096.633\n",
      "exp(8) = 2980.958\n",
      "exp(9) = 8103.084\n",
      "exp(10) = 22026.466\n",
      "exp(11) = 59874.142\n",
      "exp(12) = 162754.791\n",
      "exp(13) = 442413.392\n",
      "exp(14) = 1202604.284\n",
      "exp(15) = 3269017.372\n",
      "exp(16) = 8886110.52\n",
      "exp(17) = 24154952.754\n",
      "exp(18) = 65659969.137\n",
      "exp(19) = 178482300.963\n",
      "exp(20) = 485165195.41\n"
     ]
    }
   ],
   "source": []
  }
 ],
 "metadata": {
  "kernelspec": {
   "display_name": "Python 3",
   "language": "python",
   "name": "python3"
  },
  "language_info": {
   "codemirror_mode": {
    "name": "ipython",
    "version": 3
   },
   "file_extension": ".py",
   "mimetype": "text/x-python",
   "name": "python",
   "nbconvert_exporter": "python",
   "pygments_lexer": "ipython3",
   "version": "3.6.3"
  }
 },
 "nbformat": 4,
 "nbformat_minor": 2
}
