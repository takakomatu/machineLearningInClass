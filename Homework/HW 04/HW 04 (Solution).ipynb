{
 "cells": [
  {
   "cell_type": "markdown",
   "metadata": {},
   "source": [
    "## Homework 04 Solution\n",
    "\n",
    "** CSC 19900 - Introduction to Data Science**\n",
    "\n",
    "** Due Friday, Sept. 22**"
   ]
  },
  {
   "cell_type": "markdown",
   "metadata": {},
   "source": [
    "### Part 1 - Fibonacci Sequence\n",
    "\n",
    "The Fibonacci sequence is a sequence of numbers defined as follows:\n",
    "1. The first element of the Fibonacci sequence is 0. \n",
    "2. The second element of the Fibonacci sequence is 1. \n",
    "3. Each later element of the Fibonacci sequence is found by adding to two before it. \n",
    "\n",
    "So, the first 7 elements of the Fibonacci sequence are 0, 1, 1, 2, 3, 5, 8.\n",
    "\n",
    "The list `fib` in the cell below contains the first two elements of the Fibonacci sequence. Use a `for` loop and the `append()` method to extend `fib` to contain exactly 25 elements of the Fibonacci sequence. Print the resulting list. "
   ]
  },
  {
   "cell_type": "code",
   "execution_count": 1,
   "metadata": {},
   "outputs": [
    {
     "name": "stdout",
     "output_type": "stream",
     "text": [
      "[0, 1, 1, 2, 3, 5, 8, 13, 21, 34, 55, 89, 144, 233, 377, 610, 987, 1597, 2584, 4181, 6765, 10946, 17711, 28657, 46368]\n"
     ]
    }
   ],
   "source": [
    "fib = [0, 1]\n",
    "\n",
    "for i in range(0, 23):\n",
    "    nextElement = fib[i] + fib[i+1]\n",
    "    fib.append(nextElement)\n",
    "    \n",
    "print(fib)\n"
   ]
  },
  {
   "cell_type": "markdown",
   "metadata": {},
   "source": [
    "### Part 2 - Factorials\n",
    "\n",
    "The number `n!`, called `n` factorial, is calculated by multiplying together all positive integers less than or equal to `n`. For example: $ 7! = 1 \\cdot 2 \\cdot 3 \\cdot 4 \\cdot 5 \\cdot 6 \\cdot 7 = 5040 $\n",
    "\n",
    "Write a loop that prints the following phrase 20 times, once for each integer `n` between 1 and 20:\n",
    "\n",
    "    [n] factorial is equal to [n!].\n",
    "    \n",
    "The expressions in the square braces should be replaced with the appropriate numerical values. So, for instance, one of your lines should read exactly as follows:\n",
    "\n",
    "    7 factorial is equal to 5040.\n",
    "    \n",
    "**Hint:** Before starting your loop, you might want to define a variable called `nFact` (or something similar). This variable should get changed every time the loop executes. "
   ]
  },
  {
   "cell_type": "code",
   "execution_count": 2,
   "metadata": {
    "scrolled": true
   },
   "outputs": [
    {
     "name": "stdout",
     "output_type": "stream",
     "text": [
      "1 factorial is equal to 1.\n",
      "2 factorial is equal to 2.\n",
      "3 factorial is equal to 6.\n",
      "4 factorial is equal to 24.\n",
      "5 factorial is equal to 120.\n",
      "6 factorial is equal to 720.\n",
      "7 factorial is equal to 5040.\n",
      "8 factorial is equal to 40320.\n",
      "9 factorial is equal to 362880.\n",
      "10 factorial is equal to 3628800.\n",
      "11 factorial is equal to 39916800.\n",
      "12 factorial is equal to 479001600.\n",
      "13 factorial is equal to 6227020800.\n",
      "14 factorial is equal to 87178291200.\n",
      "15 factorial is equal to 1307674368000.\n",
      "16 factorial is equal to 20922789888000.\n",
      "17 factorial is equal to 355687428096000.\n",
      "18 factorial is equal to 6402373705728000.\n",
      "19 factorial is equal to 121645100408832000.\n",
      "20 factorial is equal to 2432902008176640000.\n"
     ]
    }
   ],
   "source": [
    "nFact = 1\n",
    "\n",
    "for n in range(1, 21):\n",
    "    \n",
    "    nFact = nFact * n\n",
    "    \n",
    "    print(str(n) + \" factorial is equal to \" + str(nFact) + \".\")"
   ]
  },
  {
   "cell_type": "markdown",
   "metadata": {},
   "source": [
    "### Part 3 - Calculating Distances\n",
    "\n",
    "The cell below contains two lists, `Q` and `pts`. \n",
    "* The list `Q` contains the `x` and `y` coordinates for a point.\n",
    "* The list `pts` is a list of lists. Each element of `pts` represents the coordinates of a point. "
   ]
  },
  {
   "cell_type": "code",
   "execution_count": 1,
   "metadata": {
    "collapsed": true,
    "scrolled": true
   },
   "outputs": [],
   "source": [
    "Q = [3, 7]\n",
    "pts = [ [4,3], [2,8], [-1,6], [8,-2], [-2,-5], [9,-3], [1,7], [4,-6], [5,-5], [7,2] ]"
   ]
  },
  {
   "cell_type": "markdown",
   "metadata": {},
   "source": [
    "The distance between two points $P_1 = (x_1, y_1)$ and $P_2 = (x_2, y_2)$ can be found using the following formula:\n",
    "\n",
    "$d(P_1,P_2) = \\sqrt{ (x_1 - x_2)^2 + (y_1 - y_2)^2  }$\n",
    "\n",
    "Create an empty list called `distances`. Write a loop that calculates the distance from `Q` to each of the points in `pts`, and stores the results in `distances`. The end result is that `distance[i]` should be the distance from `Q` to the point stored in `pts[i]`. \n",
    "\n",
    "**Hint:** Recall that $\\sqrt{x} = x^{1/2}$."
   ]
  },
  {
   "cell_type": "code",
   "execution_count": 3,
   "metadata": {
    "scrolled": true
   },
   "outputs": [
    {
     "name": "stdout",
     "output_type": "stream",
     "text": [
      "[4.123105625617661, 1.4142135623730951, 4.123105625617661, 10.295630140987, 13.0, 11.661903789690601, 2.0, 13.038404810405298, 12.165525060596439, 6.4031242374328485]\n"
     ]
    }
   ],
   "source": [
    "distances = []\n",
    "\n",
    "for i in range(0, len(pts)):\n",
    "    temp = ( (Q[0] - pts[i][0])**2 + (Q[1] - pts[i][1])**2 )**0.5\n",
    "    distances.append(temp)\n",
    "print(distances)"
   ]
  },
  {
   "cell_type": "markdown",
   "metadata": {},
   "source": [
    "Write a loop that prints the following message 10 times, once for each point in `pts`:\n",
    "\n",
    "    The distance from (3,7) to ([x],[y]) is [dist]. \n",
    "    \n",
    "The expressions in the square braces should be replaces with the appropriate numerical values. "
   ]
  },
  {
   "cell_type": "code",
   "execution_count": 4,
   "metadata": {},
   "outputs": [
    {
     "name": "stdout",
     "output_type": "stream",
     "text": [
      "The distance from (3,7) to (4,3) is 4.123105625617661.\n",
      "The distance from (3,7) to (2,8) is 1.4142135623730951.\n",
      "The distance from (3,7) to (-1,6) is 4.123105625617661.\n",
      "The distance from (3,7) to (8,-2) is 10.295630140987.\n",
      "The distance from (3,7) to (-2,-5) is 13.0.\n",
      "The distance from (3,7) to (9,-3) is 11.661903789690601.\n",
      "The distance from (3,7) to (1,7) is 2.0.\n",
      "The distance from (3,7) to (4,-6) is 13.038404810405298.\n",
      "The distance from (3,7) to (5,-5) is 12.165525060596439.\n",
      "The distance from (3,7) to (7,2) is 6.4031242374328485.\n"
     ]
    }
   ],
   "source": [
    "for i in range(0, len(pts)):\n",
    "    print(\"The distance from (3,7) to (\" + str(pts[i][0]) + \",\" + str(pts[i][1]) + \") is \" + str(distances[i]) + \".\")"
   ]
  },
  {
   "cell_type": "markdown",
   "metadata": {},
   "source": [
    "### Part 4 - Adding Matrices"
   ]
  },
  {
   "cell_type": "markdown",
   "metadata": {},
   "source": [
    "Two lists, `A` and `B` are given below. Each list is a list of lists intended to represent a 3x5 matrix. Each element of either `A` or `B` is intended to represent a row in the corresponding matrix. "
   ]
  },
  {
   "cell_type": "code",
   "execution_count": 2,
   "metadata": {
    "collapsed": true
   },
   "outputs": [],
   "source": [
    "A = [ [13, 43, 28, 22, 41], [17, 39, 46, 16, 21], [41, 34, 31, 25, 14] ]\n",
    "B = [ [35, 29, 43, 21, 31], [48, 26, 19, 17, 23], [32, 34, 24, 16, 27] ]"
   ]
  },
  {
   "cell_type": "markdown",
   "metadata": {},
   "source": [
    "Create an empty list called `AplusB`. Write a nested loop that adds the matrices `A` and `B`, and stores the result in `AplusB`. Each time the outer loop executes, it should calculate a new row of the sum, and should finish by adding this row to `AplusB`. "
   ]
  },
  {
   "cell_type": "code",
   "execution_count": 7,
   "metadata": {},
   "outputs": [
    {
     "name": "stdout",
     "output_type": "stream",
     "text": [
      "[]\n",
      "[[48, 72, 71, 43, 72]]\n",
      "[]\n",
      "[[48, 72, 71, 43, 72], [65, 65, 65, 33, 44]]\n",
      "[]\n",
      "[[48, 72, 71, 43, 72], [65, 65, 65, 33, 44], [73, 68, 55, 41, 41]]\n"
     ]
    }
   ],
   "source": [
    "AplusB = []\n",
    "\n",
    "for i in range(0, 3):\n",
    "    \n",
    "    newRow = []    \n",
    "    print(newRow)\n",
    "    for j in range(0,5):\n",
    "        newRow.append(A[i][j] + B[i][j])\n",
    "        \n",
    "    AplusB.append(newRow)\n",
    "    print(AplusB)"
   ]
  },
  {
   "cell_type": "markdown",
   "metadata": {},
   "source": [
    "Print the rows of the matrix `AplusB`, with each row appearing on its own line. "
   ]
  },
  {
   "cell_type": "code",
   "execution_count": 4,
   "metadata": {},
   "outputs": [
    {
     "name": "stdout",
     "output_type": "stream",
     "text": [
      "[48, 72, 71, 43, 72]\n",
      "[65, 65, 65, 33, 44]\n",
      "[73, 68, 55, 41, 41]\n"
     ]
    }
   ],
   "source": [
    "for row in AplusB:\n",
    "    print(row)"
   ]
  },
  {
   "cell_type": "code",
   "execution_count": null,
   "metadata": {
    "collapsed": true
   },
   "outputs": [],
   "source": []
  },
  {
   "cell_type": "code",
   "execution_count": null,
   "metadata": {
    "collapsed": true
   },
   "outputs": [],
   "source": []
  }
 ],
 "metadata": {
  "kernelspec": {
   "display_name": "Python 3",
   "language": "python",
   "name": "python3"
  },
  "language_info": {
   "codemirror_mode": {
    "name": "ipython",
    "version": 3
   },
   "file_extension": ".py",
   "mimetype": "text/x-python",
   "name": "python",
   "nbconvert_exporter": "python",
   "pygments_lexer": "ipython3",
   "version": "3.6.3"
  }
 },
 "nbformat": 4,
 "nbformat_minor": 2
}
